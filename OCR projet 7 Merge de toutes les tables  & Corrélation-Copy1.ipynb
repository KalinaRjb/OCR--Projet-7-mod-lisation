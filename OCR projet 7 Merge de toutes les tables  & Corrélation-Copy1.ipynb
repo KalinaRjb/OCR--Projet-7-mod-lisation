{
 "cells": [
  {
   "cell_type": "code",
   "execution_count": 1,
   "id": "3db8414a",
   "metadata": {},
   "outputs": [],
   "source": [
    "# Importing libraries\n",
    "import numpy as np\n",
    "import pandas as pd\n",
    "import matplotlib.pyplot as plt\n",
    "import seaborn as sns\n",
    "from pandas_profiling import ProfileReport\n",
    "import scipy as sp\n",
    "from scipy.stats import f_oneway\n",
    "import statsmodels.api as sm\n",
    "from statsmodels.formula.api import ols\n",
    "\n",
    "# visulaisation\n",
    "from matplotlib.pyplot import xticks\n",
    "%matplotlib inline"
   ]
  },
  {
   "cell_type": "markdown",
   "id": "a21de49e",
   "metadata": {},
   "source": [
    "# Merge des tables avec FE"
   ]
  },
  {
   "cell_type": "code",
   "execution_count": 2,
   "id": "b393d804",
   "metadata": {},
   "outputs": [],
   "source": [
    "#Tables pour table finale (avec Feature ingeniering) enlever pd.DataFrame\n",
    "\n",
    "application_train_FE = pd.DataFrame(pd.read_csv('C:/Users/kalin/application_train_FE.csv'))\n",
    "application_test_FE = pd.DataFrame(pd.read_csv('C:/Users/kalin/application_test_FE.csv'))\n",
    "bureau_and_balances_FE = pd.DataFrame(pd.read_csv('C:/Users/kalin/bureau_and_balance_FE.csv'))\n",
    "previous_applications_FE = pd.DataFrame(pd.read_csv('C:/Users/kalin/previous_applications_FE.csv'))\n",
    "pos_cash_FE = pd.DataFrame(pd.read_csv('C:/Users/kalin/pos_cash_FE.csv'))\n",
    "installments_payments_FE = pd.DataFrame(pd.read_csv('C:/Users/kalin/installments_payments_FE.csv'))\n",
    "credit_card_balance_FE = pd.DataFrame(pd.read_csv('C:/Users/kalin/credit_card_balance_FE.csv'))"
   ]
  },
  {
   "cell_type": "code",
   "execution_count": 3,
   "id": "7e8b67af",
   "metadata": {},
   "outputs": [
    {
     "data": {
      "text/html": [
       "<div>\n",
       "<style scoped>\n",
       "    .dataframe tbody tr th:only-of-type {\n",
       "        vertical-align: middle;\n",
       "    }\n",
       "\n",
       "    .dataframe tbody tr th {\n",
       "        vertical-align: top;\n",
       "    }\n",
       "\n",
       "    .dataframe thead th {\n",
       "        text-align: right;\n",
       "    }\n",
       "</style>\n",
       "<table border=\"1\" class=\"dataframe\">\n",
       "  <thead>\n",
       "    <tr style=\"text-align: right;\">\n",
       "      <th></th>\n",
       "      <th>Unnamed: 0</th>\n",
       "      <th>Unnamed: 0.1</th>\n",
       "      <th>SK_ID_CURR</th>\n",
       "      <th>TARGET</th>\n",
       "      <th>CODE_GENDER</th>\n",
       "      <th>FLAG_OWN_CAR</th>\n",
       "      <th>FLAG_OWN_REALTY</th>\n",
       "      <th>DAYS_BIRTH</th>\n",
       "      <th>DAYS_EMPLOYED</th>\n",
       "      <th>DAYS_REGISTRATION</th>\n",
       "      <th>...</th>\n",
       "      <th>ORGANIZATION_TYPE_Transport: type 4</th>\n",
       "      <th>ORGANIZATION_TYPE_University</th>\n",
       "      <th>EMERGENCYSTATE_MODE_Missing</th>\n",
       "      <th>EMERGENCYSTATE_MODE_No</th>\n",
       "      <th>EMERGENCYSTATE_MODE_Yes</th>\n",
       "      <th>DAYS_EMPLOYED_PERC</th>\n",
       "      <th>INCOME_CREDIT_PERC</th>\n",
       "      <th>INCOME_PER_PERSON</th>\n",
       "      <th>ANNUITY_INCOME_PERC</th>\n",
       "      <th>PAYMENT_RATE</th>\n",
       "    </tr>\n",
       "  </thead>\n",
       "  <tbody>\n",
       "    <tr>\n",
       "      <th>0</th>\n",
       "      <td>0</td>\n",
       "      <td>0</td>\n",
       "      <td>100002</td>\n",
       "      <td>1</td>\n",
       "      <td>0</td>\n",
       "      <td>0</td>\n",
       "      <td>0</td>\n",
       "      <td>-9461</td>\n",
       "      <td>-637</td>\n",
       "      <td>-3648.0</td>\n",
       "      <td>...</td>\n",
       "      <td>0</td>\n",
       "      <td>0</td>\n",
       "      <td>0</td>\n",
       "      <td>1</td>\n",
       "      <td>0</td>\n",
       "      <td>0.067329</td>\n",
       "      <td>0.946028</td>\n",
       "      <td>17.627570</td>\n",
       "      <td>0.827812</td>\n",
       "      <td>0.783133</td>\n",
       "    </tr>\n",
       "    <tr>\n",
       "      <th>1</th>\n",
       "      <td>1</td>\n",
       "      <td>1</td>\n",
       "      <td>100003</td>\n",
       "      <td>0</td>\n",
       "      <td>1</td>\n",
       "      <td>0</td>\n",
       "      <td>1</td>\n",
       "      <td>-16765</td>\n",
       "      <td>-1188</td>\n",
       "      <td>-1186.0</td>\n",
       "      <td>...</td>\n",
       "      <td>0</td>\n",
       "      <td>0</td>\n",
       "      <td>0</td>\n",
       "      <td>1</td>\n",
       "      <td>0</td>\n",
       "      <td>0.070862</td>\n",
       "      <td>0.888673</td>\n",
       "      <td>11.383616</td>\n",
       "      <td>0.838217</td>\n",
       "      <td>0.744901</td>\n",
       "    </tr>\n",
       "    <tr>\n",
       "      <th>2</th>\n",
       "      <td>2</td>\n",
       "      <td>2</td>\n",
       "      <td>100004</td>\n",
       "      <td>0</td>\n",
       "      <td>0</td>\n",
       "      <td>1</td>\n",
       "      <td>0</td>\n",
       "      <td>-19046</td>\n",
       "      <td>-225</td>\n",
       "      <td>-4260.0</td>\n",
       "      <td>...</td>\n",
       "      <td>0</td>\n",
       "      <td>0</td>\n",
       "      <td>1</td>\n",
       "      <td>0</td>\n",
       "      <td>0</td>\n",
       "      <td>0.011814</td>\n",
       "      <td>0.941324</td>\n",
       "      <td>16.042621</td>\n",
       "      <td>0.792943</td>\n",
       "      <td>0.746416</td>\n",
       "    </tr>\n",
       "    <tr>\n",
       "      <th>3</th>\n",
       "      <td>3</td>\n",
       "      <td>3</td>\n",
       "      <td>100006</td>\n",
       "      <td>0</td>\n",
       "      <td>1</td>\n",
       "      <td>0</td>\n",
       "      <td>0</td>\n",
       "      <td>-19005</td>\n",
       "      <td>-3039</td>\n",
       "      <td>-9833.0</td>\n",
       "      <td>...</td>\n",
       "      <td>0</td>\n",
       "      <td>0</td>\n",
       "      <td>1</td>\n",
       "      <td>0</td>\n",
       "      <td>0</td>\n",
       "      <td>0.159905</td>\n",
       "      <td>0.933619</td>\n",
       "      <td>10.752690</td>\n",
       "      <td>0.871789</td>\n",
       "      <td>0.813920</td>\n",
       "    </tr>\n",
       "    <tr>\n",
       "      <th>4</th>\n",
       "      <td>4</td>\n",
       "      <td>4</td>\n",
       "      <td>100007</td>\n",
       "      <td>0</td>\n",
       "      <td>0</td>\n",
       "      <td>0</td>\n",
       "      <td>0</td>\n",
       "      <td>-19932</td>\n",
       "      <td>-3038</td>\n",
       "      <td>-4311.0</td>\n",
       "      <td>...</td>\n",
       "      <td>0</td>\n",
       "      <td>0</td>\n",
       "      <td>1</td>\n",
       "      <td>0</td>\n",
       "      <td>0</td>\n",
       "      <td>0.152418</td>\n",
       "      <td>0.890451</td>\n",
       "      <td>16.890609</td>\n",
       "      <td>0.853518</td>\n",
       "      <td>0.760016</td>\n",
       "    </tr>\n",
       "    <tr>\n",
       "      <th>...</th>\n",
       "      <td>...</td>\n",
       "      <td>...</td>\n",
       "      <td>...</td>\n",
       "      <td>...</td>\n",
       "      <td>...</td>\n",
       "      <td>...</td>\n",
       "      <td>...</td>\n",
       "      <td>...</td>\n",
       "      <td>...</td>\n",
       "      <td>...</td>\n",
       "      <td>...</td>\n",
       "      <td>...</td>\n",
       "      <td>...</td>\n",
       "      <td>...</td>\n",
       "      <td>...</td>\n",
       "      <td>...</td>\n",
       "      <td>...</td>\n",
       "      <td>...</td>\n",
       "      <td>...</td>\n",
       "      <td>...</td>\n",
       "      <td>...</td>\n",
       "    </tr>\n",
       "    <tr>\n",
       "      <th>252128</th>\n",
       "      <td>252132</td>\n",
       "      <td>307504</td>\n",
       "      <td>456248</td>\n",
       "      <td>0</td>\n",
       "      <td>1</td>\n",
       "      <td>0</td>\n",
       "      <td>0</td>\n",
       "      <td>-16705</td>\n",
       "      <td>-7258</td>\n",
       "      <td>-9798.0</td>\n",
       "      <td>...</td>\n",
       "      <td>0</td>\n",
       "      <td>0</td>\n",
       "      <td>1</td>\n",
       "      <td>0</td>\n",
       "      <td>0</td>\n",
       "      <td>0.434481</td>\n",
       "      <td>0.939080</td>\n",
       "      <td>17.223182</td>\n",
       "      <td>0.811380</td>\n",
       "      <td>0.761951</td>\n",
       "    </tr>\n",
       "    <tr>\n",
       "      <th>252129</th>\n",
       "      <td>252133</td>\n",
       "      <td>307506</td>\n",
       "      <td>456251</td>\n",
       "      <td>0</td>\n",
       "      <td>0</td>\n",
       "      <td>0</td>\n",
       "      <td>1</td>\n",
       "      <td>-9327</td>\n",
       "      <td>-236</td>\n",
       "      <td>-8456.0</td>\n",
       "      <td>...</td>\n",
       "      <td>0</td>\n",
       "      <td>0</td>\n",
       "      <td>0</td>\n",
       "      <td>1</td>\n",
       "      <td>0</td>\n",
       "      <td>0.025303</td>\n",
       "      <td>0.961386</td>\n",
       "      <td>17.265001</td>\n",
       "      <td>0.854343</td>\n",
       "      <td>0.821354</td>\n",
       "    </tr>\n",
       "    <tr>\n",
       "      <th>252130</th>\n",
       "      <td>252134</td>\n",
       "      <td>307508</td>\n",
       "      <td>456253</td>\n",
       "      <td>0</td>\n",
       "      <td>1</td>\n",
       "      <td>0</td>\n",
       "      <td>0</td>\n",
       "      <td>-14966</td>\n",
       "      <td>-7921</td>\n",
       "      <td>-6737.0</td>\n",
       "      <td>...</td>\n",
       "      <td>0</td>\n",
       "      <td>0</td>\n",
       "      <td>0</td>\n",
       "      <td>1</td>\n",
       "      <td>0</td>\n",
       "      <td>0.529266</td>\n",
       "      <td>0.889158</td>\n",
       "      <td>17.223182</td>\n",
       "      <td>0.863471</td>\n",
       "      <td>0.767762</td>\n",
       "    </tr>\n",
       "    <tr>\n",
       "      <th>252131</th>\n",
       "      <td>252135</td>\n",
       "      <td>307509</td>\n",
       "      <td>456254</td>\n",
       "      <td>1</td>\n",
       "      <td>1</td>\n",
       "      <td>0</td>\n",
       "      <td>0</td>\n",
       "      <td>-11961</td>\n",
       "      <td>-4786</td>\n",
       "      <td>-2562.0</td>\n",
       "      <td>...</td>\n",
       "      <td>0</td>\n",
       "      <td>0</td>\n",
       "      <td>0</td>\n",
       "      <td>1</td>\n",
       "      <td>0</td>\n",
       "      <td>0.400134</td>\n",
       "      <td>0.939779</td>\n",
       "      <td>10.967859</td>\n",
       "      <td>0.822756</td>\n",
       "      <td>0.773209</td>\n",
       "    </tr>\n",
       "    <tr>\n",
       "      <th>252132</th>\n",
       "      <td>252136</td>\n",
       "      <td>307510</td>\n",
       "      <td>456255</td>\n",
       "      <td>0</td>\n",
       "      <td>1</td>\n",
       "      <td>0</td>\n",
       "      <td>1</td>\n",
       "      <td>-16856</td>\n",
       "      <td>-1262</td>\n",
       "      <td>-5128.0</td>\n",
       "      <td>...</td>\n",
       "      <td>0</td>\n",
       "      <td>0</td>\n",
       "      <td>0</td>\n",
       "      <td>1</td>\n",
       "      <td>0</td>\n",
       "      <td>0.074869</td>\n",
       "      <td>0.891579</td>\n",
       "      <td>10.893003</td>\n",
       "      <td>0.902634</td>\n",
       "      <td>0.804769</td>\n",
       "    </tr>\n",
       "  </tbody>\n",
       "</table>\n",
       "<p>252133 rows × 198 columns</p>\n",
       "</div>"
      ],
      "text/plain": [
       "        Unnamed: 0  Unnamed: 0.1  SK_ID_CURR  TARGET  CODE_GENDER  \\\n",
       "0                0             0      100002       1            0   \n",
       "1                1             1      100003       0            1   \n",
       "2                2             2      100004       0            0   \n",
       "3                3             3      100006       0            1   \n",
       "4                4             4      100007       0            0   \n",
       "...            ...           ...         ...     ...          ...   \n",
       "252128      252132        307504      456248       0            1   \n",
       "252129      252133        307506      456251       0            0   \n",
       "252130      252134        307508      456253       0            1   \n",
       "252131      252135        307509      456254       1            1   \n",
       "252132      252136        307510      456255       0            1   \n",
       "\n",
       "        FLAG_OWN_CAR  FLAG_OWN_REALTY  DAYS_BIRTH  DAYS_EMPLOYED  \\\n",
       "0                  0                0       -9461           -637   \n",
       "1                  0                1      -16765          -1188   \n",
       "2                  1                0      -19046           -225   \n",
       "3                  0                0      -19005          -3039   \n",
       "4                  0                0      -19932          -3038   \n",
       "...              ...              ...         ...            ...   \n",
       "252128             0                0      -16705          -7258   \n",
       "252129             0                1       -9327           -236   \n",
       "252130             0                0      -14966          -7921   \n",
       "252131             0                0      -11961          -4786   \n",
       "252132             0                1      -16856          -1262   \n",
       "\n",
       "        DAYS_REGISTRATION  ...  ORGANIZATION_TYPE_Transport: type 4  \\\n",
       "0                 -3648.0  ...                                    0   \n",
       "1                 -1186.0  ...                                    0   \n",
       "2                 -4260.0  ...                                    0   \n",
       "3                 -9833.0  ...                                    0   \n",
       "4                 -4311.0  ...                                    0   \n",
       "...                   ...  ...                                  ...   \n",
       "252128            -9798.0  ...                                    0   \n",
       "252129            -8456.0  ...                                    0   \n",
       "252130            -6737.0  ...                                    0   \n",
       "252131            -2562.0  ...                                    0   \n",
       "252132            -5128.0  ...                                    0   \n",
       "\n",
       "        ORGANIZATION_TYPE_University  EMERGENCYSTATE_MODE_Missing  \\\n",
       "0                                  0                            0   \n",
       "1                                  0                            0   \n",
       "2                                  0                            1   \n",
       "3                                  0                            1   \n",
       "4                                  0                            1   \n",
       "...                              ...                          ...   \n",
       "252128                             0                            1   \n",
       "252129                             0                            0   \n",
       "252130                             0                            0   \n",
       "252131                             0                            0   \n",
       "252132                             0                            0   \n",
       "\n",
       "        EMERGENCYSTATE_MODE_No  EMERGENCYSTATE_MODE_Yes  DAYS_EMPLOYED_PERC  \\\n",
       "0                            1                        0            0.067329   \n",
       "1                            1                        0            0.070862   \n",
       "2                            0                        0            0.011814   \n",
       "3                            0                        0            0.159905   \n",
       "4                            0                        0            0.152418   \n",
       "...                        ...                      ...                 ...   \n",
       "252128                       0                        0            0.434481   \n",
       "252129                       1                        0            0.025303   \n",
       "252130                       1                        0            0.529266   \n",
       "252131                       1                        0            0.400134   \n",
       "252132                       1                        0            0.074869   \n",
       "\n",
       "        INCOME_CREDIT_PERC  INCOME_PER_PERSON  ANNUITY_INCOME_PERC  \\\n",
       "0                 0.946028          17.627570             0.827812   \n",
       "1                 0.888673          11.383616             0.838217   \n",
       "2                 0.941324          16.042621             0.792943   \n",
       "3                 0.933619          10.752690             0.871789   \n",
       "4                 0.890451          16.890609             0.853518   \n",
       "...                    ...                ...                  ...   \n",
       "252128            0.939080          17.223182             0.811380   \n",
       "252129            0.961386          17.265001             0.854343   \n",
       "252130            0.889158          17.223182             0.863471   \n",
       "252131            0.939779          10.967859             0.822756   \n",
       "252132            0.891579          10.893003             0.902634   \n",
       "\n",
       "        PAYMENT_RATE  \n",
       "0           0.783133  \n",
       "1           0.744901  \n",
       "2           0.746416  \n",
       "3           0.813920  \n",
       "4           0.760016  \n",
       "...              ...  \n",
       "252128      0.761951  \n",
       "252129      0.821354  \n",
       "252130      0.767762  \n",
       "252131      0.773209  \n",
       "252132      0.804769  \n",
       "\n",
       "[252133 rows x 198 columns]"
      ]
     },
     "execution_count": 3,
     "metadata": {},
     "output_type": "execute_result"
    }
   ],
   "source": [
    "application_train_FE"
   ]
  },
  {
   "cell_type": "code",
   "execution_count": 4,
   "id": "e5285351",
   "metadata": {},
   "outputs": [],
   "source": [
    "#train \n",
    "df_train_FE = application_train_FE.merge(bureau_and_balances_FE, how='left', on='SK_ID_CURR')\n",
    "df_train_FE = df_train_FE.merge(previous_applications_FE, how='left', on='SK_ID_CURR')\n",
    "df_train_FE = df_train_FE.merge(pos_cash_FE, how='left', on='SK_ID_CURR')\n",
    "df_train_FE = df_train_FE.merge(installments_payments_FE, how='left', on='SK_ID_CURR')\n",
    "df_train_FE = df_train_FE.merge(credit_card_balance_FE, how='left', on='SK_ID_CURR')"
   ]
  },
  {
   "cell_type": "code",
   "execution_count": null,
   "id": "c6167808",
   "metadata": {},
   "outputs": [],
   "source": [
    "#test\n",
    "df_test_FE = application_test_FE.merge(bureau_and_balances_FE, how='left', on='SK_ID_CURR')\n",
    "df_test_FE = df_test_FE.merge(previous_applications_FE, how='left', on='SK_ID_CURR')\n",
    "df_test_FE = df_test_FE.merge(pos_cash_FE, how='left', on='SK_ID_CURR')\n",
    "df_test_FE = df_test_FE.merge(installments_payments_FE, how='left', on='SK_ID_CURR')\n",
    "df_test_FE = df_test_FE.merge(credit_card_balance_FE, how='left', on='SK_ID_CURR')"
   ]
  },
  {
   "cell_type": "code",
   "execution_count": 5,
   "id": "b5bfc60d",
   "metadata": {},
   "outputs": [
    {
     "data": {
      "text/html": [
       "<div>\n",
       "<style scoped>\n",
       "    .dataframe tbody tr th:only-of-type {\n",
       "        vertical-align: middle;\n",
       "    }\n",
       "\n",
       "    .dataframe tbody tr th {\n",
       "        vertical-align: top;\n",
       "    }\n",
       "\n",
       "    .dataframe thead th {\n",
       "        text-align: right;\n",
       "    }\n",
       "</style>\n",
       "<table border=\"1\" class=\"dataframe\">\n",
       "  <thead>\n",
       "    <tr style=\"text-align: right;\">\n",
       "      <th></th>\n",
       "      <th>Unnamed: 0</th>\n",
       "      <th>Unnamed: 0.1</th>\n",
       "      <th>SK_ID_CURR</th>\n",
       "      <th>TARGET</th>\n",
       "      <th>CODE_GENDER</th>\n",
       "      <th>FLAG_OWN_CAR</th>\n",
       "      <th>FLAG_OWN_REALTY</th>\n",
       "      <th>DAYS_BIRTH</th>\n",
       "      <th>DAYS_EMPLOYED</th>\n",
       "      <th>DAYS_REGISTRATION</th>\n",
       "      <th>...</th>\n",
       "      <th>CC_NAME_CONTRACT_STATUS_Signed_MAX</th>\n",
       "      <th>CC_NAME_CONTRACT_STATUS_Signed_MEAN</th>\n",
       "      <th>CC_NAME_CONTRACT_STATUS_Signed_SUM</th>\n",
       "      <th>CC_NAME_CONTRACT_STATUS_Signed_VAR</th>\n",
       "      <th>CC_NAME_CONTRACT_STATUS_nan_MIN</th>\n",
       "      <th>CC_NAME_CONTRACT_STATUS_nan_MAX</th>\n",
       "      <th>CC_NAME_CONTRACT_STATUS_nan_MEAN</th>\n",
       "      <th>CC_NAME_CONTRACT_STATUS_nan_SUM</th>\n",
       "      <th>CC_NAME_CONTRACT_STATUS_nan_VAR</th>\n",
       "      <th>CC_COUNT</th>\n",
       "    </tr>\n",
       "  </thead>\n",
       "  <tbody>\n",
       "    <tr>\n",
       "      <th>0</th>\n",
       "      <td>0</td>\n",
       "      <td>0</td>\n",
       "      <td>100002</td>\n",
       "      <td>1</td>\n",
       "      <td>0</td>\n",
       "      <td>0</td>\n",
       "      <td>0</td>\n",
       "      <td>-9461</td>\n",
       "      <td>-637</td>\n",
       "      <td>-3648.0</td>\n",
       "      <td>...</td>\n",
       "      <td>NaN</td>\n",
       "      <td>NaN</td>\n",
       "      <td>NaN</td>\n",
       "      <td>NaN</td>\n",
       "      <td>NaN</td>\n",
       "      <td>NaN</td>\n",
       "      <td>NaN</td>\n",
       "      <td>NaN</td>\n",
       "      <td>NaN</td>\n",
       "      <td>NaN</td>\n",
       "    </tr>\n",
       "    <tr>\n",
       "      <th>1</th>\n",
       "      <td>1</td>\n",
       "      <td>1</td>\n",
       "      <td>100003</td>\n",
       "      <td>0</td>\n",
       "      <td>1</td>\n",
       "      <td>0</td>\n",
       "      <td>1</td>\n",
       "      <td>-16765</td>\n",
       "      <td>-1188</td>\n",
       "      <td>-1186.0</td>\n",
       "      <td>...</td>\n",
       "      <td>NaN</td>\n",
       "      <td>NaN</td>\n",
       "      <td>NaN</td>\n",
       "      <td>NaN</td>\n",
       "      <td>NaN</td>\n",
       "      <td>NaN</td>\n",
       "      <td>NaN</td>\n",
       "      <td>NaN</td>\n",
       "      <td>NaN</td>\n",
       "      <td>NaN</td>\n",
       "    </tr>\n",
       "    <tr>\n",
       "      <th>2</th>\n",
       "      <td>2</td>\n",
       "      <td>2</td>\n",
       "      <td>100004</td>\n",
       "      <td>0</td>\n",
       "      <td>0</td>\n",
       "      <td>1</td>\n",
       "      <td>0</td>\n",
       "      <td>-19046</td>\n",
       "      <td>-225</td>\n",
       "      <td>-4260.0</td>\n",
       "      <td>...</td>\n",
       "      <td>NaN</td>\n",
       "      <td>NaN</td>\n",
       "      <td>NaN</td>\n",
       "      <td>NaN</td>\n",
       "      <td>NaN</td>\n",
       "      <td>NaN</td>\n",
       "      <td>NaN</td>\n",
       "      <td>NaN</td>\n",
       "      <td>NaN</td>\n",
       "      <td>NaN</td>\n",
       "    </tr>\n",
       "    <tr>\n",
       "      <th>3</th>\n",
       "      <td>3</td>\n",
       "      <td>3</td>\n",
       "      <td>100006</td>\n",
       "      <td>0</td>\n",
       "      <td>1</td>\n",
       "      <td>0</td>\n",
       "      <td>0</td>\n",
       "      <td>-19005</td>\n",
       "      <td>-3039</td>\n",
       "      <td>-9833.0</td>\n",
       "      <td>...</td>\n",
       "      <td>0.0</td>\n",
       "      <td>0.0</td>\n",
       "      <td>0.0</td>\n",
       "      <td>0.0</td>\n",
       "      <td>0.0</td>\n",
       "      <td>0.0</td>\n",
       "      <td>0.0</td>\n",
       "      <td>0.0</td>\n",
       "      <td>0.0</td>\n",
       "      <td>6.0</td>\n",
       "    </tr>\n",
       "    <tr>\n",
       "      <th>4</th>\n",
       "      <td>4</td>\n",
       "      <td>4</td>\n",
       "      <td>100007</td>\n",
       "      <td>0</td>\n",
       "      <td>0</td>\n",
       "      <td>0</td>\n",
       "      <td>0</td>\n",
       "      <td>-19932</td>\n",
       "      <td>-3038</td>\n",
       "      <td>-4311.0</td>\n",
       "      <td>...</td>\n",
       "      <td>NaN</td>\n",
       "      <td>NaN</td>\n",
       "      <td>NaN</td>\n",
       "      <td>NaN</td>\n",
       "      <td>NaN</td>\n",
       "      <td>NaN</td>\n",
       "      <td>NaN</td>\n",
       "      <td>NaN</td>\n",
       "      <td>NaN</td>\n",
       "      <td>NaN</td>\n",
       "    </tr>\n",
       "    <tr>\n",
       "      <th>...</th>\n",
       "      <td>...</td>\n",
       "      <td>...</td>\n",
       "      <td>...</td>\n",
       "      <td>...</td>\n",
       "      <td>...</td>\n",
       "      <td>...</td>\n",
       "      <td>...</td>\n",
       "      <td>...</td>\n",
       "      <td>...</td>\n",
       "      <td>...</td>\n",
       "      <td>...</td>\n",
       "      <td>...</td>\n",
       "      <td>...</td>\n",
       "      <td>...</td>\n",
       "      <td>...</td>\n",
       "      <td>...</td>\n",
       "      <td>...</td>\n",
       "      <td>...</td>\n",
       "      <td>...</td>\n",
       "      <td>...</td>\n",
       "      <td>...</td>\n",
       "    </tr>\n",
       "    <tr>\n",
       "      <th>252128</th>\n",
       "      <td>252132</td>\n",
       "      <td>307504</td>\n",
       "      <td>456248</td>\n",
       "      <td>0</td>\n",
       "      <td>1</td>\n",
       "      <td>0</td>\n",
       "      <td>0</td>\n",
       "      <td>-16705</td>\n",
       "      <td>-7258</td>\n",
       "      <td>-9798.0</td>\n",
       "      <td>...</td>\n",
       "      <td>0.0</td>\n",
       "      <td>0.0</td>\n",
       "      <td>0.0</td>\n",
       "      <td>0.0</td>\n",
       "      <td>0.0</td>\n",
       "      <td>0.0</td>\n",
       "      <td>0.0</td>\n",
       "      <td>0.0</td>\n",
       "      <td>0.0</td>\n",
       "      <td>23.0</td>\n",
       "    </tr>\n",
       "    <tr>\n",
       "      <th>252129</th>\n",
       "      <td>252133</td>\n",
       "      <td>307506</td>\n",
       "      <td>456251</td>\n",
       "      <td>0</td>\n",
       "      <td>0</td>\n",
       "      <td>0</td>\n",
       "      <td>1</td>\n",
       "      <td>-9327</td>\n",
       "      <td>-236</td>\n",
       "      <td>-8456.0</td>\n",
       "      <td>...</td>\n",
       "      <td>NaN</td>\n",
       "      <td>NaN</td>\n",
       "      <td>NaN</td>\n",
       "      <td>NaN</td>\n",
       "      <td>NaN</td>\n",
       "      <td>NaN</td>\n",
       "      <td>NaN</td>\n",
       "      <td>NaN</td>\n",
       "      <td>NaN</td>\n",
       "      <td>NaN</td>\n",
       "    </tr>\n",
       "    <tr>\n",
       "      <th>252130</th>\n",
       "      <td>252134</td>\n",
       "      <td>307508</td>\n",
       "      <td>456253</td>\n",
       "      <td>0</td>\n",
       "      <td>1</td>\n",
       "      <td>0</td>\n",
       "      <td>0</td>\n",
       "      <td>-14966</td>\n",
       "      <td>-7921</td>\n",
       "      <td>-6737.0</td>\n",
       "      <td>...</td>\n",
       "      <td>NaN</td>\n",
       "      <td>NaN</td>\n",
       "      <td>NaN</td>\n",
       "      <td>NaN</td>\n",
       "      <td>NaN</td>\n",
       "      <td>NaN</td>\n",
       "      <td>NaN</td>\n",
       "      <td>NaN</td>\n",
       "      <td>NaN</td>\n",
       "      <td>NaN</td>\n",
       "    </tr>\n",
       "    <tr>\n",
       "      <th>252131</th>\n",
       "      <td>252135</td>\n",
       "      <td>307509</td>\n",
       "      <td>456254</td>\n",
       "      <td>1</td>\n",
       "      <td>1</td>\n",
       "      <td>0</td>\n",
       "      <td>0</td>\n",
       "      <td>-11961</td>\n",
       "      <td>-4786</td>\n",
       "      <td>-2562.0</td>\n",
       "      <td>...</td>\n",
       "      <td>NaN</td>\n",
       "      <td>NaN</td>\n",
       "      <td>NaN</td>\n",
       "      <td>NaN</td>\n",
       "      <td>NaN</td>\n",
       "      <td>NaN</td>\n",
       "      <td>NaN</td>\n",
       "      <td>NaN</td>\n",
       "      <td>NaN</td>\n",
       "      <td>NaN</td>\n",
       "    </tr>\n",
       "    <tr>\n",
       "      <th>252132</th>\n",
       "      <td>252136</td>\n",
       "      <td>307510</td>\n",
       "      <td>456255</td>\n",
       "      <td>0</td>\n",
       "      <td>1</td>\n",
       "      <td>0</td>\n",
       "      <td>1</td>\n",
       "      <td>-16856</td>\n",
       "      <td>-1262</td>\n",
       "      <td>-5128.0</td>\n",
       "      <td>...</td>\n",
       "      <td>NaN</td>\n",
       "      <td>NaN</td>\n",
       "      <td>NaN</td>\n",
       "      <td>NaN</td>\n",
       "      <td>NaN</td>\n",
       "      <td>NaN</td>\n",
       "      <td>NaN</td>\n",
       "      <td>NaN</td>\n",
       "      <td>NaN</td>\n",
       "      <td>NaN</td>\n",
       "    </tr>\n",
       "  </tbody>\n",
       "</table>\n",
       "<p>252133 rows × 728 columns</p>\n",
       "</div>"
      ],
      "text/plain": [
       "        Unnamed: 0  Unnamed: 0.1  SK_ID_CURR  TARGET  CODE_GENDER  \\\n",
       "0                0             0      100002       1            0   \n",
       "1                1             1      100003       0            1   \n",
       "2                2             2      100004       0            0   \n",
       "3                3             3      100006       0            1   \n",
       "4                4             4      100007       0            0   \n",
       "...            ...           ...         ...     ...          ...   \n",
       "252128      252132        307504      456248       0            1   \n",
       "252129      252133        307506      456251       0            0   \n",
       "252130      252134        307508      456253       0            1   \n",
       "252131      252135        307509      456254       1            1   \n",
       "252132      252136        307510      456255       0            1   \n",
       "\n",
       "        FLAG_OWN_CAR  FLAG_OWN_REALTY  DAYS_BIRTH  DAYS_EMPLOYED  \\\n",
       "0                  0                0       -9461           -637   \n",
       "1                  0                1      -16765          -1188   \n",
       "2                  1                0      -19046           -225   \n",
       "3                  0                0      -19005          -3039   \n",
       "4                  0                0      -19932          -3038   \n",
       "...              ...              ...         ...            ...   \n",
       "252128             0                0      -16705          -7258   \n",
       "252129             0                1       -9327           -236   \n",
       "252130             0                0      -14966          -7921   \n",
       "252131             0                0      -11961          -4786   \n",
       "252132             0                1      -16856          -1262   \n",
       "\n",
       "        DAYS_REGISTRATION  ...  CC_NAME_CONTRACT_STATUS_Signed_MAX  \\\n",
       "0                 -3648.0  ...                                 NaN   \n",
       "1                 -1186.0  ...                                 NaN   \n",
       "2                 -4260.0  ...                                 NaN   \n",
       "3                 -9833.0  ...                                 0.0   \n",
       "4                 -4311.0  ...                                 NaN   \n",
       "...                   ...  ...                                 ...   \n",
       "252128            -9798.0  ...                                 0.0   \n",
       "252129            -8456.0  ...                                 NaN   \n",
       "252130            -6737.0  ...                                 NaN   \n",
       "252131            -2562.0  ...                                 NaN   \n",
       "252132            -5128.0  ...                                 NaN   \n",
       "\n",
       "        CC_NAME_CONTRACT_STATUS_Signed_MEAN  \\\n",
       "0                                       NaN   \n",
       "1                                       NaN   \n",
       "2                                       NaN   \n",
       "3                                       0.0   \n",
       "4                                       NaN   \n",
       "...                                     ...   \n",
       "252128                                  0.0   \n",
       "252129                                  NaN   \n",
       "252130                                  NaN   \n",
       "252131                                  NaN   \n",
       "252132                                  NaN   \n",
       "\n",
       "        CC_NAME_CONTRACT_STATUS_Signed_SUM  \\\n",
       "0                                      NaN   \n",
       "1                                      NaN   \n",
       "2                                      NaN   \n",
       "3                                      0.0   \n",
       "4                                      NaN   \n",
       "...                                    ...   \n",
       "252128                                 0.0   \n",
       "252129                                 NaN   \n",
       "252130                                 NaN   \n",
       "252131                                 NaN   \n",
       "252132                                 NaN   \n",
       "\n",
       "        CC_NAME_CONTRACT_STATUS_Signed_VAR  CC_NAME_CONTRACT_STATUS_nan_MIN  \\\n",
       "0                                      NaN                              NaN   \n",
       "1                                      NaN                              NaN   \n",
       "2                                      NaN                              NaN   \n",
       "3                                      0.0                              0.0   \n",
       "4                                      NaN                              NaN   \n",
       "...                                    ...                              ...   \n",
       "252128                                 0.0                              0.0   \n",
       "252129                                 NaN                              NaN   \n",
       "252130                                 NaN                              NaN   \n",
       "252131                                 NaN                              NaN   \n",
       "252132                                 NaN                              NaN   \n",
       "\n",
       "        CC_NAME_CONTRACT_STATUS_nan_MAX  CC_NAME_CONTRACT_STATUS_nan_MEAN  \\\n",
       "0                                   NaN                               NaN   \n",
       "1                                   NaN                               NaN   \n",
       "2                                   NaN                               NaN   \n",
       "3                                   0.0                               0.0   \n",
       "4                                   NaN                               NaN   \n",
       "...                                 ...                               ...   \n",
       "252128                              0.0                               0.0   \n",
       "252129                              NaN                               NaN   \n",
       "252130                              NaN                               NaN   \n",
       "252131                              NaN                               NaN   \n",
       "252132                              NaN                               NaN   \n",
       "\n",
       "        CC_NAME_CONTRACT_STATUS_nan_SUM  CC_NAME_CONTRACT_STATUS_nan_VAR  \\\n",
       "0                                   NaN                              NaN   \n",
       "1                                   NaN                              NaN   \n",
       "2                                   NaN                              NaN   \n",
       "3                                   0.0                              0.0   \n",
       "4                                   NaN                              NaN   \n",
       "...                                 ...                              ...   \n",
       "252128                              0.0                              0.0   \n",
       "252129                              NaN                              NaN   \n",
       "252130                              NaN                              NaN   \n",
       "252131                              NaN                              NaN   \n",
       "252132                              NaN                              NaN   \n",
       "\n",
       "        CC_COUNT  \n",
       "0            NaN  \n",
       "1            NaN  \n",
       "2            NaN  \n",
       "3            6.0  \n",
       "4            NaN  \n",
       "...          ...  \n",
       "252128      23.0  \n",
       "252129       NaN  \n",
       "252130       NaN  \n",
       "252131       NaN  \n",
       "252132       NaN  \n",
       "\n",
       "[252133 rows x 728 columns]"
      ]
     },
     "execution_count": 5,
     "metadata": {},
     "output_type": "execute_result"
    }
   ],
   "source": [
    "df_train_FE "
   ]
  },
  {
   "cell_type": "code",
   "execution_count": 6,
   "id": "d3d99b4b",
   "metadata": {},
   "outputs": [],
   "source": [
    "df_train_FE = df_train_FE.drop(['Unnamed: 0','Unnamed: 0.1'], axis=1)"
   ]
  },
  {
   "cell_type": "markdown",
   "id": "55b301d9",
   "metadata": {},
   "source": [
    "### fichiers csv avec FE"
   ]
  },
  {
   "cell_type": "code",
   "execution_count": 7,
   "id": "5e8e8dde",
   "metadata": {},
   "outputs": [],
   "source": [
    "df_train_FE.to_csv('C:/Users/kalin/df_train_FE.csv')\n",
    "#df_test_FE.to_csv('C:/Users/kalin/df_test_FE.csv')"
   ]
  },
  {
   "cell_type": "code",
   "execution_count": null,
   "id": "74763586",
   "metadata": {},
   "outputs": [],
   "source": []
  },
  {
   "cell_type": "markdown",
   "id": "b9a0759b",
   "metadata": {},
   "source": [
    "# Merge des tables sans FE"
   ]
  },
  {
   "cell_type": "code",
   "execution_count": null,
   "id": "9100efde",
   "metadata": {},
   "outputs": [],
   "source": [
    "application_train = pd.DataFrame(pd.read_csv('C:/Users/kalin/application_train_prepared.csv'))\n",
    "application_test = pd.DataFrame(pd.read_csv('C:/Users/kalin/application_test_prepared.csv'))\n",
    "bureau_and_balances = pd.DataFrame(pd.read_csv('C:/Users/kalin/bureau_balance_prepared.csv'))\n",
    "previous_applications = pd.DataFrame(pd.read_csv('C:/Users/kalin/previous_application_prepared.csv'))\n",
    "pos_cash = pd.DataFrame(pd.read_csv('C:/Users/kalin/POS_CASH_balance.csv'))\n",
    "installments_payments = pd.DataFrame(pd.read_csv('C:/Users/kalin/installments_payments.csv'))\n",
    "credit_card_balance = pd.DataFrame(pd.read_csv('C:/Users/kalin/credit_card_balance_prepared.csv'))"
   ]
  },
  {
   "cell_type": "code",
   "execution_count": null,
   "id": "9efff4d7",
   "metadata": {},
   "outputs": [],
   "source": [
    "\n",
    "\n",
    "# Application_train sans FE\n",
    "df_train = application_train.merge(bureau_and_balances, how='left', on='SK_ID_CURR')\n",
    "df_train = df_train.merge(previous_applications, how='left', on='SK_ID_CURR')\n",
    "df_train = df_train.merge(pos_cash, how='left', on='SK_ID_CURR')\n",
    "df_train = df_train.merge(installments_payments, how='left', on='SK_ID_CURR')\n",
    "df_train = df_train.merge(credit_card_balance, how='left', on='SK_ID_CURR')\n",
    "\n",
    "\n",
    "df_train.to_csv('C:/Users/kalin/final_data_credit_train.csv')\n",
    "\n",
    "# Application_test\n",
    "df_test = application_test.merge(bureau_and_balances, how='left', on='SK_ID_CURR')\n",
    "df_test = df_test.merge(previous_applications, how='left', on='SK_ID_CURR')\n",
    "df_test = df_test.merge(pos_cash, how='left', on='SK_ID_CURR')\n",
    "df_test = df_test.merge(installments_payments, how='left', on='SK_ID_CURR')\n",
    "df_test = df_test.merge(credit_card_balance, how='left', on='SK_ID_CURR')"
   ]
  },
  {
   "cell_type": "code",
   "execution_count": null,
   "id": "a06d8d53",
   "metadata": {},
   "outputs": [],
   "source": [
    "df_train"
   ]
  },
  {
   "cell_type": "code",
   "execution_count": null,
   "id": "676988be",
   "metadata": {},
   "outputs": [],
   "source": [
    "df_test "
   ]
  },
  {
   "cell_type": "code",
   "execution_count": null,
   "id": "9b31e914",
   "metadata": {},
   "outputs": [],
   "source": [
    "# Application_test\n",
    "df_test = application_test.merge(bureau_and_balances, how='left', on='SK_ID_CURR')\n",
    "df_test = df_test.merge(previous_applications, how='left', on='SK_ID_CURR')\n",
    "df_test = df_test.merge(pos_cash, how='left', on='SK_ID_CURR')\n",
    "df_test = df_test.merge(installments_payments, how='left', on='SK_ID_CURR')\n",
    "df_test = df_test.merge(credit_card_balance, how='left', on='SK_ID_CURR')\n",
    "df_test "
   ]
  },
  {
   "cell_type": "code",
   "execution_count": null,
   "id": "01db227a",
   "metadata": {
    "scrolled": true
   },
   "outputs": [],
   "source": [
    "df_test = df_test.drop('Unnamed: 0', axis=1)\n",
    "df_test = df_test.drop('Unnamed: 0.1', axis=1)\n",
    "df_test "
   ]
  },
  {
   "cell_type": "code",
   "execution_count": null,
   "id": "457773b1",
   "metadata": {},
   "outputs": [],
   "source": [
    "df_test.to_csv('C:/Users/kalin/final_data_credit_test.csv')"
   ]
  },
  {
   "cell_type": "markdown",
   "id": "158ae0b4",
   "metadata": {},
   "source": [
    "# Matrice de corrélation "
   ]
  },
  {
   "cell_type": "code",
   "execution_count": null,
   "id": "ad26bc2b",
   "metadata": {},
   "outputs": [],
   "source": [
    "df_train = pd.DataFrame(pd.read_csv('C:/Users/kalin/final_data_credit_train.csv'))"
   ]
  },
  {
   "cell_type": "code",
   "execution_count": null,
   "id": "4fea1f59",
   "metadata": {},
   "outputs": [],
   "source": [
    "corr_df = df_train.corr(method='pearson')\n",
    "plt.matshow(corr_df)\n",
    "plt.show()"
   ]
  },
  {
   "cell_type": "code",
   "execution_count": null,
   "id": "06b734ee",
   "metadata": {},
   "outputs": [],
   "source": [
    "sns.heatmap(corr_df, vmin = -1, vmax = +1,  cmap = 'coolwarm')"
   ]
  },
  {
   "cell_type": "code",
   "execution_count": null,
   "id": "bfa3ebf5",
   "metadata": {},
   "outputs": [],
   "source": [
    "df_train[df_train.isna()].sum().sum()"
   ]
  },
  {
   "cell_type": "code",
   "execution_count": null,
   "id": "6184b625",
   "metadata": {},
   "outputs": [],
   "source": [
    "corr_df[corr_df.isna()].sum().sum()"
   ]
  },
  {
   "cell_type": "code",
   "execution_count": null,
   "id": "f49b4419",
   "metadata": {},
   "outputs": [],
   "source": [
    "sns.heatmap(df_train.iloc[:,0:300].corr(), vmin = -1, vmax = +1,  cmap = 'coolwarm')"
   ]
  },
  {
   "cell_type": "code",
   "execution_count": null,
   "id": "7aff6013",
   "metadata": {},
   "outputs": [],
   "source": [
    "sns.heatmap(df_train.iloc[:,0:30].corr(), vmin = -1, vmax = +1,  cmap = 'coolwarm')"
   ]
  },
  {
   "cell_type": "code",
   "execution_count": null,
   "id": "b6e8d1ab",
   "metadata": {},
   "outputs": [],
   "source": [
    "df_train.iloc[:,0:30].columns"
   ]
  },
  {
   "cell_type": "code",
   "execution_count": null,
   "id": "146184cb",
   "metadata": {},
   "outputs": [],
   "source": [
    "corr1=df_train[['Unnamed: 0', 'Unnamed: 0.1', 'SK_ID_CURR', 'TARGET', 'CODE_GENDER']]"
   ]
  },
  {
   "cell_type": "code",
   "execution_count": null,
   "id": "46faf824",
   "metadata": {},
   "outputs": [],
   "source": [
    "sns.heatmap(corr1.corr(), vmin = -1, vmax = +1,  cmap = 'coolwarm')"
   ]
  },
  {
   "cell_type": "code",
   "execution_count": null,
   "id": "b455ebce",
   "metadata": {},
   "outputs": [],
   "source": [
    "#supression de variables \n",
    "df_train = df_train.drop(columns=['Unnamed: 0', 'Unnamed: 0.1'])"
   ]
  },
  {
   "cell_type": "code",
   "execution_count": null,
   "id": "79c2f2d0",
   "metadata": {},
   "outputs": [],
   "source": [
    "sns.heatmap(df_train.iloc[:,0:30].corr(), vmin = -1, vmax = +1,  cmap = 'coolwarm')"
   ]
  },
  {
   "cell_type": "code",
   "execution_count": null,
   "id": "b57bc68e",
   "metadata": {},
   "outputs": [],
   "source": [
    "corr2 = df_train[['FLAG_EMAIL', 'REGION_RATING_CLIENT',\n",
    "       'REGION_RATING_CLIENT_W_CITY', 'HOUR_APPR_PROCESS_START',\n",
    "       'REG_REGION_NOT_LIVE_REGION']]"
   ]
  },
  {
   "cell_type": "code",
   "execution_count": null,
   "id": "3ae60e30",
   "metadata": {},
   "outputs": [],
   "source": [
    "sns.heatmap(corr2.corr(), vmin = -1, vmax = +1,  cmap = 'coolwarm')"
   ]
  },
  {
   "cell_type": "markdown",
   "id": "3fd5861c",
   "metadata": {},
   "source": [
    "### Suprresion de variables\n",
    "\n",
    "On garde 'REGION_RATING_CLIENT_W_CITY'"
   ]
  },
  {
   "cell_type": "code",
   "execution_count": null,
   "id": "e9656a9f",
   "metadata": {},
   "outputs": [],
   "source": [
    "#association avec target"
   ]
  },
  {
   "cell_type": "code",
   "execution_count": null,
   "id": "8552fad5",
   "metadata": {},
   "outputs": [],
   "source": [
    "cont = df_train[['REGION_RATING_CLIENT_W_CITY', 'TARGET']].pivot_table(index='REGION_RATING_CLIENT_W_CITY', columns='TARGET', aggfunc=len).fillna(0).copy().astype(int)\n",
    "st_chi2, st_p, st_dof, st_exp = sp.stats.chi2_contingency(cont)\n",
    "st_p"
   ]
  },
  {
   "cell_type": "code",
   "execution_count": null,
   "id": "cc062cda",
   "metadata": {},
   "outputs": [],
   "source": [
    "cont = df_train[['REGION_RATING_CLIENT', 'TARGET']].pivot_table(index='REGION_RATING_CLIENT', columns='TARGET', aggfunc=len).fillna(0).copy().astype(int)\n",
    "st_chi2, st_p, st_dof, st_exp = sp.stats.chi2_contingency(cont)\n",
    "st_p"
   ]
  },
  {
   "cell_type": "code",
   "execution_count": null,
   "id": "affc3474",
   "metadata": {},
   "outputs": [],
   "source": [
    "#supression de variables \n",
    "df_train = df_train.drop(columns=['REGION_RATING_CLIENT'])"
   ]
  },
  {
   "cell_type": "code",
   "execution_count": null,
   "id": "ad622de0",
   "metadata": {},
   "outputs": [],
   "source": [
    "corr3= df_train [['REG_REGION_NOT_LIVE_REGION',\n",
    "       'REG_REGION_NOT_WORK_REGION', ,\n",
    "       'REG_CITY_NOT_LIVE_CITY', 'REG_CITY_NOT_WORK_CITY',\n",
    "       'LIVE_CITY_NOT_WORK_CITY', 'DAYS_LAST_PHONE_CHANGE']]"
   ]
  },
  {
   "cell_type": "code",
   "execution_count": null,
   "id": "0945883a",
   "metadata": {},
   "outputs": [],
   "source": [
    "sns.heatmap(corr3.corr(), vmin = -1, vmax = +1,  cmap = 'coolwarm')"
   ]
  },
  {
   "cell_type": "markdown",
   "id": "df8d6fb2",
   "metadata": {},
   "source": [
    "### Supression de variables "
   ]
  },
  {
   "cell_type": "markdown",
   "id": "dad5ca4d",
   "metadata": {},
   "source": [
    "On supprime 'LIVE_REGION_NOT_WORK_REGION' 'LIVE_CITY_NOT_WORK_CITY'"
   ]
  },
  {
   "cell_type": "code",
   "execution_count": null,
   "id": "6312295f",
   "metadata": {},
   "outputs": [],
   "source": [
    "#association avec TARGET\n",
    "cont = df_train[['LIVE_REGION_NOT_WORK_REGION', 'TARGET']].pivot_table(index='LIVE_REGION_NOT_WORK_REGION', columns='TARGET', aggfunc=len).fillna(0).copy().astype(int)\n",
    "st_chi2, st_p, st_dof, st_exp = sp.stats.chi2_contingency(cont)\n",
    "st_p"
   ]
  },
  {
   "cell_type": "code",
   "execution_count": null,
   "id": "86f9de4a",
   "metadata": {},
   "outputs": [],
   "source": [
    "cont = df_train[['REG_CITY_NOT_LIVE_CITY', 'TARGET']].pivot_table(index='REG_CITY_NOT_LIVE_CITY', columns='TARGET', aggfunc=len).fillna(0).copy().astype(int)\n",
    "st_chi2, st_p, st_dof, st_exp = sp.stats.chi2_contingency(cont)\n",
    "st_p\n"
   ]
  },
  {
   "cell_type": "code",
   "execution_count": null,
   "id": "3fa0467b",
   "metadata": {},
   "outputs": [],
   "source": [
    "cont = df_train[['LIVE_CITY_NOT_WORK_CITY', 'TARGET']].pivot_table(index='LIVE_CITY_NOT_WORK_CITY', columns='TARGET', aggfunc=len).fillna(0).copy().astype(int)\n",
    "st_chi2, st_p, st_dof, st_exp = sp.stats.chi2_contingency(cont)\n",
    "st_p"
   ]
  },
  {
   "cell_type": "code",
   "execution_count": null,
   "id": "b0514dd2",
   "metadata": {},
   "outputs": [],
   "source": [
    "cont = df_train[['REG_CITY_NOT_WORK_CITY', 'TARGET']].pivot_table(index='REG_CITY_NOT_WORK_CITY', columns='TARGET', aggfunc=len).fillna(0).copy().astype(int)\n",
    "st_chi2, st_p, st_dof, st_exp = sp.stats.chi2_contingency(cont)\n",
    "st_p\n"
   ]
  },
  {
   "cell_type": "code",
   "execution_count": null,
   "id": "512f2c11",
   "metadata": {},
   "outputs": [],
   "source": [
    "#supression de variables \n",
    "df_train = df_train.drop(columns=['LIVE_REGION_NOT_WORK_REGION', 'LIVE_CITY_NOT_WORK_CITY'])\n",
    "df_train "
   ]
  },
  {
   "cell_type": "code",
   "execution_count": null,
   "id": "64145067",
   "metadata": {},
   "outputs": [],
   "source": [
    "sns.heatmap(df_train.iloc[:,300:310].corr(), vmin = -1, vmax = +1,  cmap = 'coolwarm')"
   ]
  },
  {
   "cell_type": "markdown",
   "id": "e821b9af",
   "metadata": {},
   "source": [
    "### Suppression de variables "
   ]
  },
  {
   "cell_type": "code",
   "execution_count": null,
   "id": "61bad24e",
   "metadata": {},
   "outputs": [],
   "source": [
    "On suprimme PREV_AMT_CREDIT_MIN  PREV_AMT_CREDIT_MAX PREV_AMT_CREDIT_MEAN"
   ]
  },
  {
   "cell_type": "code",
   "execution_count": null,
   "id": "71433309",
   "metadata": {},
   "outputs": [],
   "source": [
    "#association avec target \n",
    "sample = df_train[['TARGET','PREV_AMT_CREDIT_MIN']]\n",
    "model = ols('PREV_AMT_CREDIT_MIN ~ TARGET', data=sample).fit()\n",
    "anova_table = sm.stats.anova_lm(model, typ=2)\n",
    "anova_table"
   ]
  },
  {
   "cell_type": "code",
   "execution_count": null,
   "id": "8a583c3a",
   "metadata": {},
   "outputs": [],
   "source": [
    "sample = df_train[['TARGET','PREV_AMT_APPLICATION_MIN']]\n",
    "model = ols('PREV_AMT_APPLICATION_MIN ~ TARGET', data=sample).fit()\n",
    "anova_table = sm.stats.anova_lm(model, typ=2)\n",
    "anova_table"
   ]
  },
  {
   "cell_type": "code",
   "execution_count": null,
   "id": "3d10402e",
   "metadata": {},
   "outputs": [],
   "source": [
    "#association avec target \n",
    "sample = df_train[['TARGET','PREV_AMT_CREDIT_MAX']]\n",
    "model = ols('PREV_AMT_CREDIT_MAX ~ TARGET', data=sample).fit()\n",
    "anova_table = sm.stats.anova_lm(model, typ=2)\n",
    "anova_table"
   ]
  },
  {
   "cell_type": "code",
   "execution_count": null,
   "id": "b13fa5c8",
   "metadata": {},
   "outputs": [],
   "source": [
    "sample = df_train[['TARGET','PREV_AMT_APPLICATION_MAX']]\n",
    "model = ols('PREV_AMT_APPLICATION_MAX ~ TARGET', data=sample).fit()\n",
    "anova_table = sm.stats.anova_lm(model, typ=2)\n",
    "anova_table"
   ]
  },
  {
   "cell_type": "code",
   "execution_count": null,
   "id": "c902f128",
   "metadata": {},
   "outputs": [],
   "source": [
    "#association avec target \n",
    "sample = df_train[['TARGET','PREV_AMT_CREDIT_MEAN']]\n",
    "model = ols('PREV_AMT_CREDIT_MEAN ~ TARGET', data=sample).fit()\n",
    "anova_table = sm.stats.anova_lm(model, typ=2)\n",
    "anova_table"
   ]
  },
  {
   "cell_type": "code",
   "execution_count": null,
   "id": "3c5d2840",
   "metadata": {},
   "outputs": [],
   "source": [
    "sample = df_train[['TARGET','PREV_AMT_APPLICATION_MEAN']]\n",
    "model = ols('PREV_AMT_APPLICATION_MEAN ~ TARGET', data=sample).fit()\n",
    "anova_table = sm.stats.anova_lm(model, typ=2)\n",
    "anova_table"
   ]
  },
  {
   "cell_type": "code",
   "execution_count": null,
   "id": "8a13203b",
   "metadata": {},
   "outputs": [],
   "source": [
    "# suppression des variables \n",
    "\n",
    "df_train= df_train.drop (columns= ['PREV_AMT_CREDIT_MIN',  'PREV_AMT_CREDIT_MAX', 'PREV_AMT_CREDIT_MEAN'])\n",
    "df_train"
   ]
  },
  {
   "cell_type": "code",
   "execution_count": null,
   "id": "2abb3d15",
   "metadata": {},
   "outputs": [],
   "source": [
    "sns.heatmap(df_train.iloc[:,310:320].corr(), vmin = -1, vmax = +1,  cmap = 'coolwarm')"
   ]
  },
  {
   "cell_type": "code",
   "execution_count": null,
   "id": "3f488abc",
   "metadata": {},
   "outputs": [],
   "source": [
    "#Approximately at what hour did the client apply for the loan\n",
    "PREV_HOUR_APPR_PROCESS_START_MEAN\n",
    "PREV_HOUR_APPR_PROCESS_START_MIN"
   ]
  },
  {
   "cell_type": "code",
   "execution_count": null,
   "id": "63acad01",
   "metadata": {},
   "outputs": [],
   "source": [
    "sample = df_train[['TARGET','PREV_HOUR_APPR_PROCESS_START_MEAN']]\n",
    "model = ols('PREV_HOUR_APPR_PROCESS_START_MEAN ~ TARGET', data=sample).fit()\n",
    "anova_table = sm.stats.anova_lm(model, typ=2)\n",
    "anova_table"
   ]
  },
  {
   "cell_type": "code",
   "execution_count": null,
   "id": "2abc0bce",
   "metadata": {},
   "outputs": [],
   "source": [
    "sample = df_train[['TARGET','PREV_HOUR_APPR_PROCESS_START_MIN']]\n",
    "model = ols('PREV_HOUR_APPR_PROCESS_START_MIN ~ TARGET', data=sample).fit()\n",
    "anova_table = sm.stats.anova_lm(model, typ=2)\n",
    "anova_table"
   ]
  },
  {
   "cell_type": "code",
   "execution_count": null,
   "id": "44adbccd",
   "metadata": {},
   "outputs": [],
   "source": [
    "# suppression des variables \n",
    "\n",
    "df_train= df_train.drop (columns= ['PREV_HOUR_APPR_PROCESS_START_MIN'])\n",
    "df_train"
   ]
  },
  {
   "cell_type": "code",
   "execution_count": null,
   "id": "6f3907a2",
   "metadata": {},
   "outputs": [],
   "source": [
    "sns.heatmap(df_train.iloc[:,320:350].corr(), vmin = -1, vmax = +1,  cmap = 'coolwarm')"
   ]
  },
  {
   "cell_type": "code",
   "execution_count": null,
   "id": "eba5d20a",
   "metadata": {},
   "outputs": [],
   "source": [
    "sns.heatmap(df_train.iloc[:,320:330].corr(), vmin = -1, vmax = +1,  cmap = 'coolwarm')"
   ]
  },
  {
   "cell_type": "code",
   "execution_count": null,
   "id": "b578f9dc",
   "metadata": {},
   "outputs": [],
   "source": [
    "PREV_NAME_CONTRACT_TYPE_Consumerloans_MEAN\n",
    "PREV_NAME_CONTRACT_TYPE_Cashloans_MEAN"
   ]
  },
  {
   "cell_type": "code",
   "execution_count": null,
   "id": "aa1456a3",
   "metadata": {},
   "outputs": [],
   "source": [
    "sample = df_train[['TARGET','PREV_NAME_CONTRACT_TYPE_Consumer loans_MEAN']]\n",
    "sample= sample.rename(columns={'PREV_NAME_CONTRACT_TYPE_Consumer loans_MEAN': 'PREV_NAME_CONTRACT_TYPE_Consumerloans_MEAN'})\n",
    "sample"
   ]
  },
  {
   "cell_type": "code",
   "execution_count": null,
   "id": "9999378a",
   "metadata": {},
   "outputs": [],
   "source": [
    "model = ols('PREV_NAME_CONTRACT_TYPE_Consumerloans_MEAN ~ TARGET', data=sample).fit()\n",
    "anova_table = sm.stats.anova_lm(model, typ=2)\n",
    "anova_table"
   ]
  },
  {
   "cell_type": "code",
   "execution_count": null,
   "id": "dc7bb673",
   "metadata": {},
   "outputs": [],
   "source": [
    "sample = df_train[['TARGET','PREV_NAME_CONTRACT_TYPE_Cash loans_MEAN']]\n",
    "sample= sample.rename(columns={'PREV_NAME_CONTRACT_TYPE_Cash loans_MEAN': 'PREV_NAME_CONTRACT_TYPE_Cashloans_MEAN'})\n",
    "sample"
   ]
  },
  {
   "cell_type": "code",
   "execution_count": null,
   "id": "5477c862",
   "metadata": {},
   "outputs": [],
   "source": [
    "model = ols('PREV_NAME_CONTRACT_TYPE_Cashloans_MEAN ~ TARGET', data=sample).fit()\n",
    "anova_table = sm.stats.anova_lm(model, typ=2)\n",
    "anova_table"
   ]
  },
  {
   "cell_type": "code",
   "execution_count": null,
   "id": "c4fa33f2",
   "metadata": {},
   "outputs": [],
   "source": [
    "# suppression des variables \n",
    "\n",
    "df_train= df_train.drop (columns= ['PREV_NAME_CONTRACT_TYPE_Cash loans_MEAN'])\n",
    "df_train"
   ]
  },
  {
   "cell_type": "code",
   "execution_count": null,
   "id": "1acb7457",
   "metadata": {},
   "outputs": [],
   "source": [
    "sns.heatmap(df_train.iloc[:,330:340].corr(), vmin = -1, vmax = +1,  cmap = 'coolwarm')"
   ]
  },
  {
   "cell_type": "code",
   "execution_count": null,
   "id": "ca28b8b9",
   "metadata": {},
   "outputs": [],
   "source": [
    "PREV_FLAG_LAST_APPL_PER_CONTRACT_nan_MEAN\n",
    "PREV_FLAG_LAST_APPL_PER_CONTRACT_N_MEAN"
   ]
  },
  {
   "cell_type": "code",
   "execution_count": null,
   "id": "b33ce25c",
   "metadata": {},
   "outputs": [],
   "source": [
    "sample = df_train[['TARGET','PREV_FLAG_LAST_APPL_PER_CONTRACT_nan_MEAN','PREV_FLAG_LAST_APPL_PER_CONTRACT_N_MEAN']]\n",
    "sample"
   ]
  },
  {
   "cell_type": "code",
   "execution_count": null,
   "id": "4156ec05",
   "metadata": {},
   "outputs": [],
   "source": [
    "#association avec TARGET\n",
    "cont = df_train[['PREV_FLAG_LAST_APPL_PER_CONTRACT_nan_MEAN', 'TARGET']].pivot_table(index='PREV_FLAG_LAST_APPL_PER_CONTRACT_nan_MEAN', columns='TARGET', aggfunc=len).fillna(0).copy().astype(int)\n",
    "st_chi2, st_p, st_dof, st_exp = sp.stats.chi2_contingency(cont)\n",
    "st_p"
   ]
  },
  {
   "cell_type": "code",
   "execution_count": null,
   "id": "b2ab5ff3",
   "metadata": {},
   "outputs": [],
   "source": [
    "cont = df_train[['PREV_FLAG_LAST_APPL_PER_CONTRACT_N_MEAN', 'TARGET']].pivot_table(index='PREV_FLAG_LAST_APPL_PER_CONTRACT_N_MEAN', columns='TARGET', aggfunc=len).fillna(0).copy().astype(int)\n",
    "st_chi2, st_p, st_dof, st_exp = sp.stats.chi2_contingency(cont)\n",
    "st_p"
   ]
  },
  {
   "cell_type": "code",
   "execution_count": null,
   "id": "80508c1e",
   "metadata": {},
   "outputs": [],
   "source": [
    "# suppression des variables \n",
    "\n",
    "df_train= df_train.drop (columns= ['PREV_FLAG_LAST_APPL_PER_CONTRACT_nan_MEAN'])\n",
    "df_train"
   ]
  },
  {
   "cell_type": "code",
   "execution_count": null,
   "id": "a47c907a",
   "metadata": {},
   "outputs": [],
   "source": [
    "sns.heatmap(df_train.iloc[:,340:350].corr(), vmin = -1, vmax = +1,  cmap = 'coolwarm')"
   ]
  },
  {
   "cell_type": "code",
   "execution_count": null,
   "id": "fa9198d7",
   "metadata": {},
   "outputs": [],
   "source": [
    "sns.heatmap(df_train.iloc[:,350:400].corr(), vmin = -1, vmax = +1,  cmap = 'coolwarm')"
   ]
  },
  {
   "cell_type": "code",
   "execution_count": null,
   "id": "fcd5788c",
   "metadata": {},
   "outputs": [],
   "source": [
    "sns.heatmap(df_train.iloc[:,350:360].corr(), vmin = -1, vmax = +1,  cmap = 'coolwarm')"
   ]
  },
  {
   "cell_type": "code",
   "execution_count": null,
   "id": "518923de",
   "metadata": {},
   "outputs": [],
   "source": [
    "sample = df_train[['TARGET', 'PREV_NAME_CASH_LOAN_PURPOSE_XNA_MEAN','PREV_NAME_CASH_LOAN_PURPOSE_XAP_MEAN' ]]\n",
    "sample"
   ]
  },
  {
   "cell_type": "code",
   "execution_count": null,
   "id": "190dfc13",
   "metadata": {},
   "outputs": [],
   "source": [
    "model = ols('PREV_NAME_CASH_LOAN_PURPOSE_XNA_MEAN ~ TARGET', data=sample).fit()\n",
    "anova_table = sm.stats.anova_lm(model, typ=2)\n",
    "anova_table"
   ]
  },
  {
   "cell_type": "code",
   "execution_count": null,
   "id": "9f42f794",
   "metadata": {},
   "outputs": [],
   "source": [
    "model = ols('PREV_NAME_CASH_LOAN_PURPOSE_XAP_MEAN ~ TARGET', data=sample).fit()\n",
    "anova_table = sm.stats.anova_lm(model, typ=2)\n",
    "anova_table"
   ]
  },
  {
   "cell_type": "code",
   "execution_count": null,
   "id": "269a7977",
   "metadata": {},
   "outputs": [],
   "source": [
    "# suppression des variables \n",
    "\n",
    "df_train= df_train.drop (columns= ['PREV_NAME_CASH_LOAN_PURPOSE_XNA_MEAN'])\n",
    "df_train"
   ]
  },
  {
   "cell_type": "code",
   "execution_count": null,
   "id": "1614ec82",
   "metadata": {},
   "outputs": [],
   "source": [
    "sns.heatmap(df_train.iloc[:,360:380].corr(), vmin = -1, vmax = +1,  cmap = 'coolwarm')"
   ]
  },
  {
   "cell_type": "code",
   "execution_count": null,
   "id": "6948152a",
   "metadata": {},
   "outputs": [],
   "source": [
    "PREV_NAME_PAYMENT_TYPE_XNA_MEAN\n",
    "PREV_NAME_PAYMENT_TYPE_Cash throught the bank_MEAN"
   ]
  },
  {
   "cell_type": "code",
   "execution_count": null,
   "id": "64094bdd",
   "metadata": {},
   "outputs": [],
   "source": [
    "sample = df_train[['TARGET','PREV_NAME_PAYMENT_TYPE_XNA_MEAN', 'PREV_NAME_PAYMENT_TYPE_Cash through the bank_MEAN' ]]\n",
    "sample= sample.rename(columns={'PREV_NAME_PAYMENT_TYPE_Cash through the bank_MEAN': 'PREV_NAME_PAYMENT_TYPE_Cash_through_the_bank_MEAN'})\n",
    "sample"
   ]
  },
  {
   "cell_type": "code",
   "execution_count": null,
   "id": "d6f02e2e",
   "metadata": {},
   "outputs": [],
   "source": [
    "model = ols('PREV_NAME_PAYMENT_TYPE_XNA_MEAN ~ TARGET', data=sample).fit()\n",
    "anova_table = sm.stats.anova_lm(model, typ=2)\n",
    "anova_table"
   ]
  },
  {
   "cell_type": "code",
   "execution_count": null,
   "id": "dd689b90",
   "metadata": {},
   "outputs": [],
   "source": [
    "model = ols('PREV_NAME_PAYMENT_TYPE_Cash_through_the_bank_MEAN ~ TARGET', data=sample).fit()\n",
    "anova_table = sm.stats.anova_lm(model, typ=2)\n",
    "anova_table"
   ]
  },
  {
   "cell_type": "code",
   "execution_count": null,
   "id": "6878ed2b",
   "metadata": {},
   "outputs": [],
   "source": [
    "# suppression des variables \n",
    "\n",
    "df_train= df_train.drop(columns= ['PREV_NAME_PAYMENT_TYPE_Cash through the bank_MEAN'])\n",
    "df_train"
   ]
  },
  {
   "cell_type": "code",
   "execution_count": null,
   "id": "bfc49891",
   "metadata": {},
   "outputs": [],
   "source": [
    "sns.heatmap(df_train.iloc[:,380:400].corr(), vmin = -1, vmax = +1,  cmap = 'coolwarm')"
   ]
  },
  {
   "cell_type": "code",
   "execution_count": null,
   "id": "1284819e",
   "metadata": {},
   "outputs": [],
   "source": [
    "#Was the client old or new client when applying for the previous application\n",
    "PREV_NAME_CLIENT_TYPE_Repeater_MEAN\n",
    "PREV_NAME_CLIENT_TYPE_New_MEAN\n",
    "\n"
   ]
  },
  {
   "cell_type": "code",
   "execution_count": null,
   "id": "68cfa21c",
   "metadata": {},
   "outputs": [],
   "source": [
    "sample = df_train[['TARGET','PREV_NAME_CLIENT_TYPE_Repeater_MEAN', 'PREV_NAME_CLIENT_TYPE_New_MEAN' ]]\n",
    "sample"
   ]
  },
  {
   "cell_type": "code",
   "execution_count": null,
   "id": "d1177f90",
   "metadata": {},
   "outputs": [],
   "source": [
    "model = ols('PREV_NAME_CLIENT_TYPE_Repeater_MEAN ~ TARGET', data=sample).fit()\n",
    "anova_table = sm.stats.anova_lm(model, typ=2)\n",
    "anova_table"
   ]
  },
  {
   "cell_type": "code",
   "execution_count": null,
   "id": "dabc9a90",
   "metadata": {},
   "outputs": [],
   "source": [
    "model = ols('PREV_NAME_CLIENT_TYPE_New_MEAN ~ TARGET', data=sample).fit()\n",
    "anova_table = sm.stats.anova_lm(model, typ=2)\n",
    "anova_table"
   ]
  },
  {
   "cell_type": "code",
   "execution_count": null,
   "id": "212e53c5",
   "metadata": {},
   "outputs": [],
   "source": [
    "# suppression des variables \n",
    "\n",
    "df_train= df_train.drop(columns= ['PREV_NAME_CLIENT_TYPE_Repeater_MEAN'])\n",
    "df_train"
   ]
  },
  {
   "cell_type": "code",
   "execution_count": null,
   "id": "e296ea3f",
   "metadata": {},
   "outputs": [],
   "source": [
    "sns.heatmap(df_train.iloc[:,400:420].corr(), vmin = -1, vmax = +1,  cmap = 'coolwarm')"
   ]
  },
  {
   "cell_type": "code",
   "execution_count": null,
   "id": "e98c041a",
   "metadata": {},
   "outputs": [],
   "source": [
    "sns.heatmap(df_train.iloc[:,420:440].corr(), vmin = -1, vmax = +1,  cmap = 'coolwarm')"
   ]
  },
  {
   "cell_type": "code",
   "execution_count": null,
   "id": "be855e28",
   "metadata": {},
   "outputs": [],
   "source": [
    "sample = df_train[['TARGET','PREV_NAME_PRODUCT_TYPE_XNA_MEAN', 'PREV_NAME_PORTFOLIO_Cash_MEAN' ]]\n",
    "sample"
   ]
  },
  {
   "cell_type": "code",
   "execution_count": null,
   "id": "c5d57122",
   "metadata": {},
   "outputs": [],
   "source": [
    "PREV_NAME_PRODUCT_TYPE_XNA_MEAN\n",
    "PREV_NAME_PORTFOLIO_Cash_MEAN"
   ]
  },
  {
   "cell_type": "code",
   "execution_count": null,
   "id": "502928f1",
   "metadata": {},
   "outputs": [],
   "source": [
    "model = ols('PREV_NAME_PRODUCT_TYPE_XNA_MEAN ~ TARGET', data=sample).fit()\n",
    "anova_table = sm.stats.anova_lm(model, typ=2)\n",
    "anova_table"
   ]
  },
  {
   "cell_type": "code",
   "execution_count": null,
   "id": "237d13cf",
   "metadata": {},
   "outputs": [],
   "source": [
    "model = ols('PREV_NAME_PORTFOLIO_Cash_MEAN ~ TARGET', data=sample).fit()\n",
    "anova_table = sm.stats.anova_lm(model, typ=2)\n",
    "anova_table"
   ]
  },
  {
   "cell_type": "code",
   "execution_count": null,
   "id": "dca972b7",
   "metadata": {},
   "outputs": [],
   "source": [
    "# suppression des variables \n",
    "\n",
    "df_train= df_train.drop(columns= ['PREV_NAME_PORTFOLIO_Cash_MEAN'])\n",
    "df_train"
   ]
  },
  {
   "cell_type": "code",
   "execution_count": null,
   "id": "9b8beb90",
   "metadata": {},
   "outputs": [],
   "source": [
    "sns.heatmap(df_train.iloc[:,440:460].corr(), vmin = -1, vmax = +1,  cmap = 'coolwarm')"
   ]
  },
  {
   "cell_type": "code",
   "execution_count": null,
   "id": "9b618806",
   "metadata": {},
   "outputs": [],
   "source": [
    "sns.heatmap(df_train.iloc[:,460:480].corr(), vmin = -1, vmax = +1,  cmap = 'coolwarm')"
   ]
  },
  {
   "cell_type": "code",
   "execution_count": null,
   "id": "a80f04e2",
   "metadata": {},
   "outputs": [],
   "source": []
  },
  {
   "cell_type": "code",
   "execution_count": null,
   "id": "6fe33371",
   "metadata": {},
   "outputs": [],
   "source": [
    "sample = df_train[['TARGET','APPROVED_AMT_APPLICATION_MAX', 'APPROVED_AMT_ANNUITY_MAX' ]]\n",
    "sample"
   ]
  },
  {
   "cell_type": "code",
   "execution_count": null,
   "id": "8149bb31",
   "metadata": {},
   "outputs": [],
   "source": [
    "model = ols('APPROVED_AMT_APPLICATION_MAX ~ TARGET', data=sample).fit()\n",
    "anova_table = sm.stats.anova_lm(model, typ=2)\n",
    "anova_table"
   ]
  },
  {
   "cell_type": "code",
   "execution_count": null,
   "id": "206adad5",
   "metadata": {},
   "outputs": [],
   "source": [
    "model = ols('APPROVED_AMT_ANNUITY_MAX ~ TARGET', data=sample).fit()\n",
    "anova_table = sm.stats.anova_lm(model, typ=2)\n",
    "anova_table"
   ]
  },
  {
   "cell_type": "code",
   "execution_count": null,
   "id": "55fcd78b",
   "metadata": {},
   "outputs": [],
   "source": [
    "# suppression des variables \n",
    "\n",
    "df_train= df_train.drop(columns= ['APPROVED_AMT_APPLICATION_MAX'])\n",
    "df_train"
   ]
  },
  {
   "cell_type": "code",
   "execution_count": null,
   "id": "1a056c2f",
   "metadata": {},
   "outputs": [],
   "source": [
    "sns.heatmap(df_train.iloc[:,480:500].corr(), vmin = -1, vmax = +1,  cmap = 'coolwarm')"
   ]
  },
  {
   "cell_type": "code",
   "execution_count": null,
   "id": "d7d842fb",
   "metadata": {},
   "outputs": [],
   "source": [
    "sns.heatmap(df_train.iloc[:,480:490].corr(), vmin = -1, vmax = +1,  cmap = 'coolwarm')"
   ]
  },
  {
   "cell_type": "code",
   "execution_count": null,
   "id": "24507210",
   "metadata": {},
   "outputs": [],
   "source": [
    "sample = df_train[['TARGET','APPROVED_AMT_CREDIT_MEAN', 'APPROVED_AMT_CREDIT_MIN','APPROVED_AMT_CREDIT_MAX']]\n",
    "sample"
   ]
  },
  {
   "cell_type": "code",
   "execution_count": null,
   "id": "5d5e928f",
   "metadata": {},
   "outputs": [],
   "source": [
    "model = ols('APPROVED_AMT_CREDIT_MEAN ~ TARGET', data=sample).fit()\n",
    "anova_table = sm.stats.anova_lm(model, typ=2)\n",
    "anova_table"
   ]
  },
  {
   "cell_type": "code",
   "execution_count": null,
   "id": "21652733",
   "metadata": {},
   "outputs": [],
   "source": [
    "model = ols('APPROVED_AMT_CREDIT_MIN ~ TARGET', data=sample).fit()\n",
    "anova_table = sm.stats.anova_lm(model, typ=2)\n",
    "anova_table"
   ]
  },
  {
   "cell_type": "code",
   "execution_count": null,
   "id": "a7396830",
   "metadata": {},
   "outputs": [],
   "source": [
    "model = ols('APPROVED_AMT_CREDIT_MAX ~ TARGET', data=sample).fit()\n",
    "anova_table = sm.stats.anova_lm(model, typ=2)\n",
    "anova_table"
   ]
  },
  {
   "cell_type": "code",
   "execution_count": null,
   "id": "a314183b",
   "metadata": {},
   "outputs": [],
   "source": [
    "# suppression des variables \n",
    "\n",
    "df_train= df_train.drop(columns= ['APPROVED_AMT_CREDIT_MIN'])\n",
    "df_train"
   ]
  },
  {
   "cell_type": "code",
   "execution_count": null,
   "id": "5375edf4",
   "metadata": {},
   "outputs": [],
   "source": [
    "APPROVED_APP_CREDIT_PERC_VAR\n",
    "APPROVED_APP_CREDIT_PERC_MIN"
   ]
  },
  {
   "cell_type": "code",
   "execution_count": null,
   "id": "2089adce",
   "metadata": {},
   "outputs": [],
   "source": [
    "sample = df_train[['TARGET','APPROVED_APP_CREDIT_PERC_VAR', 'APPROVED_APP_CREDIT_PERC_MIN']]\n",
    "sample"
   ]
  },
  {
   "cell_type": "code",
   "execution_count": null,
   "id": "5e458bb7",
   "metadata": {},
   "outputs": [],
   "source": [
    "model = ols('APPROVED_APP_CREDIT_PERC_VAR ~ TARGET', data=sample).fit()\n",
    "anova_table = sm.stats.anova_lm(model, typ=2)\n",
    "anova_table"
   ]
  },
  {
   "cell_type": "code",
   "execution_count": null,
   "id": "579f43a1",
   "metadata": {},
   "outputs": [],
   "source": [
    "model = ols('APPROVED_APP_CREDIT_PERC_MIN ~ TARGET', data=sample).fit()\n",
    "anova_table = sm.stats.anova_lm(model, typ=2)\n",
    "anova_table"
   ]
  },
  {
   "cell_type": "code",
   "execution_count": null,
   "id": "a1460995",
   "metadata": {
    "scrolled": true
   },
   "outputs": [],
   "source": [
    "# suppression des variables \n",
    "\n",
    "df_train= df_train.drop(columns= ['APPROVED_APP_CREDIT_PERC_VAR'])\n",
    "df_train"
   ]
  },
  {
   "cell_type": "code",
   "execution_count": null,
   "id": "05dec294",
   "metadata": {},
   "outputs": [],
   "source": [
    "sample = df_train[['TARGET','APPROVED_AMT_GOODS_PRICE_MEAN', 'APPROVED_AMT_CREDIT_MAX']]\n",
    "sample"
   ]
  },
  {
   "cell_type": "code",
   "execution_count": null,
   "id": "bd18b6cd",
   "metadata": {},
   "outputs": [],
   "source": [
    "model = ols('APPROVED_AMT_GOODS_PRICE_MEAN ~ TARGET', data=sample).fit()\n",
    "anova_table = sm.stats.anova_lm(model, typ=2)\n",
    "anova_table\n"
   ]
  },
  {
   "cell_type": "code",
   "execution_count": null,
   "id": "06ccc168",
   "metadata": {},
   "outputs": [],
   "source": [
    "model = ols('APPROVED_AMT_CREDIT_MAX ~ TARGET', data=sample).fit()\n",
    "anova_table = sm.stats.anova_lm(model, typ=2)\n",
    "anova_table"
   ]
  },
  {
   "cell_type": "code",
   "execution_count": null,
   "id": "81f2b1b8",
   "metadata": {},
   "outputs": [],
   "source": [
    "# suppression des variables \n",
    "\n",
    "df_train= df_train.drop(columns= ['APPROVED_AMT_CREDIT_MAX'])\n",
    "df_train"
   ]
  },
  {
   "cell_type": "code",
   "execution_count": null,
   "id": "85aee2c0",
   "metadata": {},
   "outputs": [],
   "source": [
    "sns.heatmap(df_train.iloc[:,490:500].corr(), vmin = -1, vmax = +1,  cmap = 'coolwarm')"
   ]
  },
  {
   "cell_type": "code",
   "execution_count": null,
   "id": "706e4137",
   "metadata": {},
   "outputs": [],
   "source": [
    "sns.heatmap(df_train.iloc[:,500:550].corr(), vmin = -1, vmax = +1,  cmap = 'coolwarm')"
   ]
  },
  {
   "cell_type": "code",
   "execution_count": null,
   "id": "a8bf094e",
   "metadata": {},
   "outputs": [],
   "source": [
    "sns.heatmap(df_train.iloc[:,550:600].corr(), vmin = -1, vmax = +1,  cmap = 'coolwarm')"
   ]
  },
  {
   "cell_type": "code",
   "execution_count": null,
   "id": "3f8f745d",
   "metadata": {},
   "outputs": [],
   "source": [
    "sns.heatmap(df_train.iloc[:,600:650].corr(), vmin = -1, vmax = +1,  cmap = 'coolwarm')"
   ]
  },
  {
   "cell_type": "code",
   "execution_count": null,
   "id": "9133af85",
   "metadata": {},
   "outputs": [],
   "source": [
    "sns.heatmap(df_train.iloc[:,650:700].corr(), vmin = -1, vmax = +1,  cmap = 'coolwarm')"
   ]
  },
  {
   "cell_type": "code",
   "execution_count": null,
   "id": "16920a33",
   "metadata": {},
   "outputs": [],
   "source": [
    "# Create correlation matrix\n",
    "corr_matrix = df_train.corr().abs()"
   ]
  },
  {
   "cell_type": "code",
   "execution_count": null,
   "id": "75d272b7",
   "metadata": {},
   "outputs": [],
   "source": [
    "# Select upper triangle of correlation matrix\n",
    "upper = corr_matrix.where(np.triu(np.ones(corr_matrix.shape), k=1).astype(np.bool))"
   ]
  },
  {
   "cell_type": "code",
   "execution_count": null,
   "id": "c040121e",
   "metadata": {},
   "outputs": [],
   "source": [
    "# Find features with correlation greater than 0.95\n",
    "to_drop = [column for column in upper.columns if any(upper[column] > 0.90)]\n",
    "to_drop"
   ]
  },
  {
   "cell_type": "code",
   "execution_count": null,
   "id": "d4ca2547",
   "metadata": {},
   "outputs": [],
   "source": [
    "df_train = df_train.drop(columns=['AMT_GOODS_PRICE',\n",
    " 'YEARS_BEGINEXPLUATATION_MODE',\n",
    " 'FLOORSMAX_MODE',\n",
    " 'YEARS_BEGINEXPLUATATION_MEDI',\n",
    " 'FLOORSMAX_MEDI',\n",
    " 'OBS_60_CNT_SOCIAL_CIRCLE',\n",
    " 'NAME_CONTRACT_TYPE_Revolving loans',\n",
    " 'EMERGENCYSTATE_MODE_No',\n",
    " 'DAYS_EMPLOYED_PERC',\n",
    " 'INCOME_PER_PERSON',\n",
    " 'BURO_AMT_CREDIT_SUM_DEBT_SUM',\n",
    " 'BURO_MONTHS_BALANCE_MIN_MIN',\n",
    " 'BURO_CREDIT_ACTIVE_Closed_MEAN',\n",
    " 'BURO_CREDIT_CURRENCY_currency 2_MEAN',\n",
    " 'ACTIVE_CREDIT_DAY_OVERDUE_MAX',\n",
    " 'ACTIVE_AMT_CREDIT_SUM_DEBT_MAX',\n",
    " 'ACTIVE_AMT_CREDIT_SUM_DEBT_SUM',\n",
    " 'ACTIVE_AMT_CREDIT_SUM_LIMIT_SUM',\n",
    " 'ACTIVE_MONTHS_BALANCE_MIN_MIN',\n",
    " 'CLOSED_DAYS_CREDIT_MIN',\n",
    " 'CLOSED_AMT_CREDIT_SUM_SUM',\n",
    " 'CLOSED_AMT_CREDIT_SUM_DEBT_SUM',\n",
    " 'CLOSED_MONTHS_BALANCE_MIN_MIN',\n",
    " 'CLOSED_MONTHS_BALANCE_SIZE_MEAN',\n",
    " 'CLOSED_MONTHS_BALANCE_SIZE_SUM',\n",
    " 'PREV_APP_CREDIT_PERC_VAR',\n",
    " 'PREV_FLAG_LAST_APPL_PER_CONTRACT_Y_MEAN',\n",
    " 'PREV_NAME_CASH_LOAN_PURPOSE_XAP_MEAN',\n",
    " 'PREV_CODE_REJECT_REASON_CLIENT_MEAN',\n",
    " 'PREV_CODE_REJECT_REASON_XAP_MEAN',\n",
    " 'PREV_NAME_GOODS_CATEGORY_XNA_MEAN',\n",
    " 'PREV_NAME_PORTFOLIO_POS_MEAN',\n",
    " 'PREV_CHANNEL_TYPE_Car dealer_MEAN',\n",
    " 'PREV_NAME_SELLER_INDUSTRY_Clothing_MEAN',\n",
    " 'PREV_NAME_SELLER_INDUSTRY_Furniture_MEAN',\n",
    " 'PREV_NAME_SELLER_INDUSTRY_XNA_MEAN',\n",
    " 'PREV_NAME_YIELD_GROUP_XNA_MEAN',\n",
    " 'PREV_PRODUCT_COMBINATION_Card Street_MEAN',\n",
    " 'PREV_PRODUCT_COMBINATION_Missing_MEAN',\n",
    " 'APPROVED_AMT_CREDIT_MEAN',\n",
    " 'APPROVED_APP_CREDIT_PERC_MAX',\n",
    " 'APPROVED_AMT_GOODS_PRICE_MAX',\n",
    " 'APPROVED_AMT_GOODS_PRICE_MEAN',\n",
    " 'APPROVED_HOUR_APPR_PROCESS_START_MAX',\n",
    " 'APPROVED_HOUR_APPR_PROCESS_START_MEAN',\n",
    " 'APPROVED_DAYS_DECISION_MIN',\n",
    " 'REFUSED_AMT_ANNUITY_MEAN',\n",
    " 'REFUSED_APP_CREDIT_PERC_MIN',\n",
    " 'REFUSED_APP_CREDIT_PERC_MEAN',\n",
    " 'REFUSED_AMT_GOODS_PRICE_MEAN',\n",
    " 'REFUSED_HOUR_APPR_PROCESS_START_MEAN',\n",
    " 'REFUSED_DAYS_DECISION_MEAN',\n",
    " 'POS_COUNT',\n",
    " 'INSTAL_PAYMENT_PERC_SUM',\n",
    " 'INSTAL_AMT_PAYMENT_MAX',\n",
    " 'INSTAL_AMT_PAYMENT_MEAN',\n",
    " 'INSTAL_AMT_PAYMENT_SUM',\n",
    " 'INSTAL_DAYS_ENTRY_PAYMENT_MEAN',\n",
    " 'INSTAL_COUNT',\n",
    " 'CC_AMT_DRAWINGS_CURRENT_MAX',\n",
    " 'CC_AMT_DRAWINGS_OTHER_CURRENT_VAR',\n",
    " 'CC_AMT_INST_MIN_REGULARITY_MAX',\n",
    " 'CC_AMT_INST_MIN_REGULARITY_MEAN',\n",
    " 'CC_AMT_INST_MIN_REGULARITY_SUM',\n",
    " 'CC_AMT_PAYMENT_CURRENT_SUM',\n",
    " 'CC_AMT_PAYMENT_TOTAL_CURRENT_MAX',\n",
    " 'CC_AMT_PAYMENT_TOTAL_CURRENT_MEAN',\n",
    " 'CC_AMT_PAYMENT_TOTAL_CURRENT_SUM',\n",
    " 'CC_AMT_RECEIVABLE_PRINCIPAL_MIN',\n",
    " 'CC_AMT_RECEIVABLE_PRINCIPAL_MAX',\n",
    " 'CC_AMT_RECEIVABLE_PRINCIPAL_MEAN',\n",
    " 'CC_AMT_RECEIVABLE_PRINCIPAL_SUM',\n",
    " 'CC_AMT_RECEIVABLE_PRINCIPAL_VAR',\n",
    " 'CC_AMT_RECIVABLE_MIN',\n",
    " 'CC_AMT_RECIVABLE_MAX',\n",
    " 'CC_AMT_RECIVABLE_MEAN',\n",
    " 'CC_AMT_RECIVABLE_SUM',\n",
    " 'CC_AMT_RECIVABLE_VAR',\n",
    " 'CC_AMT_TOTAL_RECEIVABLE_MIN',\n",
    " 'CC_AMT_TOTAL_RECEIVABLE_MAX',\n",
    " 'CC_AMT_TOTAL_RECEIVABLE_MEAN',\n",
    " 'CC_AMT_TOTAL_RECEIVABLE_SUM',\n",
    " 'CC_AMT_TOTAL_RECEIVABLE_VAR',\n",
    " 'CC_CNT_DRAWINGS_ATM_CURRENT_MIN',\n",
    " 'CC_CNT_DRAWINGS_ATM_CURRENT_MAX',\n",
    " 'CC_CNT_DRAWINGS_ATM_CURRENT_MEAN',\n",
    " 'CC_CNT_DRAWINGS_ATM_CURRENT_SUM',\n",
    " 'CC_CNT_DRAWINGS_CURRENT_MIN',\n",
    " 'CC_CNT_DRAWINGS_CURRENT_MEAN',\n",
    " 'CC_CNT_DRAWINGS_CURRENT_SUM',\n",
    " 'CC_CNT_DRAWINGS_OTHER_CURRENT_MIN',\n",
    " 'CC_CNT_DRAWINGS_OTHER_CURRENT_MAX',\n",
    " 'CC_CNT_DRAWINGS_OTHER_CURRENT_MEAN',\n",
    " 'CC_CNT_DRAWINGS_OTHER_CURRENT_SUM',\n",
    " 'CC_CNT_DRAWINGS_OTHER_CURRENT_VAR',\n",
    " 'CC_CNT_DRAWINGS_POS_CURRENT_MIN',\n",
    " 'CC_CNT_DRAWINGS_POS_CURRENT_MEAN',\n",
    " 'CC_CNT_DRAWINGS_POS_CURRENT_SUM',\n",
    " 'CC_CNT_DRAWINGS_POS_CURRENT_VAR',\n",
    " 'CC_CNT_INSTALMENT_MATURE_CUM_MEAN',\n",
    " 'CC_CNT_INSTALMENT_MATURE_CUM_SUM',\n",
    " 'CC_SK_DPD_SUM',\n",
    " 'CC_SK_DPD_VAR',\n",
    " 'CC_SK_DPD_DEF_SUM',\n",
    " 'CC_NAME_CONTRACT_STATUS_Active_SUM',\n",
    " 'CC_NAME_CONTRACT_STATUS_Approved_MEAN',\n",
    " 'CC_NAME_CONTRACT_STATUS_Approved_SUM',\n",
    " 'CC_NAME_CONTRACT_STATUS_Approved_VAR',\n",
    " 'CC_NAME_CONTRACT_STATUS_Completed_MEAN',\n",
    " 'CC_NAME_CONTRACT_STATUS_Completed_VAR',\n",
    " 'CC_NAME_CONTRACT_STATUS_Demand_MEAN',\n",
    " 'CC_NAME_CONTRACT_STATUS_Demand_SUM',\n",
    " 'CC_NAME_CONTRACT_STATUS_Demand_VAR',\n",
    " 'CC_NAME_CONTRACT_STATUS_Refused_MEAN',\n",
    " 'CC_NAME_CONTRACT_STATUS_Refused_SUM',\n",
    " 'CC_NAME_CONTRACT_STATUS_Refused_VAR',\n",
    " 'CC_NAME_CONTRACT_STATUS_Sent proposal_MEAN',\n",
    " 'CC_NAME_CONTRACT_STATUS_Sent proposal_SUM',\n",
    " 'CC_NAME_CONTRACT_STATUS_Sent proposal_VAR',\n",
    " 'CC_COUNT'])\n",
    "df_train"
   ]
  },
  {
   "cell_type": "code",
   "execution_count": null,
   "id": "7f8c1261",
   "metadata": {},
   "outputs": [],
   "source": [
    "df_train.to_csv('C:/Users/kalin/final_no_corr.csv')"
   ]
  },
  {
   "cell_type": "code",
   "execution_count": null,
   "id": "20c8b5ff",
   "metadata": {},
   "outputs": [],
   "source": []
  }
 ],
 "metadata": {
  "kernelspec": {
   "display_name": "Python 3",
   "language": "python",
   "name": "python3"
  },
  "language_info": {
   "codemirror_mode": {
    "name": "ipython",
    "version": 3
   },
   "file_extension": ".py",
   "mimetype": "text/x-python",
   "name": "python",
   "nbconvert_exporter": "python",
   "pygments_lexer": "ipython3",
   "version": "3.8.8"
  }
 },
 "nbformat": 4,
 "nbformat_minor": 5
}
