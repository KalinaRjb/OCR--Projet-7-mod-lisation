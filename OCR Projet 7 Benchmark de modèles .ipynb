{
 "cells": [
  {
   "cell_type": "code",
   "execution_count": 1,
   "id": "ff1538fb",
   "metadata": {},
   "outputs": [],
   "source": [
    "from sklearn.model_selection import cross_validate \n",
    "from sklearn.model_selection import cross_val_score\n",
    "from sklearn.model_selection import StratifiedKFold\n",
    "from sklearn.linear_model import LogisticRegression \n",
    "from sklearn.naive_bayes import GaussianNB \n",
    "from sklearn.neighbors import KNeighborsClassifier \n",
    "from sklearn.ensemble import RandomForestClassifier \n",
    "from sklearn.svm import SVC\n",
    "from sklearn.ensemble import GradientBoostingClassifier\n",
    "from sklearn.model_selection import GridSearchCV\n",
    "from sklearn.model_selection import train_test_split\n",
    "from sklearn.model_selection import learning_curve\n",
    "from sklearn import metrics\n",
    "from sklearn.metrics import confusion_matrix, ConfusionMatrixDisplay\n",
    "from sklearn.metrics import classification_report\n",
    "from sklearn.metrics import roc_auc_score\n",
    "import pandas as pd\n",
    "import numpy as np\n",
    "import matplotlib.pyplot as plt\n",
    "import seaborn as sns\n",
    "from tqdm import tqdm\n",
    "from collections import Counter\n",
    "from imblearn.under_sampling import RandomUnderSampler\n",
    "from imblearn.over_sampling import SMOTE \n",
    "from imblearn.pipeline import Pipeline\n",
    "import pandas as pd\n",
    "import numpy as np\n",
    "import warnings\n",
    "import statistics \n",
    "import lime\n",
    "from lime import lime_tabular\n",
    "from random import random \n",
    "#import shap"
   ]
  },
  {
   "cell_type": "code",
   "execution_count": 2,
   "id": "e4200e6e",
   "metadata": {},
   "outputs": [],
   "source": [
    "train_FE_ssDM = pd.DataFrame(pd.read_csv('C:/Users/kalin/train_FE_ssDM_final.csv'))\n",
    "test_FE_ssDM = pd.DataFrame(pd.read_csv('C:/Users/kalin/test_FE_ssDM_final.csv'))"
   ]
  },
  {
   "cell_type": "code",
   "execution_count": 3,
   "id": "5db85ec0",
   "metadata": {},
   "outputs": [
    {
     "data": {
      "text/html": [
       "<div>\n",
       "<style scoped>\n",
       "    .dataframe tbody tr th:only-of-type {\n",
       "        vertical-align: middle;\n",
       "    }\n",
       "\n",
       "    .dataframe tbody tr th {\n",
       "        vertical-align: top;\n",
       "    }\n",
       "\n",
       "    .dataframe thead th {\n",
       "        text-align: right;\n",
       "    }\n",
       "</style>\n",
       "<table border=\"1\" class=\"dataframe\">\n",
       "  <thead>\n",
       "    <tr style=\"text-align: right;\">\n",
       "      <th></th>\n",
       "      <th>TARGET</th>\n",
       "      <th>CODE_GENDER</th>\n",
       "      <th>FLAG_OWN_CAR</th>\n",
       "      <th>FLAG_OWN_REALTY</th>\n",
       "      <th>DAYS_BIRTH</th>\n",
       "      <th>DAYS_REGISTRATION</th>\n",
       "      <th>DAYS_ID_PUBLISH</th>\n",
       "      <th>FLAG_EMP_PHONE</th>\n",
       "      <th>FLAG_WORK_PHONE</th>\n",
       "      <th>FLAG_CONT_MOBILE</th>\n",
       "      <th>...</th>\n",
       "      <th>PREV_PRODUCT_COMBINATION_POS mobile without interest_MEAN</th>\n",
       "      <th>PREV_PRODUCT_COMBINATION_POS other with interest_MEAN</th>\n",
       "      <th>PREV_PRODUCT_COMBINATION_POS others without interest_MEAN</th>\n",
       "      <th>PREV_WEEKDAY_APPR_PROCESS_START_FRIDAY_MEAN</th>\n",
       "      <th>PREV_WEEKDAY_APPR_PROCESS_START_MONDAY_MEAN</th>\n",
       "      <th>PREV_WEEKDAY_APPR_PROCESS_START_SATURDAY_MEAN</th>\n",
       "      <th>PREV_WEEKDAY_APPR_PROCESS_START_SUNDAY_MEAN</th>\n",
       "      <th>PREV_WEEKDAY_APPR_PROCESS_START_THURSDAY_MEAN</th>\n",
       "      <th>PREV_WEEKDAY_APPR_PROCESS_START_TUESDAY_MEAN</th>\n",
       "      <th>PREV_WEEKDAY_APPR_PROCESS_START_WEDNESDAY_MEAN</th>\n",
       "    </tr>\n",
       "  </thead>\n",
       "  <tbody>\n",
       "    <tr>\n",
       "      <th>0</th>\n",
       "      <td>1</td>\n",
       "      <td>0</td>\n",
       "      <td>0</td>\n",
       "      <td>0</td>\n",
       "      <td>-9461</td>\n",
       "      <td>-3648.0</td>\n",
       "      <td>-2120</td>\n",
       "      <td>1</td>\n",
       "      <td>0</td>\n",
       "      <td>1</td>\n",
       "      <td>...</td>\n",
       "      <td>0.0</td>\n",
       "      <td>1.0</td>\n",
       "      <td>0.0</td>\n",
       "      <td>0.000000</td>\n",
       "      <td>0.000000</td>\n",
       "      <td>1.000000</td>\n",
       "      <td>0.000000</td>\n",
       "      <td>0.000000</td>\n",
       "      <td>0.000000</td>\n",
       "      <td>0.0</td>\n",
       "    </tr>\n",
       "    <tr>\n",
       "      <th>1</th>\n",
       "      <td>0</td>\n",
       "      <td>1</td>\n",
       "      <td>0</td>\n",
       "      <td>1</td>\n",
       "      <td>-16765</td>\n",
       "      <td>-1186.0</td>\n",
       "      <td>-291</td>\n",
       "      <td>1</td>\n",
       "      <td>0</td>\n",
       "      <td>1</td>\n",
       "      <td>...</td>\n",
       "      <td>0.0</td>\n",
       "      <td>0.0</td>\n",
       "      <td>0.0</td>\n",
       "      <td>0.333333</td>\n",
       "      <td>0.000000</td>\n",
       "      <td>0.333333</td>\n",
       "      <td>0.333333</td>\n",
       "      <td>0.000000</td>\n",
       "      <td>0.000000</td>\n",
       "      <td>0.0</td>\n",
       "    </tr>\n",
       "    <tr>\n",
       "      <th>2</th>\n",
       "      <td>0</td>\n",
       "      <td>0</td>\n",
       "      <td>1</td>\n",
       "      <td>0</td>\n",
       "      <td>-19046</td>\n",
       "      <td>-4260.0</td>\n",
       "      <td>-2531</td>\n",
       "      <td>1</td>\n",
       "      <td>1</td>\n",
       "      <td>1</td>\n",
       "      <td>...</td>\n",
       "      <td>1.0</td>\n",
       "      <td>0.0</td>\n",
       "      <td>0.0</td>\n",
       "      <td>1.000000</td>\n",
       "      <td>0.000000</td>\n",
       "      <td>0.000000</td>\n",
       "      <td>0.000000</td>\n",
       "      <td>0.000000</td>\n",
       "      <td>0.000000</td>\n",
       "      <td>0.0</td>\n",
       "    </tr>\n",
       "    <tr>\n",
       "      <th>3</th>\n",
       "      <td>0</td>\n",
       "      <td>1</td>\n",
       "      <td>0</td>\n",
       "      <td>0</td>\n",
       "      <td>-19005</td>\n",
       "      <td>-9833.0</td>\n",
       "      <td>-2437</td>\n",
       "      <td>1</td>\n",
       "      <td>0</td>\n",
       "      <td>1</td>\n",
       "      <td>...</td>\n",
       "      <td>0.0</td>\n",
       "      <td>0.0</td>\n",
       "      <td>0.0</td>\n",
       "      <td>0.000000</td>\n",
       "      <td>0.000000</td>\n",
       "      <td>0.142857</td>\n",
       "      <td>0.000000</td>\n",
       "      <td>0.714286</td>\n",
       "      <td>0.142857</td>\n",
       "      <td>0.0</td>\n",
       "    </tr>\n",
       "    <tr>\n",
       "      <th>4</th>\n",
       "      <td>0</td>\n",
       "      <td>0</td>\n",
       "      <td>0</td>\n",
       "      <td>0</td>\n",
       "      <td>-19932</td>\n",
       "      <td>-4311.0</td>\n",
       "      <td>-3458</td>\n",
       "      <td>1</td>\n",
       "      <td>0</td>\n",
       "      <td>1</td>\n",
       "      <td>...</td>\n",
       "      <td>0.0</td>\n",
       "      <td>0.0</td>\n",
       "      <td>0.0</td>\n",
       "      <td>0.200000</td>\n",
       "      <td>0.000000</td>\n",
       "      <td>0.200000</td>\n",
       "      <td>0.400000</td>\n",
       "      <td>0.200000</td>\n",
       "      <td>0.000000</td>\n",
       "      <td>0.0</td>\n",
       "    </tr>\n",
       "    <tr>\n",
       "      <th>...</th>\n",
       "      <td>...</td>\n",
       "      <td>...</td>\n",
       "      <td>...</td>\n",
       "      <td>...</td>\n",
       "      <td>...</td>\n",
       "      <td>...</td>\n",
       "      <td>...</td>\n",
       "      <td>...</td>\n",
       "      <td>...</td>\n",
       "      <td>...</td>\n",
       "      <td>...</td>\n",
       "      <td>...</td>\n",
       "      <td>...</td>\n",
       "      <td>...</td>\n",
       "      <td>...</td>\n",
       "      <td>...</td>\n",
       "      <td>...</td>\n",
       "      <td>...</td>\n",
       "      <td>...</td>\n",
       "      <td>...</td>\n",
       "      <td>...</td>\n",
       "    </tr>\n",
       "    <tr>\n",
       "      <th>252096</th>\n",
       "      <td>0</td>\n",
       "      <td>1</td>\n",
       "      <td>0</td>\n",
       "      <td>0</td>\n",
       "      <td>-16705</td>\n",
       "      <td>-9798.0</td>\n",
       "      <td>-259</td>\n",
       "      <td>1</td>\n",
       "      <td>0</td>\n",
       "      <td>1</td>\n",
       "      <td>...</td>\n",
       "      <td>0.0</td>\n",
       "      <td>0.0</td>\n",
       "      <td>0.0</td>\n",
       "      <td>0.333333</td>\n",
       "      <td>0.333333</td>\n",
       "      <td>0.000000</td>\n",
       "      <td>0.000000</td>\n",
       "      <td>0.333333</td>\n",
       "      <td>0.000000</td>\n",
       "      <td>0.0</td>\n",
       "    </tr>\n",
       "    <tr>\n",
       "      <th>252097</th>\n",
       "      <td>0</td>\n",
       "      <td>0</td>\n",
       "      <td>0</td>\n",
       "      <td>1</td>\n",
       "      <td>-9327</td>\n",
       "      <td>-8456.0</td>\n",
       "      <td>-1982</td>\n",
       "      <td>1</td>\n",
       "      <td>0</td>\n",
       "      <td>1</td>\n",
       "      <td>...</td>\n",
       "      <td>0.0</td>\n",
       "      <td>0.0</td>\n",
       "      <td>0.0</td>\n",
       "      <td>0.000000</td>\n",
       "      <td>0.000000</td>\n",
       "      <td>0.000000</td>\n",
       "      <td>0.000000</td>\n",
       "      <td>1.000000</td>\n",
       "      <td>0.000000</td>\n",
       "      <td>0.0</td>\n",
       "    </tr>\n",
       "    <tr>\n",
       "      <th>252098</th>\n",
       "      <td>0</td>\n",
       "      <td>1</td>\n",
       "      <td>0</td>\n",
       "      <td>0</td>\n",
       "      <td>-14966</td>\n",
       "      <td>-6737.0</td>\n",
       "      <td>-5150</td>\n",
       "      <td>1</td>\n",
       "      <td>0</td>\n",
       "      <td>1</td>\n",
       "      <td>...</td>\n",
       "      <td>0.0</td>\n",
       "      <td>0.0</td>\n",
       "      <td>0.0</td>\n",
       "      <td>0.000000</td>\n",
       "      <td>0.000000</td>\n",
       "      <td>0.500000</td>\n",
       "      <td>0.000000</td>\n",
       "      <td>0.000000</td>\n",
       "      <td>0.500000</td>\n",
       "      <td>0.0</td>\n",
       "    </tr>\n",
       "    <tr>\n",
       "      <th>252099</th>\n",
       "      <td>1</td>\n",
       "      <td>1</td>\n",
       "      <td>0</td>\n",
       "      <td>0</td>\n",
       "      <td>-11961</td>\n",
       "      <td>-2562.0</td>\n",
       "      <td>-931</td>\n",
       "      <td>1</td>\n",
       "      <td>0</td>\n",
       "      <td>1</td>\n",
       "      <td>...</td>\n",
       "      <td>0.0</td>\n",
       "      <td>0.0</td>\n",
       "      <td>0.0</td>\n",
       "      <td>0.000000</td>\n",
       "      <td>0.000000</td>\n",
       "      <td>0.000000</td>\n",
       "      <td>0.000000</td>\n",
       "      <td>0.000000</td>\n",
       "      <td>0.000000</td>\n",
       "      <td>0.0</td>\n",
       "    </tr>\n",
       "    <tr>\n",
       "      <th>252100</th>\n",
       "      <td>0</td>\n",
       "      <td>1</td>\n",
       "      <td>0</td>\n",
       "      <td>1</td>\n",
       "      <td>-16856</td>\n",
       "      <td>-5128.0</td>\n",
       "      <td>-410</td>\n",
       "      <td>1</td>\n",
       "      <td>1</td>\n",
       "      <td>1</td>\n",
       "      <td>...</td>\n",
       "      <td>0.0</td>\n",
       "      <td>0.0</td>\n",
       "      <td>0.0</td>\n",
       "      <td>0.375000</td>\n",
       "      <td>0.000000</td>\n",
       "      <td>0.000000</td>\n",
       "      <td>0.250000</td>\n",
       "      <td>0.250000</td>\n",
       "      <td>0.125000</td>\n",
       "      <td>0.0</td>\n",
       "    </tr>\n",
       "  </tbody>\n",
       "</table>\n",
       "<p>252101 rows × 312 columns</p>\n",
       "</div>"
      ],
      "text/plain": [
       "        TARGET  CODE_GENDER  FLAG_OWN_CAR  FLAG_OWN_REALTY  DAYS_BIRTH  \\\n",
       "0            1            0             0                0       -9461   \n",
       "1            0            1             0                1      -16765   \n",
       "2            0            0             1                0      -19046   \n",
       "3            0            1             0                0      -19005   \n",
       "4            0            0             0                0      -19932   \n",
       "...        ...          ...           ...              ...         ...   \n",
       "252096       0            1             0                0      -16705   \n",
       "252097       0            0             0                1       -9327   \n",
       "252098       0            1             0                0      -14966   \n",
       "252099       1            1             0                0      -11961   \n",
       "252100       0            1             0                1      -16856   \n",
       "\n",
       "        DAYS_REGISTRATION  DAYS_ID_PUBLISH  FLAG_EMP_PHONE  FLAG_WORK_PHONE  \\\n",
       "0                 -3648.0            -2120               1                0   \n",
       "1                 -1186.0             -291               1                0   \n",
       "2                 -4260.0            -2531               1                1   \n",
       "3                 -9833.0            -2437               1                0   \n",
       "4                 -4311.0            -3458               1                0   \n",
       "...                   ...              ...             ...              ...   \n",
       "252096            -9798.0             -259               1                0   \n",
       "252097            -8456.0            -1982               1                0   \n",
       "252098            -6737.0            -5150               1                0   \n",
       "252099            -2562.0             -931               1                0   \n",
       "252100            -5128.0             -410               1                1   \n",
       "\n",
       "        FLAG_CONT_MOBILE  ...  \\\n",
       "0                      1  ...   \n",
       "1                      1  ...   \n",
       "2                      1  ...   \n",
       "3                      1  ...   \n",
       "4                      1  ...   \n",
       "...                  ...  ...   \n",
       "252096                 1  ...   \n",
       "252097                 1  ...   \n",
       "252098                 1  ...   \n",
       "252099                 1  ...   \n",
       "252100                 1  ...   \n",
       "\n",
       "        PREV_PRODUCT_COMBINATION_POS mobile without interest_MEAN  \\\n",
       "0                                                     0.0           \n",
       "1                                                     0.0           \n",
       "2                                                     1.0           \n",
       "3                                                     0.0           \n",
       "4                                                     0.0           \n",
       "...                                                   ...           \n",
       "252096                                                0.0           \n",
       "252097                                                0.0           \n",
       "252098                                                0.0           \n",
       "252099                                                0.0           \n",
       "252100                                                0.0           \n",
       "\n",
       "        PREV_PRODUCT_COMBINATION_POS other with interest_MEAN  \\\n",
       "0                                                     1.0       \n",
       "1                                                     0.0       \n",
       "2                                                     0.0       \n",
       "3                                                     0.0       \n",
       "4                                                     0.0       \n",
       "...                                                   ...       \n",
       "252096                                                0.0       \n",
       "252097                                                0.0       \n",
       "252098                                                0.0       \n",
       "252099                                                0.0       \n",
       "252100                                                0.0       \n",
       "\n",
       "        PREV_PRODUCT_COMBINATION_POS others without interest_MEAN  \\\n",
       "0                                                     0.0           \n",
       "1                                                     0.0           \n",
       "2                                                     0.0           \n",
       "3                                                     0.0           \n",
       "4                                                     0.0           \n",
       "...                                                   ...           \n",
       "252096                                                0.0           \n",
       "252097                                                0.0           \n",
       "252098                                                0.0           \n",
       "252099                                                0.0           \n",
       "252100                                                0.0           \n",
       "\n",
       "        PREV_WEEKDAY_APPR_PROCESS_START_FRIDAY_MEAN  \\\n",
       "0                                          0.000000   \n",
       "1                                          0.333333   \n",
       "2                                          1.000000   \n",
       "3                                          0.000000   \n",
       "4                                          0.200000   \n",
       "...                                             ...   \n",
       "252096                                     0.333333   \n",
       "252097                                     0.000000   \n",
       "252098                                     0.000000   \n",
       "252099                                     0.000000   \n",
       "252100                                     0.375000   \n",
       "\n",
       "        PREV_WEEKDAY_APPR_PROCESS_START_MONDAY_MEAN  \\\n",
       "0                                          0.000000   \n",
       "1                                          0.000000   \n",
       "2                                          0.000000   \n",
       "3                                          0.000000   \n",
       "4                                          0.000000   \n",
       "...                                             ...   \n",
       "252096                                     0.333333   \n",
       "252097                                     0.000000   \n",
       "252098                                     0.000000   \n",
       "252099                                     0.000000   \n",
       "252100                                     0.000000   \n",
       "\n",
       "        PREV_WEEKDAY_APPR_PROCESS_START_SATURDAY_MEAN  \\\n",
       "0                                            1.000000   \n",
       "1                                            0.333333   \n",
       "2                                            0.000000   \n",
       "3                                            0.142857   \n",
       "4                                            0.200000   \n",
       "...                                               ...   \n",
       "252096                                       0.000000   \n",
       "252097                                       0.000000   \n",
       "252098                                       0.500000   \n",
       "252099                                       0.000000   \n",
       "252100                                       0.000000   \n",
       "\n",
       "        PREV_WEEKDAY_APPR_PROCESS_START_SUNDAY_MEAN  \\\n",
       "0                                          0.000000   \n",
       "1                                          0.333333   \n",
       "2                                          0.000000   \n",
       "3                                          0.000000   \n",
       "4                                          0.400000   \n",
       "...                                             ...   \n",
       "252096                                     0.000000   \n",
       "252097                                     0.000000   \n",
       "252098                                     0.000000   \n",
       "252099                                     0.000000   \n",
       "252100                                     0.250000   \n",
       "\n",
       "        PREV_WEEKDAY_APPR_PROCESS_START_THURSDAY_MEAN  \\\n",
       "0                                            0.000000   \n",
       "1                                            0.000000   \n",
       "2                                            0.000000   \n",
       "3                                            0.714286   \n",
       "4                                            0.200000   \n",
       "...                                               ...   \n",
       "252096                                       0.333333   \n",
       "252097                                       1.000000   \n",
       "252098                                       0.000000   \n",
       "252099                                       0.000000   \n",
       "252100                                       0.250000   \n",
       "\n",
       "        PREV_WEEKDAY_APPR_PROCESS_START_TUESDAY_MEAN  \\\n",
       "0                                           0.000000   \n",
       "1                                           0.000000   \n",
       "2                                           0.000000   \n",
       "3                                           0.142857   \n",
       "4                                           0.000000   \n",
       "...                                              ...   \n",
       "252096                                      0.000000   \n",
       "252097                                      0.000000   \n",
       "252098                                      0.500000   \n",
       "252099                                      0.000000   \n",
       "252100                                      0.125000   \n",
       "\n",
       "        PREV_WEEKDAY_APPR_PROCESS_START_WEDNESDAY_MEAN  \n",
       "0                                                  0.0  \n",
       "1                                                  0.0  \n",
       "2                                                  0.0  \n",
       "3                                                  0.0  \n",
       "4                                                  0.0  \n",
       "...                                                ...  \n",
       "252096                                             0.0  \n",
       "252097                                             0.0  \n",
       "252098                                             0.0  \n",
       "252099                                             0.0  \n",
       "252100                                             0.0  \n",
       "\n",
       "[252101 rows x 312 columns]"
      ]
     },
     "execution_count": 3,
     "metadata": {},
     "output_type": "execute_result"
    }
   ],
   "source": [
    "train_FE_ssDM= train_FE_ssDM.drop(columns=['Unnamed: 0'])\n",
    "train_FE_ssDM"
   ]
  },
  {
   "cell_type": "code",
   "execution_count": 4,
   "id": "3eb33ed1",
   "metadata": {},
   "outputs": [
    {
     "data": {
      "text/html": [
       "<div>\n",
       "<style scoped>\n",
       "    .dataframe tbody tr th:only-of-type {\n",
       "        vertical-align: middle;\n",
       "    }\n",
       "\n",
       "    .dataframe tbody tr th {\n",
       "        vertical-align: top;\n",
       "    }\n",
       "\n",
       "    .dataframe thead th {\n",
       "        text-align: right;\n",
       "    }\n",
       "</style>\n",
       "<table border=\"1\" class=\"dataframe\">\n",
       "  <thead>\n",
       "    <tr style=\"text-align: right;\">\n",
       "      <th></th>\n",
       "      <th>TARGET</th>\n",
       "    </tr>\n",
       "  </thead>\n",
       "  <tbody>\n",
       "    <tr>\n",
       "      <th>0</th>\n",
       "      <td>230271</td>\n",
       "    </tr>\n",
       "    <tr>\n",
       "      <th>1</th>\n",
       "      <td>21830</td>\n",
       "    </tr>\n",
       "  </tbody>\n",
       "</table>\n",
       "</div>"
      ],
      "text/plain": [
       "   TARGET\n",
       "0  230271\n",
       "1   21830"
      ]
     },
     "execution_count": 4,
     "metadata": {},
     "output_type": "execute_result"
    }
   ],
   "source": [
    "dist_y = train_FE_ssDM['TARGET'].value_counts()\n",
    "dist_y =pd.DataFrame(dist_y)\n",
    "dist_y"
   ]
  },
  {
   "cell_type": "code",
   "execution_count": 5,
   "id": "5994e17a",
   "metadata": {},
   "outputs": [
    {
     "data": {
      "text/plain": [
       "<BarContainer object of 2 artists>"
      ]
     },
     "execution_count": 5,
     "metadata": {},
     "output_type": "execute_result"
    },
    {
     "data": {
      "image/png": "[encoded data removed]",
      "text/plain": [
       "<Figure size 432x288 with 1 Axes>"
      ]
     },
     "metadata": {
      "needs_background": "light"
     },
     "output_type": "display_data"
    }
   ],
   "source": [
    "plt.bar(dist_y.index, dist_y.TARGET, width = 0.5)"
   ]
  },
  {
   "cell_type": "code",
   "execution_count": 6,
   "id": "f1c99778",
   "metadata": {},
   "outputs": [
    {
     "data": {
      "text/html": [
       "<div>\n",
       "<style scoped>\n",
       "    .dataframe tbody tr th:only-of-type {\n",
       "        vertical-align: middle;\n",
       "    }\n",
       "\n",
       "    .dataframe tbody tr th {\n",
       "        vertical-align: top;\n",
       "    }\n",
       "\n",
       "    .dataframe thead th {\n",
       "        text-align: right;\n",
       "    }\n",
       "</style>\n",
       "<table border=\"1\" class=\"dataframe\">\n",
       "  <thead>\n",
       "    <tr style=\"text-align: right;\">\n",
       "      <th></th>\n",
       "      <th>Unnamed: 0</th>\n",
       "      <th>CODE_GENDER</th>\n",
       "      <th>FLAG_OWN_CAR</th>\n",
       "      <th>FLAG_OWN_REALTY</th>\n",
       "      <th>DAYS_BIRTH</th>\n",
       "      <th>DAYS_REGISTRATION</th>\n",
       "      <th>DAYS_ID_PUBLISH</th>\n",
       "      <th>FLAG_EMP_PHONE</th>\n",
       "      <th>FLAG_WORK_PHONE</th>\n",
       "      <th>FLAG_CONT_MOBILE</th>\n",
       "      <th>...</th>\n",
       "      <th>INSTAL_PAYMENT_DIFF_MEAN</th>\n",
       "      <th>INSTAL_PAYMENT_DIFF_SUM</th>\n",
       "      <th>INSTAL_PAYMENT_DIFF_MAX</th>\n",
       "      <th>INSTAL_DBD_SUM</th>\n",
       "      <th>INSTAL_DBD_MEAN</th>\n",
       "      <th>INSTAL_DBD_MAX</th>\n",
       "      <th>INSTAL_DPD_SUM</th>\n",
       "      <th>INSTAL_DPD_MEAN</th>\n",
       "      <th>INSTAL_DPD_MAX</th>\n",
       "      <th>INSTAL_NUM_INSTALMENT_VERSION_NUNIQUE</th>\n",
       "    </tr>\n",
       "  </thead>\n",
       "  <tbody>\n",
       "    <tr>\n",
       "      <th>0</th>\n",
       "      <td>0</td>\n",
       "      <td>0</td>\n",
       "      <td>0</td>\n",
       "      <td>0</td>\n",
       "      <td>-19241</td>\n",
       "      <td>-5170.0</td>\n",
       "      <td>-812</td>\n",
       "      <td>1</td>\n",
       "      <td>0</td>\n",
       "      <td>1</td>\n",
       "      <td>...</td>\n",
       "      <td>0.000000</td>\n",
       "      <td>0.000</td>\n",
       "      <td>0.00</td>\n",
       "      <td>62.0</td>\n",
       "      <td>8.857143</td>\n",
       "      <td>36.0</td>\n",
       "      <td>11.0</td>\n",
       "      <td>1.571429</td>\n",
       "      <td>11.0</td>\n",
       "      <td>2.0</td>\n",
       "    </tr>\n",
       "    <tr>\n",
       "      <th>1</th>\n",
       "      <td>1</td>\n",
       "      <td>1</td>\n",
       "      <td>0</td>\n",
       "      <td>0</td>\n",
       "      <td>-18064</td>\n",
       "      <td>-9118.0</td>\n",
       "      <td>-1623</td>\n",
       "      <td>1</td>\n",
       "      <td>0</td>\n",
       "      <td>1</td>\n",
       "      <td>...</td>\n",
       "      <td>0.000000</td>\n",
       "      <td>0.000</td>\n",
       "      <td>0.00</td>\n",
       "      <td>213.0</td>\n",
       "      <td>23.666667</td>\n",
       "      <td>37.0</td>\n",
       "      <td>1.0</td>\n",
       "      <td>0.111111</td>\n",
       "      <td>1.0</td>\n",
       "      <td>2.0</td>\n",
       "    </tr>\n",
       "    <tr>\n",
       "      <th>2</th>\n",
       "      <td>2</td>\n",
       "      <td>1</td>\n",
       "      <td>1</td>\n",
       "      <td>0</td>\n",
       "      <td>-20038</td>\n",
       "      <td>-2175.0</td>\n",
       "      <td>-3503</td>\n",
       "      <td>1</td>\n",
       "      <td>0</td>\n",
       "      <td>1</td>\n",
       "      <td>...</td>\n",
       "      <td>1157.662742</td>\n",
       "      <td>179437.725</td>\n",
       "      <td>23147.82</td>\n",
       "      <td>887.0</td>\n",
       "      <td>5.722581</td>\n",
       "      <td>38.0</td>\n",
       "      <td>84.0</td>\n",
       "      <td>0.541935</td>\n",
       "      <td>21.0</td>\n",
       "      <td>3.0</td>\n",
       "    </tr>\n",
       "    <tr>\n",
       "      <th>3</th>\n",
       "      <td>3</td>\n",
       "      <td>0</td>\n",
       "      <td>0</td>\n",
       "      <td>0</td>\n",
       "      <td>-13976</td>\n",
       "      <td>-2000.0</td>\n",
       "      <td>-4208</td>\n",
       "      <td>1</td>\n",
       "      <td>0</td>\n",
       "      <td>1</td>\n",
       "      <td>...</td>\n",
       "      <td>622.550708</td>\n",
       "      <td>70348.230</td>\n",
       "      <td>8505.00</td>\n",
       "      <td>369.0</td>\n",
       "      <td>3.265487</td>\n",
       "      <td>19.0</td>\n",
       "      <td>30.0</td>\n",
       "      <td>0.265487</td>\n",
       "      <td>7.0</td>\n",
       "      <td>3.0</td>\n",
       "    </tr>\n",
       "    <tr>\n",
       "      <th>4</th>\n",
       "      <td>4</td>\n",
       "      <td>1</td>\n",
       "      <td>1</td>\n",
       "      <td>1</td>\n",
       "      <td>-13040</td>\n",
       "      <td>-4000.0</td>\n",
       "      <td>-4262</td>\n",
       "      <td>1</td>\n",
       "      <td>1</td>\n",
       "      <td>1</td>\n",
       "      <td>...</td>\n",
       "      <td>0.000000</td>\n",
       "      <td>0.000</td>\n",
       "      <td>0.00</td>\n",
       "      <td>147.0</td>\n",
       "      <td>12.250000</td>\n",
       "      <td>18.0</td>\n",
       "      <td>0.0</td>\n",
       "      <td>0.000000</td>\n",
       "      <td>0.0</td>\n",
       "      <td>1.0</td>\n",
       "    </tr>\n",
       "    <tr>\n",
       "      <th>...</th>\n",
       "      <td>...</td>\n",
       "      <td>...</td>\n",
       "      <td>...</td>\n",
       "      <td>...</td>\n",
       "      <td>...</td>\n",
       "      <td>...</td>\n",
       "      <td>...</td>\n",
       "      <td>...</td>\n",
       "      <td>...</td>\n",
       "      <td>...</td>\n",
       "      <td>...</td>\n",
       "      <td>...</td>\n",
       "      <td>...</td>\n",
       "      <td>...</td>\n",
       "      <td>...</td>\n",
       "      <td>...</td>\n",
       "      <td>...</td>\n",
       "      <td>...</td>\n",
       "      <td>...</td>\n",
       "      <td>...</td>\n",
       "      <td>...</td>\n",
       "    </tr>\n",
       "    <tr>\n",
       "      <th>39454</th>\n",
       "      <td>39465</td>\n",
       "      <td>0</td>\n",
       "      <td>0</td>\n",
       "      <td>0</td>\n",
       "      <td>-19970</td>\n",
       "      <td>-9094.0</td>\n",
       "      <td>-3399</td>\n",
       "      <td>1</td>\n",
       "      <td>1</td>\n",
       "      <td>1</td>\n",
       "      <td>...</td>\n",
       "      <td>0.000000</td>\n",
       "      <td>0.000</td>\n",
       "      <td>0.00</td>\n",
       "      <td>22.0</td>\n",
       "      <td>7.333333</td>\n",
       "      <td>8.0</td>\n",
       "      <td>0.0</td>\n",
       "      <td>0.000000</td>\n",
       "      <td>0.0</td>\n",
       "      <td>2.0</td>\n",
       "    </tr>\n",
       "    <tr>\n",
       "      <th>39455</th>\n",
       "      <td>39466</td>\n",
       "      <td>0</td>\n",
       "      <td>0</td>\n",
       "      <td>1</td>\n",
       "      <td>-11186</td>\n",
       "      <td>-3015.0</td>\n",
       "      <td>-3003</td>\n",
       "      <td>1</td>\n",
       "      <td>0</td>\n",
       "      <td>1</td>\n",
       "      <td>...</td>\n",
       "      <td>314.714589</td>\n",
       "      <td>22974.165</td>\n",
       "      <td>9680.49</td>\n",
       "      <td>438.0</td>\n",
       "      <td>6.000000</td>\n",
       "      <td>26.0</td>\n",
       "      <td>38.0</td>\n",
       "      <td>0.520548</td>\n",
       "      <td>19.0</td>\n",
       "      <td>1.0</td>\n",
       "    </tr>\n",
       "    <tr>\n",
       "      <th>39456</th>\n",
       "      <td>39467</td>\n",
       "      <td>0</td>\n",
       "      <td>1</td>\n",
       "      <td>0</td>\n",
       "      <td>-15922</td>\n",
       "      <td>-2681.0</td>\n",
       "      <td>-1504</td>\n",
       "      <td>1</td>\n",
       "      <td>0</td>\n",
       "      <td>1</td>\n",
       "      <td>...</td>\n",
       "      <td>0.000000</td>\n",
       "      <td>0.000</td>\n",
       "      <td>0.00</td>\n",
       "      <td>253.0</td>\n",
       "      <td>31.625000</td>\n",
       "      <td>76.0</td>\n",
       "      <td>0.0</td>\n",
       "      <td>0.000000</td>\n",
       "      <td>0.0</td>\n",
       "      <td>2.0</td>\n",
       "    </tr>\n",
       "    <tr>\n",
       "      <th>39457</th>\n",
       "      <td>39468</td>\n",
       "      <td>1</td>\n",
       "      <td>0</td>\n",
       "      <td>1</td>\n",
       "      <td>-13968</td>\n",
       "      <td>-1461.0</td>\n",
       "      <td>-1364</td>\n",
       "      <td>1</td>\n",
       "      <td>1</td>\n",
       "      <td>1</td>\n",
       "      <td>...</td>\n",
       "      <td>0.000000</td>\n",
       "      <td>0.000</td>\n",
       "      <td>0.00</td>\n",
       "      <td>211.0</td>\n",
       "      <td>7.275862</td>\n",
       "      <td>15.0</td>\n",
       "      <td>1.0</td>\n",
       "      <td>0.034483</td>\n",
       "      <td>1.0</td>\n",
       "      <td>1.0</td>\n",
       "    </tr>\n",
       "    <tr>\n",
       "      <th>39458</th>\n",
       "      <td>39469</td>\n",
       "      <td>0</td>\n",
       "      <td>1</td>\n",
       "      <td>1</td>\n",
       "      <td>-13962</td>\n",
       "      <td>-1072.0</td>\n",
       "      <td>-4220</td>\n",
       "      <td>1</td>\n",
       "      <td>1</td>\n",
       "      <td>1</td>\n",
       "      <td>...</td>\n",
       "      <td>193.079700</td>\n",
       "      <td>9653.985</td>\n",
       "      <td>9000.00</td>\n",
       "      <td>430.0</td>\n",
       "      <td>8.600000</td>\n",
       "      <td>30.0</td>\n",
       "      <td>21.0</td>\n",
       "      <td>0.420000</td>\n",
       "      <td>10.0</td>\n",
       "      <td>2.0</td>\n",
       "    </tr>\n",
       "  </tbody>\n",
       "</table>\n",
       "<p>39459 rows × 312 columns</p>\n",
       "</div>"
      ],
      "text/plain": [
       "       Unnamed: 0  CODE_GENDER  FLAG_OWN_CAR  FLAG_OWN_REALTY  DAYS_BIRTH  \\\n",
       "0               0            0             0                0      -19241   \n",
       "1               1            1             0                0      -18064   \n",
       "2               2            1             1                0      -20038   \n",
       "3               3            0             0                0      -13976   \n",
       "4               4            1             1                1      -13040   \n",
       "...           ...          ...           ...              ...         ...   \n",
       "39454       39465            0             0                0      -19970   \n",
       "39455       39466            0             0                1      -11186   \n",
       "39456       39467            0             1                0      -15922   \n",
       "39457       39468            1             0                1      -13968   \n",
       "39458       39469            0             1                1      -13962   \n",
       "\n",
       "       DAYS_REGISTRATION  DAYS_ID_PUBLISH  FLAG_EMP_PHONE  FLAG_WORK_PHONE  \\\n",
       "0                -5170.0             -812               1                0   \n",
       "1                -9118.0            -1623               1                0   \n",
       "2                -2175.0            -3503               1                0   \n",
       "3                -2000.0            -4208               1                0   \n",
       "4                -4000.0            -4262               1                1   \n",
       "...                  ...              ...             ...              ...   \n",
       "39454            -9094.0            -3399               1                1   \n",
       "39455            -3015.0            -3003               1                0   \n",
       "39456            -2681.0            -1504               1                0   \n",
       "39457            -1461.0            -1364               1                1   \n",
       "39458            -1072.0            -4220               1                1   \n",
       "\n",
       "       FLAG_CONT_MOBILE  ...  INSTAL_PAYMENT_DIFF_MEAN  \\\n",
       "0                     1  ...                  0.000000   \n",
       "1                     1  ...                  0.000000   \n",
       "2                     1  ...               1157.662742   \n",
       "3                     1  ...                622.550708   \n",
       "4                     1  ...                  0.000000   \n",
       "...                 ...  ...                       ...   \n",
       "39454                 1  ...                  0.000000   \n",
       "39455                 1  ...                314.714589   \n",
       "39456                 1  ...                  0.000000   \n",
       "39457                 1  ...                  0.000000   \n",
       "39458                 1  ...                193.079700   \n",
       "\n",
       "       INSTAL_PAYMENT_DIFF_SUM  INSTAL_PAYMENT_DIFF_MAX  INSTAL_DBD_SUM  \\\n",
       "0                        0.000                     0.00            62.0   \n",
       "1                        0.000                     0.00           213.0   \n",
       "2                   179437.725                 23147.82           887.0   \n",
       "3                    70348.230                  8505.00           369.0   \n",
       "4                        0.000                     0.00           147.0   \n",
       "...                        ...                      ...             ...   \n",
       "39454                    0.000                     0.00            22.0   \n",
       "39455                22974.165                  9680.49           438.0   \n",
       "39456                    0.000                     0.00           253.0   \n",
       "39457                    0.000                     0.00           211.0   \n",
       "39458                 9653.985                  9000.00           430.0   \n",
       "\n",
       "       INSTAL_DBD_MEAN  INSTAL_DBD_MAX  INSTAL_DPD_SUM  INSTAL_DPD_MEAN  \\\n",
       "0             8.857143            36.0            11.0         1.571429   \n",
       "1            23.666667            37.0             1.0         0.111111   \n",
       "2             5.722581            38.0            84.0         0.541935   \n",
       "3             3.265487            19.0            30.0         0.265487   \n",
       "4            12.250000            18.0             0.0         0.000000   \n",
       "...                ...             ...             ...              ...   \n",
       "39454         7.333333             8.0             0.0         0.000000   \n",
       "39455         6.000000            26.0            38.0         0.520548   \n",
       "39456        31.625000            76.0             0.0         0.000000   \n",
       "39457         7.275862            15.0             1.0         0.034483   \n",
       "39458         8.600000            30.0            21.0         0.420000   \n",
       "\n",
       "       INSTAL_DPD_MAX  INSTAL_NUM_INSTALMENT_VERSION_NUNIQUE  \n",
       "0                11.0                                    2.0  \n",
       "1                 1.0                                    2.0  \n",
       "2                21.0                                    3.0  \n",
       "3                 7.0                                    3.0  \n",
       "4                 0.0                                    1.0  \n",
       "...               ...                                    ...  \n",
       "39454             0.0                                    2.0  \n",
       "39455            19.0                                    1.0  \n",
       "39456             0.0                                    2.0  \n",
       "39457             1.0                                    1.0  \n",
       "39458            10.0                                    2.0  \n",
       "\n",
       "[39459 rows x 312 columns]"
      ]
     },
     "execution_count": 6,
     "metadata": {},
     "output_type": "execute_result"
    }
   ],
   "source": [
    "test_FE_ssDM"
   ]
  },
  {
   "cell_type": "code",
   "execution_count": 7,
   "id": "f961af66",
   "metadata": {},
   "outputs": [
    {
     "data": {
      "text/html": [
       "<div>\n",
       "<style scoped>\n",
       "    .dataframe tbody tr th:only-of-type {\n",
       "        vertical-align: middle;\n",
       "    }\n",
       "\n",
       "    .dataframe tbody tr th {\n",
       "        vertical-align: top;\n",
       "    }\n",
       "\n",
       "    .dataframe thead th {\n",
       "        text-align: right;\n",
       "    }\n",
       "</style>\n",
       "<table border=\"1\" class=\"dataframe\">\n",
       "  <thead>\n",
       "    <tr style=\"text-align: right;\">\n",
       "      <th></th>\n",
       "      <th>CODE_GENDER</th>\n",
       "      <th>FLAG_OWN_CAR</th>\n",
       "      <th>FLAG_OWN_REALTY</th>\n",
       "      <th>DAYS_BIRTH</th>\n",
       "      <th>DAYS_REGISTRATION</th>\n",
       "      <th>DAYS_ID_PUBLISH</th>\n",
       "      <th>FLAG_EMP_PHONE</th>\n",
       "      <th>FLAG_WORK_PHONE</th>\n",
       "      <th>FLAG_CONT_MOBILE</th>\n",
       "      <th>FLAG_PHONE</th>\n",
       "      <th>...</th>\n",
       "      <th>INSTAL_PAYMENT_DIFF_MEAN</th>\n",
       "      <th>INSTAL_PAYMENT_DIFF_SUM</th>\n",
       "      <th>INSTAL_PAYMENT_DIFF_MAX</th>\n",
       "      <th>INSTAL_DBD_SUM</th>\n",
       "      <th>INSTAL_DBD_MEAN</th>\n",
       "      <th>INSTAL_DBD_MAX</th>\n",
       "      <th>INSTAL_DPD_SUM</th>\n",
       "      <th>INSTAL_DPD_MEAN</th>\n",
       "      <th>INSTAL_DPD_MAX</th>\n",
       "      <th>INSTAL_NUM_INSTALMENT_VERSION_NUNIQUE</th>\n",
       "    </tr>\n",
       "  </thead>\n",
       "  <tbody>\n",
       "    <tr>\n",
       "      <th>0</th>\n",
       "      <td>0</td>\n",
       "      <td>0</td>\n",
       "      <td>0</td>\n",
       "      <td>-19241</td>\n",
       "      <td>-5170.0</td>\n",
       "      <td>-812</td>\n",
       "      <td>1</td>\n",
       "      <td>0</td>\n",
       "      <td>1</td>\n",
       "      <td>0</td>\n",
       "      <td>...</td>\n",
       "      <td>0.000000</td>\n",
       "      <td>0.000</td>\n",
       "      <td>0.00</td>\n",
       "      <td>62.0</td>\n",
       "      <td>8.857143</td>\n",
       "      <td>36.0</td>\n",
       "      <td>11.0</td>\n",
       "      <td>1.571429</td>\n",
       "      <td>11.0</td>\n",
       "      <td>2.0</td>\n",
       "    </tr>\n",
       "    <tr>\n",
       "      <th>1</th>\n",
       "      <td>1</td>\n",
       "      <td>0</td>\n",
       "      <td>0</td>\n",
       "      <td>-18064</td>\n",
       "      <td>-9118.0</td>\n",
       "      <td>-1623</td>\n",
       "      <td>1</td>\n",
       "      <td>0</td>\n",
       "      <td>1</td>\n",
       "      <td>0</td>\n",
       "      <td>...</td>\n",
       "      <td>0.000000</td>\n",
       "      <td>0.000</td>\n",
       "      <td>0.00</td>\n",
       "      <td>213.0</td>\n",
       "      <td>23.666667</td>\n",
       "      <td>37.0</td>\n",
       "      <td>1.0</td>\n",
       "      <td>0.111111</td>\n",
       "      <td>1.0</td>\n",
       "      <td>2.0</td>\n",
       "    </tr>\n",
       "    <tr>\n",
       "      <th>2</th>\n",
       "      <td>1</td>\n",
       "      <td>1</td>\n",
       "      <td>0</td>\n",
       "      <td>-20038</td>\n",
       "      <td>-2175.0</td>\n",
       "      <td>-3503</td>\n",
       "      <td>1</td>\n",
       "      <td>0</td>\n",
       "      <td>1</td>\n",
       "      <td>0</td>\n",
       "      <td>...</td>\n",
       "      <td>1157.662742</td>\n",
       "      <td>179437.725</td>\n",
       "      <td>23147.82</td>\n",
       "      <td>887.0</td>\n",
       "      <td>5.722581</td>\n",
       "      <td>38.0</td>\n",
       "      <td>84.0</td>\n",
       "      <td>0.541935</td>\n",
       "      <td>21.0</td>\n",
       "      <td>3.0</td>\n",
       "    </tr>\n",
       "    <tr>\n",
       "      <th>3</th>\n",
       "      <td>0</td>\n",
       "      <td>0</td>\n",
       "      <td>0</td>\n",
       "      <td>-13976</td>\n",
       "      <td>-2000.0</td>\n",
       "      <td>-4208</td>\n",
       "      <td>1</td>\n",
       "      <td>0</td>\n",
       "      <td>1</td>\n",
       "      <td>1</td>\n",
       "      <td>...</td>\n",
       "      <td>622.550708</td>\n",
       "      <td>70348.230</td>\n",
       "      <td>8505.00</td>\n",
       "      <td>369.0</td>\n",
       "      <td>3.265487</td>\n",
       "      <td>19.0</td>\n",
       "      <td>30.0</td>\n",
       "      <td>0.265487</td>\n",
       "      <td>7.0</td>\n",
       "      <td>3.0</td>\n",
       "    </tr>\n",
       "    <tr>\n",
       "      <th>4</th>\n",
       "      <td>1</td>\n",
       "      <td>1</td>\n",
       "      <td>1</td>\n",
       "      <td>-13040</td>\n",
       "      <td>-4000.0</td>\n",
       "      <td>-4262</td>\n",
       "      <td>1</td>\n",
       "      <td>1</td>\n",
       "      <td>1</td>\n",
       "      <td>0</td>\n",
       "      <td>...</td>\n",
       "      <td>0.000000</td>\n",
       "      <td>0.000</td>\n",
       "      <td>0.00</td>\n",
       "      <td>147.0</td>\n",
       "      <td>12.250000</td>\n",
       "      <td>18.0</td>\n",
       "      <td>0.0</td>\n",
       "      <td>0.000000</td>\n",
       "      <td>0.0</td>\n",
       "      <td>1.0</td>\n",
       "    </tr>\n",
       "    <tr>\n",
       "      <th>...</th>\n",
       "      <td>...</td>\n",
       "      <td>...</td>\n",
       "      <td>...</td>\n",
       "      <td>...</td>\n",
       "      <td>...</td>\n",
       "      <td>...</td>\n",
       "      <td>...</td>\n",
       "      <td>...</td>\n",
       "      <td>...</td>\n",
       "      <td>...</td>\n",
       "      <td>...</td>\n",
       "      <td>...</td>\n",
       "      <td>...</td>\n",
       "      <td>...</td>\n",
       "      <td>...</td>\n",
       "      <td>...</td>\n",
       "      <td>...</td>\n",
       "      <td>...</td>\n",
       "      <td>...</td>\n",
       "      <td>...</td>\n",
       "      <td>...</td>\n",
       "    </tr>\n",
       "    <tr>\n",
       "      <th>39454</th>\n",
       "      <td>0</td>\n",
       "      <td>0</td>\n",
       "      <td>0</td>\n",
       "      <td>-19970</td>\n",
       "      <td>-9094.0</td>\n",
       "      <td>-3399</td>\n",
       "      <td>1</td>\n",
       "      <td>1</td>\n",
       "      <td>1</td>\n",
       "      <td>1</td>\n",
       "      <td>...</td>\n",
       "      <td>0.000000</td>\n",
       "      <td>0.000</td>\n",
       "      <td>0.00</td>\n",
       "      <td>22.0</td>\n",
       "      <td>7.333333</td>\n",
       "      <td>8.0</td>\n",
       "      <td>0.0</td>\n",
       "      <td>0.000000</td>\n",
       "      <td>0.0</td>\n",
       "      <td>2.0</td>\n",
       "    </tr>\n",
       "    <tr>\n",
       "      <th>39455</th>\n",
       "      <td>0</td>\n",
       "      <td>0</td>\n",
       "      <td>1</td>\n",
       "      <td>-11186</td>\n",
       "      <td>-3015.0</td>\n",
       "      <td>-3003</td>\n",
       "      <td>1</td>\n",
       "      <td>0</td>\n",
       "      <td>1</td>\n",
       "      <td>0</td>\n",
       "      <td>...</td>\n",
       "      <td>314.714589</td>\n",
       "      <td>22974.165</td>\n",
       "      <td>9680.49</td>\n",
       "      <td>438.0</td>\n",
       "      <td>6.000000</td>\n",
       "      <td>26.0</td>\n",
       "      <td>38.0</td>\n",
       "      <td>0.520548</td>\n",
       "      <td>19.0</td>\n",
       "      <td>1.0</td>\n",
       "    </tr>\n",
       "    <tr>\n",
       "      <th>39456</th>\n",
       "      <td>0</td>\n",
       "      <td>1</td>\n",
       "      <td>0</td>\n",
       "      <td>-15922</td>\n",
       "      <td>-2681.0</td>\n",
       "      <td>-1504</td>\n",
       "      <td>1</td>\n",
       "      <td>0</td>\n",
       "      <td>1</td>\n",
       "      <td>1</td>\n",
       "      <td>...</td>\n",
       "      <td>0.000000</td>\n",
       "      <td>0.000</td>\n",
       "      <td>0.00</td>\n",
       "      <td>253.0</td>\n",
       "      <td>31.625000</td>\n",
       "      <td>76.0</td>\n",
       "      <td>0.0</td>\n",
       "      <td>0.000000</td>\n",
       "      <td>0.0</td>\n",
       "      <td>2.0</td>\n",
       "    </tr>\n",
       "    <tr>\n",
       "      <th>39457</th>\n",
       "      <td>1</td>\n",
       "      <td>0</td>\n",
       "      <td>1</td>\n",
       "      <td>-13968</td>\n",
       "      <td>-1461.0</td>\n",
       "      <td>-1364</td>\n",
       "      <td>1</td>\n",
       "      <td>1</td>\n",
       "      <td>1</td>\n",
       "      <td>1</td>\n",
       "      <td>...</td>\n",
       "      <td>0.000000</td>\n",
       "      <td>0.000</td>\n",
       "      <td>0.00</td>\n",
       "      <td>211.0</td>\n",
       "      <td>7.275862</td>\n",
       "      <td>15.0</td>\n",
       "      <td>1.0</td>\n",
       "      <td>0.034483</td>\n",
       "      <td>1.0</td>\n",
       "      <td>1.0</td>\n",
       "    </tr>\n",
       "    <tr>\n",
       "      <th>39458</th>\n",
       "      <td>0</td>\n",
       "      <td>1</td>\n",
       "      <td>1</td>\n",
       "      <td>-13962</td>\n",
       "      <td>-1072.0</td>\n",
       "      <td>-4220</td>\n",
       "      <td>1</td>\n",
       "      <td>1</td>\n",
       "      <td>1</td>\n",
       "      <td>0</td>\n",
       "      <td>...</td>\n",
       "      <td>193.079700</td>\n",
       "      <td>9653.985</td>\n",
       "      <td>9000.00</td>\n",
       "      <td>430.0</td>\n",
       "      <td>8.600000</td>\n",
       "      <td>30.0</td>\n",
       "      <td>21.0</td>\n",
       "      <td>0.420000</td>\n",
       "      <td>10.0</td>\n",
       "      <td>2.0</td>\n",
       "    </tr>\n",
       "  </tbody>\n",
       "</table>\n",
       "<p>39459 rows × 311 columns</p>\n",
       "</div>"
      ],
      "text/plain": [
       "       CODE_GENDER  FLAG_OWN_CAR  FLAG_OWN_REALTY  DAYS_BIRTH  \\\n",
       "0                0             0                0      -19241   \n",
       "1                1             0                0      -18064   \n",
       "2                1             1                0      -20038   \n",
       "3                0             0                0      -13976   \n",
       "4                1             1                1      -13040   \n",
       "...            ...           ...              ...         ...   \n",
       "39454            0             0                0      -19970   \n",
       "39455            0             0                1      -11186   \n",
       "39456            0             1                0      -15922   \n",
       "39457            1             0                1      -13968   \n",
       "39458            0             1                1      -13962   \n",
       "\n",
       "       DAYS_REGISTRATION  DAYS_ID_PUBLISH  FLAG_EMP_PHONE  FLAG_WORK_PHONE  \\\n",
       "0                -5170.0             -812               1                0   \n",
       "1                -9118.0            -1623               1                0   \n",
       "2                -2175.0            -3503               1                0   \n",
       "3                -2000.0            -4208               1                0   \n",
       "4                -4000.0            -4262               1                1   \n",
       "...                  ...              ...             ...              ...   \n",
       "39454            -9094.0            -3399               1                1   \n",
       "39455            -3015.0            -3003               1                0   \n",
       "39456            -2681.0            -1504               1                0   \n",
       "39457            -1461.0            -1364               1                1   \n",
       "39458            -1072.0            -4220               1                1   \n",
       "\n",
       "       FLAG_CONT_MOBILE  FLAG_PHONE  ...  INSTAL_PAYMENT_DIFF_MEAN  \\\n",
       "0                     1           0  ...                  0.000000   \n",
       "1                     1           0  ...                  0.000000   \n",
       "2                     1           0  ...               1157.662742   \n",
       "3                     1           1  ...                622.550708   \n",
       "4                     1           0  ...                  0.000000   \n",
       "...                 ...         ...  ...                       ...   \n",
       "39454                 1           1  ...                  0.000000   \n",
       "39455                 1           0  ...                314.714589   \n",
       "39456                 1           1  ...                  0.000000   \n",
       "39457                 1           1  ...                  0.000000   \n",
       "39458                 1           0  ...                193.079700   \n",
       "\n",
       "       INSTAL_PAYMENT_DIFF_SUM  INSTAL_PAYMENT_DIFF_MAX  INSTAL_DBD_SUM  \\\n",
       "0                        0.000                     0.00            62.0   \n",
       "1                        0.000                     0.00           213.0   \n",
       "2                   179437.725                 23147.82           887.0   \n",
       "3                    70348.230                  8505.00           369.0   \n",
       "4                        0.000                     0.00           147.0   \n",
       "...                        ...                      ...             ...   \n",
       "39454                    0.000                     0.00            22.0   \n",
       "39455                22974.165                  9680.49           438.0   \n",
       "39456                    0.000                     0.00           253.0   \n",
       "39457                    0.000                     0.00           211.0   \n",
       "39458                 9653.985                  9000.00           430.0   \n",
       "\n",
       "       INSTAL_DBD_MEAN  INSTAL_DBD_MAX  INSTAL_DPD_SUM  INSTAL_DPD_MEAN  \\\n",
       "0             8.857143            36.0            11.0         1.571429   \n",
       "1            23.666667            37.0             1.0         0.111111   \n",
       "2             5.722581            38.0            84.0         0.541935   \n",
       "3             3.265487            19.0            30.0         0.265487   \n",
       "4            12.250000            18.0             0.0         0.000000   \n",
       "...                ...             ...             ...              ...   \n",
       "39454         7.333333             8.0             0.0         0.000000   \n",
       "39455         6.000000            26.0            38.0         0.520548   \n",
       "39456        31.625000            76.0             0.0         0.000000   \n",
       "39457         7.275862            15.0             1.0         0.034483   \n",
       "39458         8.600000            30.0            21.0         0.420000   \n",
       "\n",
       "       INSTAL_DPD_MAX  INSTAL_NUM_INSTALMENT_VERSION_NUNIQUE  \n",
       "0                11.0                                    2.0  \n",
       "1                 1.0                                    2.0  \n",
       "2                21.0                                    3.0  \n",
       "3                 7.0                                    3.0  \n",
       "4                 0.0                                    1.0  \n",
       "...               ...                                    ...  \n",
       "39454             0.0                                    2.0  \n",
       "39455            19.0                                    1.0  \n",
       "39456             0.0                                    2.0  \n",
       "39457             1.0                                    1.0  \n",
       "39458            10.0                                    2.0  \n",
       "\n",
       "[39459 rows x 311 columns]"
      ]
     },
     "execution_count": 7,
     "metadata": {},
     "output_type": "execute_result"
    }
   ],
   "source": [
    "test_FE_ssDM= test_FE_ssDM.drop(columns=['Unnamed: 0'])\n",
    "test_FE_ssDM"
   ]
  },
  {
   "cell_type": "code",
   "execution_count": 8,
   "id": "be8d7988",
   "metadata": {},
   "outputs": [],
   "source": [
    "#standardisation des données \n",
    "\n",
    "from sklearn import preprocessing\n",
    "from sklearn.preprocessing import StandardScaler,normalize\n",
    "\n",
    "# sc = StandardScaler()\n",
    "# x = sc.fit_transform(train_FE_ssDM.iloc[:,1:])\n",
    "# y = train_FE_ssDM.iloc[:,0]"
   ]
  },
  {
   "cell_type": "code",
   "execution_count": 9,
   "id": "ec8cf9a5",
   "metadata": {},
   "outputs": [],
   "source": [
    "sc = StandardScaler()\n",
    "x = sc.fit_transform(train_FE_ssDM.drop('TARGET', axis=1))\n",
    "y = train_FE_ssDM[['TARGET']]"
   ]
  },
  {
   "cell_type": "markdown",
   "id": "c697a126",
   "metadata": {},
   "source": [
    "# Réequilibrage des données "
   ]
  },
  {
   "cell_type": "code",
   "execution_count": 10,
   "id": "692ea2f7",
   "metadata": {},
   "outputs": [],
   "source": [
    "#Premier train / test split avant reequilibrage, pour l’instant on ne fera rien avec le test\n",
    "x_train,x_test,y_train,y_test = train_test_split(x,y,test_size = 0.3,random_state=0)"
   ]
  },
  {
   "cell_type": "code",
   "execution_count": 11,
   "id": "e04c1670",
   "metadata": {},
   "outputs": [],
   "source": [
    "#Reequilibrage (tester plusieurs versions : sans, under, over, etc…)"
   ]
  },
  {
   "cell_type": "markdown",
   "id": "8c692eae",
   "metadata": {},
   "source": [
    "https://towardsdatascience.com/how-to-deal-with-imbalanced-data-in-python-f9b71aba53eb \n",
    "https://towardsdatascience.com/handling-imbalanced-datasets-in-machine-learning-7a0e84220f28 \n",
    "https://www.analyticsvidhya.com/blog/2021/06/5-techniques-to-handle-imbalanced-data-for-a-classification-problem/ \n",
    "https://towardsdatascience.com/imbalanced-data-when-details-matter-16bd3ec7ef74 https://scikit-learn.org/stable/modules/generated/sklearn.metrics.classification_report.html"
   ]
  },
  {
   "cell_type": "code",
   "execution_count": 12,
   "id": "dfb0c5fd",
   "metadata": {},
   "outputs": [],
   "source": [
    "#second train/test split \n",
    "x_train_bis,x_valid, y_train_bis, y_valid = train_test_split(x_train,y_train,test_size = 0.3,random_state=0)"
   ]
  },
  {
   "cell_type": "markdown",
   "id": "2b98a683",
   "metadata": {},
   "source": [
    "# sous-echantillonage "
   ]
  },
  {
   "cell_type": "code",
   "execution_count": 13,
   "id": "1754eab8",
   "metadata": {},
   "outputs": [],
   "source": [
    "def sous_ech(x_train, y_train): \n",
    "    #methode de sous echantillonage\n",
    "    undersample = RandomUnderSampler(sampling_strategy='majority')\n",
    "\n",
    "    # sous echantillonage\n",
    "    x_train_under, y_train_under = undersample.fit_resample(x_train, y_train)\n",
    "    print(\"Before undersampling: \", Counter(y_train))\n",
    "    print(\"After undersampling: \", Counter(y_train_under))\n",
    "    return x_train_under, y_train_under"
   ]
  },
  {
   "cell_type": "markdown",
   "id": "ed1a7da2",
   "metadata": {},
   "source": [
    "# Sur echantillonage avec SMOTE "
   ]
  },
  {
   "cell_type": "code",
   "execution_count": 14,
   "id": "87317426",
   "metadata": {},
   "outputs": [],
   "source": [
    "#methode de sur echantillonage\n",
    "sm = SMOTE(random_state=42)"
   ]
  },
  {
   "cell_type": "code",
   "execution_count": 15,
   "id": "1a2e0844",
   "metadata": {},
   "outputs": [
    {
     "data": {
      "text/plain": [
       "False"
      ]
     },
     "execution_count": 15,
     "metadata": {},
     "output_type": "execute_result"
    }
   ],
   "source": [
    "callable(sm)"
   ]
  },
  {
   "cell_type": "code",
   "execution_count": 16,
   "id": "8385cbf3",
   "metadata": {
    "scrolled": true
   },
   "outputs": [],
   "source": [
    "def sur_ech(x_train, y_train): \n",
    "    # sur echantillonage\n",
    "    x_train_Sur, y_train_Sur = sm.fit_resample(x_train, y_train)\n",
    "\n",
    "    print(\"Before oversampling: \",Counter(y_train))\n",
    "    print(\"After oversampling: \",Counter(y_train_Sur))\n",
    "    return x_train_Sur, y_train_Sur"
   ]
  },
  {
   "cell_type": "markdown",
   "id": "ccafec1a",
   "metadata": {},
   "source": [
    "# mélange des deux"
   ]
  },
  {
   "cell_type": "code",
   "execution_count": 17,
   "id": "e4e6eb7b",
   "metadata": {},
   "outputs": [],
   "source": [
    "def sur_sous(x_train, y_train,ratio_over, ratio_under):\n",
    "    over = SMOTE(sampling_strategy=ratio_over)\n",
    "    under = RandomUnderSampler(sampling_strategy=ratio_under)\n",
    "    \n",
    "    print(\"before oversampling: \",Counter(y_train))\n",
    "    x_train_Sur2, y_train_Sur2 = over.fit_resample(x_train, y_train)\n",
    "    print(\"After oversampling: \",Counter(y_train_Sur2))\n",
    "    \n",
    "    print(\"before undersampling: \",Counter(y_train_Sur2))\n",
    "    x_train_sur_under, y_train_sur_under = under.fit_resample(x_train_Sur2, y_train_Sur2)\n",
    "    print(\"After undersampling: \",Counter(y_train_under))\n",
    "    return x_train_sur_under, y_train_sur_under"
   ]
  },
  {
   "cell_type": "markdown",
   "id": "8b88e715",
   "metadata": {},
   "source": [
    "# “Train / test split” pour faire train / validation split."
   ]
  },
  {
   "cell_type": "code",
   "execution_count": 18,
   "id": "abb20f0a",
   "metadata": {},
   "outputs": [
    {
     "name": "stdout",
     "output_type": "stream",
     "text": [
      "Before undersampling:  Counter({'TARGET': 1})\n",
      "After undersampling:  Counter({'TARGET': 1})\n"
     ]
    }
   ],
   "source": [
    "#sous echantillonage\n",
    "\n",
    "x_train_under, y_train_under = sous_ech(x_train_bis, y_train_bis)"
   ]
  },
  {
   "cell_type": "code",
   "execution_count": 19,
   "id": "dd7df3d7",
   "metadata": {},
   "outputs": [],
   "source": [
    "#Train / validation split\n",
    "#x_train2_under,x_val_under,y_train2_under,y_val_under = train_test_split(x_train_under,y_train_under,\n",
    "#                                                                         test_size = 0.3,random_state=0)"
   ]
  },
  {
   "cell_type": "code",
   "execution_count": 20,
   "id": "5d75d4c3",
   "metadata": {},
   "outputs": [
    {
     "name": "stdout",
     "output_type": "stream",
     "text": [
      "Before oversampling:  Counter({'TARGET': 1})\n",
      "After oversampling:  Counter({'TARGET': 1})\n"
     ]
    }
   ],
   "source": [
    "#sur echantillonage \n",
    "\n",
    "x_train_Sur, y_train_Sur = sur_ech(x_train_bis, y_train_bis)"
   ]
  },
  {
   "cell_type": "code",
   "execution_count": 21,
   "id": "4a9bb011",
   "metadata": {},
   "outputs": [],
   "source": [
    "#Train / validation split\n",
    "#x_train2_Sur,x_val_Sur,y_train2_Sur,y_val_Sur = train_test_split(x_train_Sur,y_train_Sur,\n",
    "#                                                                         test_size = 0.3,random_state=0)"
   ]
  },
  {
   "cell_type": "code",
   "execution_count": 22,
   "id": "ac4225ac",
   "metadata": {},
   "outputs": [],
   "source": [
    "#les deux"
   ]
  },
  {
   "cell_type": "code",
   "execution_count": 23,
   "id": "a192951f",
   "metadata": {},
   "outputs": [
    {
     "name": "stdout",
     "output_type": "stream",
     "text": [
      "before oversampling:  Counter({'TARGET': 1})\n",
      "After oversampling:  Counter({'TARGET': 1})\n",
      "before undersampling:  Counter({'TARGET': 1})\n",
      "After undersampling:  Counter({'TARGET': 1})\n"
     ]
    }
   ],
   "source": [
    "x_train_sur_under, y_train_sur_under= sur_sous(x_train_bis, y_train_bis,0.5,1)"
   ]
  },
  {
   "cell_type": "code",
   "execution_count": 24,
   "id": "a8bab218",
   "metadata": {},
   "outputs": [],
   "source": [
    "#x_train_both,x_val_both,y_train_both,y_val_both = train_test_split(x_train_sur_under, y_train_sur_under, \n",
    "#                                                                  test_size = 0.3,random_state=0)"
   ]
  },
  {
   "cell_type": "markdown",
   "id": "19cb0498",
   "metadata": {},
   "source": [
    "# Test du modele de logistic regression (baseline) sur des donnees équilibrées"
   ]
  },
  {
   "cell_type": "code",
   "execution_count": 25,
   "id": "d16b0b77",
   "metadata": {},
   "outputs": [],
   "source": [
    "def benchmarck(x_train, y_train,x_val,y_val):\n",
    "    modeles ={'lr' : LogisticRegression(solver='lbfgs', max_iter=500)}\n",
    "#'gaussianNB': GaussianNB(),#'KNClassifier ' : KNeighborsClassifier(), #'RandomForest ' : RandomForestClassifier()\n",
    "    \n",
    "    with tqdm(total=len(modeles)) as pbar: #barre pour le temps d'execution\n",
    "                \n",
    "        for cle, valeur in modeles.items(): \n",
    "            valeur.fit(x_train, y_train)\n",
    "            y_pred = valeur.predict(x_val)\n",
    "            cnf_matrix = metrics.confusion_matrix(y_val, y_pred)\n",
    "            disp = ConfusionMatrixDisplay(confusion_matrix=cnf_matrix, display_labels=valeur.classes_)\n",
    "            results = classification_report(y_val, y_pred, labels=[0,1])\n",
    "            #N, train_score, val_score, =learning_curve(valeur, x_train, cv=4 ,scoring='f1', train_sizes=np.linspace(0.1,1,10)) #utilise la cross validation\n",
    "            print(results)\n",
    "            disp.plot()\n",
    "            plt.show()\n",
    "            #plt.plot(N, train_score.mean(axis=1), label='train_score')\n",
    "            #plt.plot(N, val_score.mean(axis=1), label='validation_score')\n",
    "            #plt.legend()\n",
    "            pbar.update\n",
    "    \n",
    "    #result = pd.DataFrame({'modele': modeles.values() , 'cnf_matrix':cnf_matrixs , 'cross_val':cross_vals})\n",
    "    #return(result)"
   ]
  },
  {
   "cell_type": "code",
   "execution_count": 28,
   "id": "f373bc94",
   "metadata": {},
   "outputs": [
    {
     "name": "stderr",
     "output_type": "stream",
     "text": [
      "  0%|          | 0/1 [00:00<?, ?it/s]C:\\Users\\kalin\\anaconda3\\envs\\OCR5\\lib\\site-packages\\sklearn\\utils\\validation.py:63: DataConversionWarning: A column-vector y was passed when a 1d array was expected. Please change the shape of y to (n_samples, ), for example using ravel().\n",
      "  return f(*args, **kwargs)\n"
     ]
    },
    {
     "name": "stdout",
     "output_type": "stream",
     "text": [
      "              precision    recall  f1-score   support\n",
      "\n",
      "           0       0.92      1.00      0.96     48414\n",
      "           1       0.46      0.03      0.05      4527\n",
      "\n",
      "    accuracy                           0.91     52941\n",
      "   macro avg       0.69      0.51      0.50     52941\n",
      "weighted avg       0.88      0.91      0.88     52941\n",
      "\n"
     ]
    },
    {
     "data": {
      "image/png": "[encoded data removed]",
      "text/plain": [
       "<Figure size 432x288 with 2 Axes>"
      ]
     },
     "metadata": {
      "needs_background": "light"
     },
     "output_type": "display_data"
    },
    {
     "name": "stderr",
     "output_type": "stream",
     "text": [
      "  0%|          | 0/1 [00:10<?, ?it/s]\n"
     ]
    }
   ],
   "source": [
    "#sans echantillonage \n",
    "benchmarck(x_train_bis,y_train_bis,x_valid,y_valid)"
   ]
  },
  {
   "cell_type": "code",
   "execution_count": 26,
   "id": "a325f8ca",
   "metadata": {},
   "outputs": [
    {
     "name": "stderr",
     "output_type": "stream",
     "text": [
      "  0%|          | 0/1 [00:00<?, ?it/s]C:\\Users\\kalin\\anaconda3\\envs\\OCR5\\lib\\site-packages\\sklearn\\utils\\validation.py:63: DataConversionWarning: A column-vector y was passed when a 1d array was expected. Please change the shape of y to (n_samples, ), for example using ravel().\n",
      "  return f(*args, **kwargs)\n"
     ]
    },
    {
     "name": "stdout",
     "output_type": "stream",
     "text": [
      "              precision    recall  f1-score   support\n",
      "\n",
      "           0       0.96      0.70      0.81     48414\n",
      "           1       0.17      0.67      0.27      4527\n",
      "\n",
      "    accuracy                           0.69     52941\n",
      "   macro avg       0.56      0.68      0.54     52941\n",
      "weighted avg       0.89      0.69      0.76     52941\n",
      "\n"
     ]
    },
    {
     "data": {
      "image/png": "[encoded data removed]",
      "text/plain": [
       "<Figure size 432x288 with 2 Axes>"
      ]
     },
     "metadata": {
      "needs_background": "light"
     },
     "output_type": "display_data"
    },
    {
     "name": "stderr",
     "output_type": "stream",
     "text": [
      "  0%|          | 0/1 [00:02<?, ?it/s]\n"
     ]
    }
   ],
   "source": [
    "#sur données sous-echantillonées  \n",
    "\n",
    "benchmarck(x_train_under,y_train_under,x_valid,y_valid)"
   ]
  },
  {
   "cell_type": "code",
   "execution_count": 27,
   "id": "116b4564",
   "metadata": {},
   "outputs": [
    {
     "name": "stderr",
     "output_type": "stream",
     "text": [
      "  0%|          | 0/1 [00:00<?, ?it/s]C:\\Users\\kalin\\anaconda3\\envs\\OCR5\\lib\\site-packages\\sklearn\\utils\\validation.py:63: DataConversionWarning: A column-vector y was passed when a 1d array was expected. Please change the shape of y to (n_samples, ), for example using ravel().\n",
      "  return f(*args, **kwargs)\n"
     ]
    },
    {
     "name": "stdout",
     "output_type": "stream",
     "text": [
      "              precision    recall  f1-score   support\n",
      "\n",
      "           0       0.96      0.71      0.82     48414\n",
      "           1       0.17      0.64      0.27      4527\n",
      "\n",
      "    accuracy                           0.71     52941\n",
      "   macro avg       0.56      0.68      0.54     52941\n",
      "weighted avg       0.89      0.71      0.77     52941\n",
      "\n"
     ]
    },
    {
     "data": {
      "image/png": "[encoded data removed]",
      "text/plain": [
       "<Figure size 432x288 with 2 Axes>"
      ]
     },
     "metadata": {
      "needs_background": "light"
     },
     "output_type": "display_data"
    },
    {
     "name": "stderr",
     "output_type": "stream",
     "text": [
      "  0%|          | 0/1 [00:27<?, ?it/s]\n"
     ]
    }
   ],
   "source": [
    "#sur données sur-echantillonées  \n",
    "\n",
    "benchmarck(x_train_Sur,y_train_Sur,x_valid,y_valid)"
   ]
  },
  {
   "cell_type": "code",
   "execution_count": 30,
   "id": "b397d345",
   "metadata": {},
   "outputs": [
    {
     "name": "stderr",
     "output_type": "stream",
     "text": [
      "  0%|          | 0/1 [00:00<?, ?it/s]A column-vector y was passed when a 1d array was expected. Please change the shape of y to (n_samples, ), for example using ravel().\n"
     ]
    },
    {
     "name": "stdout",
     "output_type": "stream",
     "text": [
      "              precision    recall  f1-score   support\n",
      "\n",
      "           0       0.72      0.71      0.72     23965\n",
      "           1       0.72      0.73      0.72     24384\n",
      "\n",
      "    accuracy                           0.72     48349\n",
      "   macro avg       0.72      0.72      0.72     48349\n",
      "weighted avg       0.72      0.72      0.72     48349\n",
      "\n"
     ]
    },
    {
     "data": {
      "image/png": "[encoded data removed]",
      "text/plain": [
       "<Figure size 432x288 with 2 Axes>"
      ]
     },
     "metadata": {
      "needs_background": "light"
     },
     "output_type": "display_data"
    },
    {
     "name": "stderr",
     "output_type": "stream",
     "text": [
      "  0%|          | 0/1 [00:09<?, ?it/s]\n"
     ]
    }
   ],
   "source": [
    "#sur données sur et sous échantillonées \n",
    "benchmarck(x_train_both,y_train_both, x_valid,y_valid)"
   ]
  },
  {
   "cell_type": "code",
   "execution_count": null,
   "id": "74c1f702",
   "metadata": {},
   "outputs": [],
   "source": []
  },
  {
   "cell_type": "markdown",
   "id": "ace82a61",
   "metadata": {},
   "source": [
    "# Cross validation "
   ]
  },
  {
   "cell_type": "markdown",
   "id": "c06d3266",
   "metadata": {},
   "source": [
    "# Stratified kflod sur données deséquilibrées "
   ]
  },
  {
   "cell_type": "code",
   "execution_count": 31,
   "id": "f597cfa8",
   "metadata": {},
   "outputs": [
    {
     "data": {
      "text/plain": [
       "(176470, 311)"
      ]
     },
     "execution_count": 31,
     "metadata": {},
     "output_type": "execute_result"
    }
   ],
   "source": [
    "x_train.shape"
   ]
  },
  {
   "cell_type": "code",
   "execution_count": 32,
   "id": "4d39ead9",
   "metadata": {},
   "outputs": [
    {
     "data": {
      "text/plain": [
       "(176470, 1)"
      ]
     },
     "execution_count": 32,
     "metadata": {},
     "output_type": "execute_result"
    }
   ],
   "source": [
    "y_train.shape"
   ]
  },
  {
   "cell_type": "code",
   "execution_count": 33,
   "id": "d202f1b9",
   "metadata": {},
   "outputs": [
    {
     "data": {
      "text/plain": [
       "TARGET    0\n",
       "dtype: int64"
      ]
     },
     "execution_count": 33,
     "metadata": {},
     "output_type": "execute_result"
    }
   ],
   "source": [
    "y_train.isnull().sum()"
   ]
  },
  {
   "cell_type": "code",
   "execution_count": 34,
   "id": "e0e38ca8",
   "metadata": {},
   "outputs": [
    {
     "data": {
      "text/plain": [
       "TARGET\n",
       "0         161163\n",
       "1          15307\n",
       "dtype: int64"
      ]
     },
     "execution_count": 34,
     "metadata": {},
     "output_type": "execute_result"
    }
   ],
   "source": [
    "y_train.value_counts()"
   ]
  },
  {
   "cell_type": "code",
   "execution_count": 35,
   "id": "1149e2ff",
   "metadata": {},
   "outputs": [
    {
     "data": {
      "text/html": [
       "<div>\n",
       "<style scoped>\n",
       "    .dataframe tbody tr th:only-of-type {\n",
       "        vertical-align: middle;\n",
       "    }\n",
       "\n",
       "    .dataframe tbody tr th {\n",
       "        vertical-align: top;\n",
       "    }\n",
       "\n",
       "    .dataframe thead th {\n",
       "        text-align: right;\n",
       "    }\n",
       "</style>\n",
       "<table border=\"1\" class=\"dataframe\">\n",
       "  <thead>\n",
       "    <tr style=\"text-align: right;\">\n",
       "      <th></th>\n",
       "      <th>TARGET</th>\n",
       "    </tr>\n",
       "  </thead>\n",
       "  <tbody>\n",
       "    <tr>\n",
       "      <th>118285</th>\n",
       "      <td>0</td>\n",
       "    </tr>\n",
       "    <tr>\n",
       "      <th>8158</th>\n",
       "      <td>0</td>\n",
       "    </tr>\n",
       "    <tr>\n",
       "      <th>212990</th>\n",
       "      <td>0</td>\n",
       "    </tr>\n",
       "    <tr>\n",
       "      <th>205381</th>\n",
       "      <td>0</td>\n",
       "    </tr>\n",
       "    <tr>\n",
       "      <th>46289</th>\n",
       "      <td>0</td>\n",
       "    </tr>\n",
       "    <tr>\n",
       "      <th>...</th>\n",
       "      <td>...</td>\n",
       "    </tr>\n",
       "    <tr>\n",
       "      <th>176963</th>\n",
       "      <td>0</td>\n",
       "    </tr>\n",
       "    <tr>\n",
       "      <th>117952</th>\n",
       "      <td>0</td>\n",
       "    </tr>\n",
       "    <tr>\n",
       "      <th>173685</th>\n",
       "      <td>0</td>\n",
       "    </tr>\n",
       "    <tr>\n",
       "      <th>43567</th>\n",
       "      <td>0</td>\n",
       "    </tr>\n",
       "    <tr>\n",
       "      <th>199340</th>\n",
       "      <td>0</td>\n",
       "    </tr>\n",
       "  </tbody>\n",
       "</table>\n",
       "<p>176470 rows × 1 columns</p>\n",
       "</div>"
      ],
      "text/plain": [
       "        TARGET\n",
       "118285       0\n",
       "8158         0\n",
       "212990       0\n",
       "205381       0\n",
       "46289        0\n",
       "...        ...\n",
       "176963       0\n",
       "117952       0\n",
       "173685       0\n",
       "43567        0\n",
       "199340       0\n",
       "\n",
       "[176470 rows x 1 columns]"
      ]
     },
     "execution_count": 35,
     "metadata": {},
     "output_type": "execute_result"
    }
   ],
   "source": [
    "y_train"
   ]
  },
  {
   "cell_type": "code",
   "execution_count": 36,
   "id": "ecb419b8",
   "metadata": {},
   "outputs": [
    {
     "data": {
      "text/html": [
       "<div>\n",
       "<style scoped>\n",
       "    .dataframe tbody tr th:only-of-type {\n",
       "        vertical-align: middle;\n",
       "    }\n",
       "\n",
       "    .dataframe tbody tr th {\n",
       "        vertical-align: top;\n",
       "    }\n",
       "\n",
       "    .dataframe thead th {\n",
       "        text-align: right;\n",
       "    }\n",
       "</style>\n",
       "<table border=\"1\" class=\"dataframe\">\n",
       "  <thead>\n",
       "    <tr style=\"text-align: right;\">\n",
       "      <th></th>\n",
       "      <th>0</th>\n",
       "      <th>1</th>\n",
       "      <th>2</th>\n",
       "      <th>3</th>\n",
       "      <th>4</th>\n",
       "      <th>5</th>\n",
       "      <th>6</th>\n",
       "      <th>7</th>\n",
       "      <th>8</th>\n",
       "      <th>9</th>\n",
       "      <th>...</th>\n",
       "      <th>301</th>\n",
       "      <th>302</th>\n",
       "      <th>303</th>\n",
       "      <th>304</th>\n",
       "      <th>305</th>\n",
       "      <th>306</th>\n",
       "      <th>307</th>\n",
       "      <th>308</th>\n",
       "      <th>309</th>\n",
       "      <th>310</th>\n",
       "    </tr>\n",
       "  </thead>\n",
       "  <tbody>\n",
       "    <tr>\n",
       "      <th>118285</th>\n",
       "      <td>0.777261</td>\n",
       "      <td>-0.773726</td>\n",
       "      <td>-0.688326</td>\n",
       "      <td>-0.056259</td>\n",
       "      <td>0.689205</td>\n",
       "      <td>0.678788</td>\n",
       "      <td>0.006899</td>\n",
       "      <td>-0.566776</td>\n",
       "      <td>0.046159</td>\n",
       "      <td>1.612899</td>\n",
       "      <td>...</td>\n",
       "      <td>-0.181321</td>\n",
       "      <td>-0.168274</td>\n",
       "      <td>-0.046258</td>\n",
       "      <td>-0.557821</td>\n",
       "      <td>-0.553661</td>\n",
       "      <td>-0.566403</td>\n",
       "      <td>-0.477806</td>\n",
       "      <td>-0.55276</td>\n",
       "      <td>-0.556392</td>\n",
       "      <td>-0.557438</td>\n",
       "    </tr>\n",
       "    <tr>\n",
       "      <th>8158</th>\n",
       "      <td>-1.286569</td>\n",
       "      <td>1.292447</td>\n",
       "      <td>-0.688326</td>\n",
       "      <td>-0.635360</td>\n",
       "      <td>0.383564</td>\n",
       "      <td>1.436361</td>\n",
       "      <td>0.006899</td>\n",
       "      <td>-0.566776</td>\n",
       "      <td>0.046159</td>\n",
       "      <td>-0.620002</td>\n",
       "      <td>...</td>\n",
       "      <td>-0.181321</td>\n",
       "      <td>-0.168274</td>\n",
       "      <td>-0.046258</td>\n",
       "      <td>-0.557821</td>\n",
       "      <td>-0.553661</td>\n",
       "      <td>3.388832</td>\n",
       "      <td>-0.477806</td>\n",
       "      <td>-0.55276</td>\n",
       "      <td>-0.556392</td>\n",
       "      <td>-0.557438</td>\n",
       "    </tr>\n",
       "    <tr>\n",
       "      <th>212990</th>\n",
       "      <td>0.777261</td>\n",
       "      <td>-0.773726</td>\n",
       "      <td>-0.688326</td>\n",
       "      <td>-2.041749</td>\n",
       "      <td>-0.850993</td>\n",
       "      <td>-0.887170</td>\n",
       "      <td>0.006899</td>\n",
       "      <td>-0.566776</td>\n",
       "      <td>0.046159</td>\n",
       "      <td>-0.620002</td>\n",
       "      <td>...</td>\n",
       "      <td>-0.181321</td>\n",
       "      <td>-0.168274</td>\n",
       "      <td>-0.046258</td>\n",
       "      <td>-0.557821</td>\n",
       "      <td>0.665352</td>\n",
       "      <td>0.563664</td>\n",
       "      <td>0.147429</td>\n",
       "      <td>-0.55276</td>\n",
       "      <td>-0.556392</td>\n",
       "      <td>0.659327</td>\n",
       "    </tr>\n",
       "    <tr>\n",
       "      <th>205381</th>\n",
       "      <td>-1.286569</td>\n",
       "      <td>1.292447</td>\n",
       "      <td>-0.688326</td>\n",
       "      <td>0.591920</td>\n",
       "      <td>0.922587</td>\n",
       "      <td>-0.460211</td>\n",
       "      <td>0.006899</td>\n",
       "      <td>-0.566776</td>\n",
       "      <td>0.046159</td>\n",
       "      <td>-0.620002</td>\n",
       "      <td>...</td>\n",
       "      <td>-0.181321</td>\n",
       "      <td>4.709549</td>\n",
       "      <td>-0.046258</td>\n",
       "      <td>-0.557821</td>\n",
       "      <td>-0.553661</td>\n",
       "      <td>3.388832</td>\n",
       "      <td>-0.477806</td>\n",
       "      <td>-0.55276</td>\n",
       "      <td>-0.556392</td>\n",
       "      <td>-0.557438</td>\n",
       "    </tr>\n",
       "    <tr>\n",
       "      <th>46289</th>\n",
       "      <td>0.777261</td>\n",
       "      <td>-0.773726</td>\n",
       "      <td>-0.688326</td>\n",
       "      <td>-0.838223</td>\n",
       "      <td>-1.701807</td>\n",
       "      <td>1.004782</td>\n",
       "      <td>0.006899</td>\n",
       "      <td>-0.566776</td>\n",
       "      <td>0.046159</td>\n",
       "      <td>1.612899</td>\n",
       "      <td>...</td>\n",
       "      <td>-0.181321</td>\n",
       "      <td>-0.168274</td>\n",
       "      <td>-0.046258</td>\n",
       "      <td>-0.557821</td>\n",
       "      <td>-0.553661</td>\n",
       "      <td>-0.566403</td>\n",
       "      <td>-0.477806</td>\n",
       "      <td>-0.55276</td>\n",
       "      <td>-0.556392</td>\n",
       "      <td>-0.557438</td>\n",
       "    </tr>\n",
       "    <tr>\n",
       "      <th>...</th>\n",
       "      <td>...</td>\n",
       "      <td>...</td>\n",
       "      <td>...</td>\n",
       "      <td>...</td>\n",
       "      <td>...</td>\n",
       "      <td>...</td>\n",
       "      <td>...</td>\n",
       "      <td>...</td>\n",
       "      <td>...</td>\n",
       "      <td>...</td>\n",
       "      <td>...</td>\n",
       "      <td>...</td>\n",
       "      <td>...</td>\n",
       "      <td>...</td>\n",
       "      <td>...</td>\n",
       "      <td>...</td>\n",
       "      <td>...</td>\n",
       "      <td>...</td>\n",
       "      <td>...</td>\n",
       "      <td>...</td>\n",
       "      <td>...</td>\n",
       "    </tr>\n",
       "    <tr>\n",
       "      <th>176963</th>\n",
       "      <td>-1.286569</td>\n",
       "      <td>-0.773726</td>\n",
       "      <td>-0.688326</td>\n",
       "      <td>1.201055</td>\n",
       "      <td>0.040102</td>\n",
       "      <td>-0.155994</td>\n",
       "      <td>0.006899</td>\n",
       "      <td>-0.566776</td>\n",
       "      <td>0.046159</td>\n",
       "      <td>-0.620002</td>\n",
       "      <td>...</td>\n",
       "      <td>-0.181321</td>\n",
       "      <td>-0.168274</td>\n",
       "      <td>-0.046258</td>\n",
       "      <td>-0.557821</td>\n",
       "      <td>-0.553661</td>\n",
       "      <td>-0.566403</td>\n",
       "      <td>-0.477806</td>\n",
       "      <td>-0.55276</td>\n",
       "      <td>-0.556392</td>\n",
       "      <td>-0.557438</td>\n",
       "    </tr>\n",
       "    <tr>\n",
       "      <th>117952</th>\n",
       "      <td>-1.286569</td>\n",
       "      <td>-0.773726</td>\n",
       "      <td>1.452801</td>\n",
       "      <td>0.645434</td>\n",
       "      <td>-2.131980</td>\n",
       "      <td>0.522391</td>\n",
       "      <td>0.006899</td>\n",
       "      <td>-0.566776</td>\n",
       "      <td>0.046159</td>\n",
       "      <td>-0.620002</td>\n",
       "      <td>...</td>\n",
       "      <td>-0.181321</td>\n",
       "      <td>-0.168274</td>\n",
       "      <td>-0.046258</td>\n",
       "      <td>-0.557821</td>\n",
       "      <td>0.868521</td>\n",
       "      <td>0.752009</td>\n",
       "      <td>-0.477806</td>\n",
       "      <td>-0.55276</td>\n",
       "      <td>0.868664</td>\n",
       "      <td>-0.557438</td>\n",
       "    </tr>\n",
       "    <tr>\n",
       "      <th>173685</th>\n",
       "      <td>-1.286569</td>\n",
       "      <td>-0.773726</td>\n",
       "      <td>-0.688326</td>\n",
       "      <td>0.226330</td>\n",
       "      <td>1.392118</td>\n",
       "      <td>-1.220423</td>\n",
       "      <td>0.006899</td>\n",
       "      <td>-0.566776</td>\n",
       "      <td>0.046159</td>\n",
       "      <td>-0.620002</td>\n",
       "      <td>...</td>\n",
       "      <td>-0.181321</td>\n",
       "      <td>-0.168274</td>\n",
       "      <td>-0.046258</td>\n",
       "      <td>-0.557821</td>\n",
       "      <td>-0.553661</td>\n",
       "      <td>-0.566403</td>\n",
       "      <td>3.898841</td>\n",
       "      <td>-0.55276</td>\n",
       "      <td>-0.556392</td>\n",
       "      <td>-0.557438</td>\n",
       "    </tr>\n",
       "    <tr>\n",
       "      <th>43567</th>\n",
       "      <td>-1.286569</td>\n",
       "      <td>1.292447</td>\n",
       "      <td>-0.688326</td>\n",
       "      <td>1.704526</td>\n",
       "      <td>0.406933</td>\n",
       "      <td>1.054935</td>\n",
       "      <td>0.006899</td>\n",
       "      <td>-0.566776</td>\n",
       "      <td>0.046159</td>\n",
       "      <td>-0.620002</td>\n",
       "      <td>...</td>\n",
       "      <td>2.154644</td>\n",
       "      <td>-0.168274</td>\n",
       "      <td>-0.046258</td>\n",
       "      <td>-0.557821</td>\n",
       "      <td>-0.553661</td>\n",
       "      <td>1.411215</td>\n",
       "      <td>1.710517</td>\n",
       "      <td>-0.55276</td>\n",
       "      <td>-0.556392</td>\n",
       "      <td>-0.557438</td>\n",
       "    </tr>\n",
       "    <tr>\n",
       "      <th>199340</th>\n",
       "      <td>-1.286569</td>\n",
       "      <td>1.292447</td>\n",
       "      <td>-0.688326</td>\n",
       "      <td>-1.142108</td>\n",
       "      <td>-0.557343</td>\n",
       "      <td>0.192437</td>\n",
       "      <td>0.006899</td>\n",
       "      <td>-0.566776</td>\n",
       "      <td>0.046159</td>\n",
       "      <td>1.612899</td>\n",
       "      <td>...</td>\n",
       "      <td>-0.181321</td>\n",
       "      <td>-0.168274</td>\n",
       "      <td>-0.046258</td>\n",
       "      <td>0.853666</td>\n",
       "      <td>0.868521</td>\n",
       "      <td>0.752009</td>\n",
       "      <td>-0.477806</td>\n",
       "      <td>-0.55276</td>\n",
       "      <td>-0.556392</td>\n",
       "      <td>-0.557438</td>\n",
       "    </tr>\n",
       "  </tbody>\n",
       "</table>\n",
       "<p>176470 rows × 311 columns</p>\n",
       "</div>"
      ],
      "text/plain": [
       "             0         1         2         3         4         5         6    \\\n",
       "118285  0.777261 -0.773726 -0.688326 -0.056259  0.689205  0.678788  0.006899   \n",
       "8158   -1.286569  1.292447 -0.688326 -0.635360  0.383564  1.436361  0.006899   \n",
       "212990  0.777261 -0.773726 -0.688326 -2.041749 -0.850993 -0.887170  0.006899   \n",
       "205381 -1.286569  1.292447 -0.688326  0.591920  0.922587 -0.460211  0.006899   \n",
       "46289   0.777261 -0.773726 -0.688326 -0.838223 -1.701807  1.004782  0.006899   \n",
       "...          ...       ...       ...       ...       ...       ...       ...   \n",
       "176963 -1.286569 -0.773726 -0.688326  1.201055  0.040102 -0.155994  0.006899   \n",
       "117952 -1.286569 -0.773726  1.452801  0.645434 -2.131980  0.522391  0.006899   \n",
       "173685 -1.286569 -0.773726 -0.688326  0.226330  1.392118 -1.220423  0.006899   \n",
       "43567  -1.286569  1.292447 -0.688326  1.704526  0.406933  1.054935  0.006899   \n",
       "199340 -1.286569  1.292447 -0.688326 -1.142108 -0.557343  0.192437  0.006899   \n",
       "\n",
       "             7         8         9    ...       301       302       303  \\\n",
       "118285 -0.566776  0.046159  1.612899  ... -0.181321 -0.168274 -0.046258   \n",
       "8158   -0.566776  0.046159 -0.620002  ... -0.181321 -0.168274 -0.046258   \n",
       "212990 -0.566776  0.046159 -0.620002  ... -0.181321 -0.168274 -0.046258   \n",
       "205381 -0.566776  0.046159 -0.620002  ... -0.181321  4.709549 -0.046258   \n",
       "46289  -0.566776  0.046159  1.612899  ... -0.181321 -0.168274 -0.046258   \n",
       "...          ...       ...       ...  ...       ...       ...       ...   \n",
       "176963 -0.566776  0.046159 -0.620002  ... -0.181321 -0.168274 -0.046258   \n",
       "117952 -0.566776  0.046159 -0.620002  ... -0.181321 -0.168274 -0.046258   \n",
       "173685 -0.566776  0.046159 -0.620002  ... -0.181321 -0.168274 -0.046258   \n",
       "43567  -0.566776  0.046159 -0.620002  ...  2.154644 -0.168274 -0.046258   \n",
       "199340 -0.566776  0.046159  1.612899  ... -0.181321 -0.168274 -0.046258   \n",
       "\n",
       "             304       305       306       307      308       309       310  \n",
       "118285 -0.557821 -0.553661 -0.566403 -0.477806 -0.55276 -0.556392 -0.557438  \n",
       "8158   -0.557821 -0.553661  3.388832 -0.477806 -0.55276 -0.556392 -0.557438  \n",
       "212990 -0.557821  0.665352  0.563664  0.147429 -0.55276 -0.556392  0.659327  \n",
       "205381 -0.557821 -0.553661  3.388832 -0.477806 -0.55276 -0.556392 -0.557438  \n",
       "46289  -0.557821 -0.553661 -0.566403 -0.477806 -0.55276 -0.556392 -0.557438  \n",
       "...          ...       ...       ...       ...      ...       ...       ...  \n",
       "176963 -0.557821 -0.553661 -0.566403 -0.477806 -0.55276 -0.556392 -0.557438  \n",
       "117952 -0.557821  0.868521  0.752009 -0.477806 -0.55276  0.868664 -0.557438  \n",
       "173685 -0.557821 -0.553661 -0.566403  3.898841 -0.55276 -0.556392 -0.557438  \n",
       "43567  -0.557821 -0.553661  1.411215  1.710517 -0.55276 -0.556392 -0.557438  \n",
       "199340  0.853666  0.868521  0.752009 -0.477806 -0.55276 -0.556392 -0.557438  \n",
       "\n",
       "[176470 rows x 311 columns]"
      ]
     },
     "execution_count": 36,
     "metadata": {},
     "output_type": "execute_result"
    }
   ],
   "source": [
    "x_train = pd.DataFrame(x_train,index=y_train.index)\n",
    "x_train"
   ]
  },
  {
   "cell_type": "code",
   "execution_count": 37,
   "id": "770614ea",
   "metadata": {},
   "outputs": [
    {
     "name": "stdout",
     "output_type": "stream",
     "text": [
      "[118285   8158 212990 ... 173685  43567 199340]\n",
      "[118285   8158 212990 ... 173685  43567 199340]\n"
     ]
    }
   ],
   "source": [
    "print(x_train.index.values)\n",
    "print(y_train.index.values)"
   ]
  },
  {
   "cell_type": "code",
   "execution_count": null,
   "id": "a2a0be31",
   "metadata": {},
   "outputs": [],
   "source": []
  },
  {
   "cell_type": "code",
   "execution_count": 38,
   "id": "b35f48a7",
   "metadata": {},
   "outputs": [
    {
     "name": "stdout",
     "output_type": "stream",
     "text": [
      "(141176,) (35294,)\n",
      "train: [ 35280  35295  35296 ... 176467 176468 176469] validation: [    0     1     2 ... 35292 35293 35294]\n",
      "(141176,) (35294,)\n",
      "train: [     0      1      2 ... 176467 176468 176469] validation: [35280 35295 35296 ... 70594 70595 70596]\n",
      "(141176,) (35294,)\n",
      "train: [     0      1      2 ... 176467 176468 176469] validation: [ 70502  70504  70511 ... 106005 106006 106007]\n",
      "(141176,) (35294,)\n",
      "train: [     0      1      2 ... 176467 176468 176469] validation: [104797 104818 104821 ... 141204 141205 141206]\n",
      "(141176,) (35294,)\n",
      "train: [     0      1      2 ... 141204 141205 141206] validation: [140795 140805 140833 ... 176467 176468 176469]\n"
     ]
    }
   ],
   "source": [
    " #### stratified kfold sur données sous Sous-echantillonées (x_train_under, y_train_under)\n",
    "skf = StratifiedKFold(n_splits=5)   \n",
    "\n",
    "\n",
    "for train_index, valid_index  in skf.split(x_train, y_train):\n",
    "    print(train_index.shape, valid_index.shape)\n",
    "    print('train:',train_index, 'validation:', valid_index)\n",
    "    x_train_strat, x_val_strat  = x_train.iloc[train_index], x_train.iloc[valid_index]\n",
    "    y_train_strat, y_val_strat  = y_train.iloc[train_index], y_train.iloc[valid_index]\n",
    "    "
   ]
  },
  {
   "cell_type": "code",
   "execution_count": 39,
   "id": "9716fad5",
   "metadata": {},
   "outputs": [
    {
     "data": {
      "text/html": [
       "<div>\n",
       "<style scoped>\n",
       "    .dataframe tbody tr th:only-of-type {\n",
       "        vertical-align: middle;\n",
       "    }\n",
       "\n",
       "    .dataframe tbody tr th {\n",
       "        vertical-align: top;\n",
       "    }\n",
       "\n",
       "    .dataframe thead th {\n",
       "        text-align: right;\n",
       "    }\n",
       "</style>\n",
       "<table border=\"1\" class=\"dataframe\">\n",
       "  <thead>\n",
       "    <tr style=\"text-align: right;\">\n",
       "      <th></th>\n",
       "      <th>TARGET</th>\n",
       "    </tr>\n",
       "  </thead>\n",
       "  <tbody>\n",
       "    <tr>\n",
       "      <th>118285</th>\n",
       "      <td>0</td>\n",
       "    </tr>\n",
       "    <tr>\n",
       "      <th>8158</th>\n",
       "      <td>0</td>\n",
       "    </tr>\n",
       "    <tr>\n",
       "      <th>212990</th>\n",
       "      <td>0</td>\n",
       "    </tr>\n",
       "    <tr>\n",
       "      <th>205381</th>\n",
       "      <td>0</td>\n",
       "    </tr>\n",
       "    <tr>\n",
       "      <th>46289</th>\n",
       "      <td>0</td>\n",
       "    </tr>\n",
       "    <tr>\n",
       "      <th>...</th>\n",
       "      <td>...</td>\n",
       "    </tr>\n",
       "    <tr>\n",
       "      <th>118061</th>\n",
       "      <td>0</td>\n",
       "    </tr>\n",
       "    <tr>\n",
       "      <th>174546</th>\n",
       "      <td>0</td>\n",
       "    </tr>\n",
       "    <tr>\n",
       "      <th>121296</th>\n",
       "      <td>0</td>\n",
       "    </tr>\n",
       "    <tr>\n",
       "      <th>198092</th>\n",
       "      <td>0</td>\n",
       "    </tr>\n",
       "    <tr>\n",
       "      <th>5657</th>\n",
       "      <td>0</td>\n",
       "    </tr>\n",
       "  </tbody>\n",
       "</table>\n",
       "<p>141176 rows × 1 columns</p>\n",
       "</div>"
      ],
      "text/plain": [
       "        TARGET\n",
       "118285       0\n",
       "8158         0\n",
       "212990       0\n",
       "205381       0\n",
       "46289        0\n",
       "...        ...\n",
       "118061       0\n",
       "174546       0\n",
       "121296       0\n",
       "198092       0\n",
       "5657         0\n",
       "\n",
       "[141176 rows x 1 columns]"
      ]
     },
     "execution_count": 39,
     "metadata": {},
     "output_type": "execute_result"
    }
   ],
   "source": [
    "y_train.iloc[train_index]\n",
    "\n"
   ]
  },
  {
   "cell_type": "code",
   "execution_count": 40,
   "id": "e2fe7898",
   "metadata": {},
   "outputs": [],
   "source": [
    "\n",
    "def benchmarck_stratkfold(x_train, y_train):\n",
    "    skf = StratifiedKFold(n_splits=5)\n",
    "    modeles ={'lr' : LogisticRegression(solver='lbfgs', max_iter=500)}\n",
    "#'gaussianNB': GaussianNB(),#'KNClassifier ' : KNeighborsClassifier(), #'RandomForest ' : RandomForestClassifier()\n",
    "    \n",
    "    with tqdm(total=len(modeles)) as pbar: #barre pour le temps d'execution\n",
    "                \n",
    "        for cle, valeur in modeles.items(): \n",
    "            for train_index, valid_index in skf.split(x_train, y_train):\n",
    "\n",
    "                x_train_strat, x_val_strat  = x_train.iloc[train_index], x_train.iloc[valid_index]\n",
    "                y_train_strat, y_val_strat  = y_train.iloc[train_index], y_train.iloc[valid_index]\n",
    "                             \n",
    "                valeur.fit(x_train_strat, y_train_strat)\n",
    "                y_pred = valeur.predict(x_val_strat)\n",
    "                cnf_matrix = metrics.confusion_matrix(y_val_strat, y_pred)\n",
    "                disp = ConfusionMatrixDisplay(confusion_matrix=cnf_matrix, display_labels=valeur.classes_)\n",
    "                results = classification_report(y_val_strat, y_pred, labels=[0,1])\n",
    "                #N, train_score, val_score, =learning_curve(valeur, x_train, cv=4 ,scoring='f1', train_sizes=np.linspace(0.1,1,10)) #utilise la cross validation\n",
    "                #moyenne des results , ne pas ecraser result\n",
    "            print(results)\n",
    "            disp.plot()\n",
    "            plt.show()\n",
    "                #plt.plot(N, train_score.mean(axis=1), label='train_score')\n",
    "                #plt.plot(N, val_score.mean(axis=1), label='validation_score')\n",
    "                #plt.legend()\n",
    "            pbar.update\n",
    "\n",
    "    #result = pd.DataFrame({'modele': modeles.values() , 'cnf_matrix':cnf_matrixs , 'cross_val':cross_vals})\n",
    "    #return(result)"
   ]
  },
  {
   "cell_type": "code",
   "execution_count": 41,
   "id": "ccc0e930",
   "metadata": {},
   "outputs": [
    {
     "name": "stderr",
     "output_type": "stream",
     "text": [
      "  0%|          | 0/1 [00:00<?, ?it/s]A column-vector y was passed when a 1d array was expected. Please change the shape of y to (n_samples, ), for example using ravel().\n",
      "A column-vector y was passed when a 1d array was expected. Please change the shape of y to (n_samples, ), for example using ravel().\n",
      "A column-vector y was passed when a 1d array was expected. Please change the shape of y to (n_samples, ), for example using ravel().\n",
      "A column-vector y was passed when a 1d array was expected. Please change the shape of y to (n_samples, ), for example using ravel().\n",
      "A column-vector y was passed when a 1d array was expected. Please change the shape of y to (n_samples, ), for example using ravel().\n"
     ]
    },
    {
     "name": "stdout",
     "output_type": "stream",
     "text": [
      "              precision    recall  f1-score   support\n",
      "\n",
      "           0       0.91      1.00      0.95     32232\n",
      "           1       0.44      0.02      0.04      3062\n",
      "\n",
      "    accuracy                           0.91     35294\n",
      "   macro avg       0.68      0.51      0.50     35294\n",
      "weighted avg       0.87      0.91      0.88     35294\n",
      "\n"
     ]
    },
    {
     "data": {
      "image/png": "[encoded data removed]",
      "text/plain": [
       "<Figure size 432x288 with 2 Axes>"
      ]
     },
     "metadata": {
      "needs_background": "light"
     },
     "output_type": "display_data"
    },
    {
     "name": "stderr",
     "output_type": "stream",
     "text": [
      "  0%|          | 0/1 [01:03<?, ?it/s]\n"
     ]
    }
   ],
   "source": [
    "#echantillon initial\n",
    "benchmarck_stratkfold(x_train,y_train)"
   ]
  },
  {
   "cell_type": "code",
   "execution_count": 42,
   "id": "6280521a",
   "metadata": {},
   "outputs": [
    {
     "name": "stdout",
     "output_type": "stream",
     "text": [
      "Before undersampling:  Counter({'TARGET': 1})\n",
      "After undersampling:  Counter({'TARGET': 1})\n"
     ]
    }
   ],
   "source": [
    "#sous-echantillonage\n",
    "x_train_under, y_train_under = sous_ech(x_train, y_train)"
   ]
  },
  {
   "cell_type": "code",
   "execution_count": 43,
   "id": "c67650bd",
   "metadata": {},
   "outputs": [
    {
     "data": {
      "text/html": [
       "<div>\n",
       "<style scoped>\n",
       "    .dataframe tbody tr th:only-of-type {\n",
       "        vertical-align: middle;\n",
       "    }\n",
       "\n",
       "    .dataframe tbody tr th {\n",
       "        vertical-align: top;\n",
       "    }\n",
       "\n",
       "    .dataframe thead th {\n",
       "        text-align: right;\n",
       "    }\n",
       "</style>\n",
       "<table border=\"1\" class=\"dataframe\">\n",
       "  <thead>\n",
       "    <tr style=\"text-align: right;\">\n",
       "      <th></th>\n",
       "      <th>0</th>\n",
       "      <th>1</th>\n",
       "      <th>2</th>\n",
       "      <th>3</th>\n",
       "      <th>4</th>\n",
       "      <th>5</th>\n",
       "      <th>6</th>\n",
       "      <th>7</th>\n",
       "      <th>8</th>\n",
       "      <th>9</th>\n",
       "      <th>...</th>\n",
       "      <th>301</th>\n",
       "      <th>302</th>\n",
       "      <th>303</th>\n",
       "      <th>304</th>\n",
       "      <th>305</th>\n",
       "      <th>306</th>\n",
       "      <th>307</th>\n",
       "      <th>308</th>\n",
       "      <th>309</th>\n",
       "      <th>310</th>\n",
       "    </tr>\n",
       "  </thead>\n",
       "  <tbody>\n",
       "    <tr>\n",
       "      <th>0</th>\n",
       "      <td>0.777261</td>\n",
       "      <td>-0.773726</td>\n",
       "      <td>-0.688326</td>\n",
       "      <td>-0.014758</td>\n",
       "      <td>-0.827009</td>\n",
       "      <td>-0.851535</td>\n",
       "      <td>0.006899</td>\n",
       "      <td>-0.566776</td>\n",
       "      <td>0.046159</td>\n",
       "      <td>-0.620002</td>\n",
       "      <td>...</td>\n",
       "      <td>-0.181321</td>\n",
       "      <td>-0.168274</td>\n",
       "      <td>-0.046258</td>\n",
       "      <td>-0.557821</td>\n",
       "      <td>-0.553661</td>\n",
       "      <td>3.388832</td>\n",
       "      <td>-0.477806</td>\n",
       "      <td>-0.552760</td>\n",
       "      <td>-0.556392</td>\n",
       "      <td>-0.557438</td>\n",
       "    </tr>\n",
       "    <tr>\n",
       "      <th>1</th>\n",
       "      <td>0.777261</td>\n",
       "      <td>-0.773726</td>\n",
       "      <td>1.452801</td>\n",
       "      <td>-1.147841</td>\n",
       "      <td>-2.094466</td>\n",
       "      <td>1.526769</td>\n",
       "      <td>0.006899</td>\n",
       "      <td>-0.566776</td>\n",
       "      <td>0.046159</td>\n",
       "      <td>-0.620002</td>\n",
       "      <td>...</td>\n",
       "      <td>-0.181321</td>\n",
       "      <td>-0.168274</td>\n",
       "      <td>-0.046258</td>\n",
       "      <td>-0.557821</td>\n",
       "      <td>-0.553661</td>\n",
       "      <td>-0.566403</td>\n",
       "      <td>-0.477806</td>\n",
       "      <td>-0.552760</td>\n",
       "      <td>-0.556392</td>\n",
       "      <td>-0.557438</td>\n",
       "    </tr>\n",
       "    <tr>\n",
       "      <th>2</th>\n",
       "      <td>0.777261</td>\n",
       "      <td>1.292447</td>\n",
       "      <td>-0.688326</td>\n",
       "      <td>0.687481</td>\n",
       "      <td>0.295008</td>\n",
       "      <td>0.983665</td>\n",
       "      <td>0.006899</td>\n",
       "      <td>-0.566776</td>\n",
       "      <td>0.046159</td>\n",
       "      <td>-0.620002</td>\n",
       "      <td>...</td>\n",
       "      <td>-0.181321</td>\n",
       "      <td>-0.168274</td>\n",
       "      <td>-0.046258</td>\n",
       "      <td>1.030102</td>\n",
       "      <td>-0.020343</td>\n",
       "      <td>-0.071998</td>\n",
       "      <td>0.616355</td>\n",
       "      <td>-0.552760</td>\n",
       "      <td>-0.556392</td>\n",
       "      <td>-0.025103</td>\n",
       "    </tr>\n",
       "    <tr>\n",
       "      <th>3</th>\n",
       "      <td>0.777261</td>\n",
       "      <td>-0.773726</td>\n",
       "      <td>1.452801</td>\n",
       "      <td>-1.110982</td>\n",
       "      <td>-2.046498</td>\n",
       "      <td>1.447580</td>\n",
       "      <td>0.006899</td>\n",
       "      <td>-0.566776</td>\n",
       "      <td>0.046159</td>\n",
       "      <td>-0.620002</td>\n",
       "      <td>...</td>\n",
       "      <td>-0.181321</td>\n",
       "      <td>-0.168274</td>\n",
       "      <td>-0.046258</td>\n",
       "      <td>-0.557821</td>\n",
       "      <td>1.579612</td>\n",
       "      <td>-0.566403</td>\n",
       "      <td>-0.477806</td>\n",
       "      <td>-0.552760</td>\n",
       "      <td>-0.556392</td>\n",
       "      <td>1.571901</td>\n",
       "    </tr>\n",
       "    <tr>\n",
       "      <th>4</th>\n",
       "      <td>0.777261</td>\n",
       "      <td>-0.773726</td>\n",
       "      <td>1.452801</td>\n",
       "      <td>-0.947709</td>\n",
       "      <td>-0.925097</td>\n",
       "      <td>0.666250</td>\n",
       "      <td>0.006899</td>\n",
       "      <td>1.764364</td>\n",
       "      <td>0.046159</td>\n",
       "      <td>1.612899</td>\n",
       "      <td>...</td>\n",
       "      <td>-0.181321</td>\n",
       "      <td>-0.168274</td>\n",
       "      <td>-0.046258</td>\n",
       "      <td>-0.557821</td>\n",
       "      <td>0.512975</td>\n",
       "      <td>-0.566403</td>\n",
       "      <td>-0.477806</td>\n",
       "      <td>1.585662</td>\n",
       "      <td>0.512400</td>\n",
       "      <td>-0.557438</td>\n",
       "    </tr>\n",
       "    <tr>\n",
       "      <th>...</th>\n",
       "      <td>...</td>\n",
       "      <td>...</td>\n",
       "      <td>...</td>\n",
       "      <td>...</td>\n",
       "      <td>...</td>\n",
       "      <td>...</td>\n",
       "      <td>...</td>\n",
       "      <td>...</td>\n",
       "      <td>...</td>\n",
       "      <td>...</td>\n",
       "      <td>...</td>\n",
       "      <td>...</td>\n",
       "      <td>...</td>\n",
       "      <td>...</td>\n",
       "      <td>...</td>\n",
       "      <td>...</td>\n",
       "      <td>...</td>\n",
       "      <td>...</td>\n",
       "      <td>...</td>\n",
       "      <td>...</td>\n",
       "      <td>...</td>\n",
       "    </tr>\n",
       "    <tr>\n",
       "      <th>30609</th>\n",
       "      <td>0.777261</td>\n",
       "      <td>-0.773726</td>\n",
       "      <td>-0.688326</td>\n",
       "      <td>-0.410381</td>\n",
       "      <td>-1.332823</td>\n",
       "      <td>-0.891130</td>\n",
       "      <td>0.006899</td>\n",
       "      <td>1.764364</td>\n",
       "      <td>0.046159</td>\n",
       "      <td>-0.620002</td>\n",
       "      <td>...</td>\n",
       "      <td>-0.181321</td>\n",
       "      <td>-0.168274</td>\n",
       "      <td>-0.046258</td>\n",
       "      <td>0.618418</td>\n",
       "      <td>-0.079601</td>\n",
       "      <td>-0.346668</td>\n",
       "      <td>-0.234659</td>\n",
       "      <td>1.348059</td>\n",
       "      <td>-0.318883</td>\n",
       "      <td>-0.557438</td>\n",
       "    </tr>\n",
       "    <tr>\n",
       "      <th>30610</th>\n",
       "      <td>-1.286569</td>\n",
       "      <td>1.292447</td>\n",
       "      <td>1.452801</td>\n",
       "      <td>1.747119</td>\n",
       "      <td>0.426612</td>\n",
       "      <td>1.147322</td>\n",
       "      <td>0.006899</td>\n",
       "      <td>-0.566776</td>\n",
       "      <td>0.046159</td>\n",
       "      <td>1.612899</td>\n",
       "      <td>...</td>\n",
       "      <td>-0.181321</td>\n",
       "      <td>-0.168274</td>\n",
       "      <td>-0.046258</td>\n",
       "      <td>1.559410</td>\n",
       "      <td>-0.553661</td>\n",
       "      <td>-0.566403</td>\n",
       "      <td>1.710517</td>\n",
       "      <td>-0.552760</td>\n",
       "      <td>-0.556392</td>\n",
       "      <td>-0.557438</td>\n",
       "    </tr>\n",
       "    <tr>\n",
       "      <th>30611</th>\n",
       "      <td>0.777261</td>\n",
       "      <td>-0.773726</td>\n",
       "      <td>-0.688326</td>\n",
       "      <td>0.436291</td>\n",
       "      <td>0.013351</td>\n",
       "      <td>1.359812</td>\n",
       "      <td>0.006899</td>\n",
       "      <td>-0.566776</td>\n",
       "      <td>0.046159</td>\n",
       "      <td>-0.620002</td>\n",
       "      <td>...</td>\n",
       "      <td>-0.181321</td>\n",
       "      <td>-0.168274</td>\n",
       "      <td>-0.046258</td>\n",
       "      <td>3.676642</td>\n",
       "      <td>-0.553661</td>\n",
       "      <td>-0.566403</td>\n",
       "      <td>-0.477806</td>\n",
       "      <td>-0.552760</td>\n",
       "      <td>-0.556392</td>\n",
       "      <td>-0.557438</td>\n",
       "    </tr>\n",
       "    <tr>\n",
       "      <th>30612</th>\n",
       "      <td>0.777261</td>\n",
       "      <td>-0.773726</td>\n",
       "      <td>-0.688326</td>\n",
       "      <td>0.111656</td>\n",
       "      <td>-0.782116</td>\n",
       "      <td>-0.489906</td>\n",
       "      <td>0.006899</td>\n",
       "      <td>1.764364</td>\n",
       "      <td>0.046159</td>\n",
       "      <td>1.612899</td>\n",
       "      <td>...</td>\n",
       "      <td>-0.181321</td>\n",
       "      <td>-0.168274</td>\n",
       "      <td>-0.046258</td>\n",
       "      <td>3.676642</td>\n",
       "      <td>-0.553661</td>\n",
       "      <td>-0.566403</td>\n",
       "      <td>-0.477806</td>\n",
       "      <td>-0.552760</td>\n",
       "      <td>-0.556392</td>\n",
       "      <td>-0.557438</td>\n",
       "    </tr>\n",
       "    <tr>\n",
       "      <th>30613</th>\n",
       "      <td>-1.286569</td>\n",
       "      <td>-0.773726</td>\n",
       "      <td>-0.688326</td>\n",
       "      <td>1.137165</td>\n",
       "      <td>0.017656</td>\n",
       "      <td>-0.313051</td>\n",
       "      <td>0.006899</td>\n",
       "      <td>-0.566776</td>\n",
       "      <td>0.046159</td>\n",
       "      <td>-0.620002</td>\n",
       "      <td>...</td>\n",
       "      <td>-0.181321</td>\n",
       "      <td>-0.168274</td>\n",
       "      <td>-0.046258</td>\n",
       "      <td>2.265154</td>\n",
       "      <td>-0.553661</td>\n",
       "      <td>-0.566403</td>\n",
       "      <td>0.981076</td>\n",
       "      <td>-0.552760</td>\n",
       "      <td>-0.556392</td>\n",
       "      <td>-0.557438</td>\n",
       "    </tr>\n",
       "  </tbody>\n",
       "</table>\n",
       "<p>30614 rows × 311 columns</p>\n",
       "</div>"
      ],
      "text/plain": [
       "            0         1         2         3         4         5         6    \\\n",
       "0      0.777261 -0.773726 -0.688326 -0.014758 -0.827009 -0.851535  0.006899   \n",
       "1      0.777261 -0.773726  1.452801 -1.147841 -2.094466  1.526769  0.006899   \n",
       "2      0.777261  1.292447 -0.688326  0.687481  0.295008  0.983665  0.006899   \n",
       "3      0.777261 -0.773726  1.452801 -1.110982 -2.046498  1.447580  0.006899   \n",
       "4      0.777261 -0.773726  1.452801 -0.947709 -0.925097  0.666250  0.006899   \n",
       "...         ...       ...       ...       ...       ...       ...       ...   \n",
       "30609  0.777261 -0.773726 -0.688326 -0.410381 -1.332823 -0.891130  0.006899   \n",
       "30610 -1.286569  1.292447  1.452801  1.747119  0.426612  1.147322  0.006899   \n",
       "30611  0.777261 -0.773726 -0.688326  0.436291  0.013351  1.359812  0.006899   \n",
       "30612  0.777261 -0.773726 -0.688326  0.111656 -0.782116 -0.489906  0.006899   \n",
       "30613 -1.286569 -0.773726 -0.688326  1.137165  0.017656 -0.313051  0.006899   \n",
       "\n",
       "            7         8         9    ...       301       302       303  \\\n",
       "0     -0.566776  0.046159 -0.620002  ... -0.181321 -0.168274 -0.046258   \n",
       "1     -0.566776  0.046159 -0.620002  ... -0.181321 -0.168274 -0.046258   \n",
       "2     -0.566776  0.046159 -0.620002  ... -0.181321 -0.168274 -0.046258   \n",
       "3     -0.566776  0.046159 -0.620002  ... -0.181321 -0.168274 -0.046258   \n",
       "4      1.764364  0.046159  1.612899  ... -0.181321 -0.168274 -0.046258   \n",
       "...         ...       ...       ...  ...       ...       ...       ...   \n",
       "30609  1.764364  0.046159 -0.620002  ... -0.181321 -0.168274 -0.046258   \n",
       "30610 -0.566776  0.046159  1.612899  ... -0.181321 -0.168274 -0.046258   \n",
       "30611 -0.566776  0.046159 -0.620002  ... -0.181321 -0.168274 -0.046258   \n",
       "30612  1.764364  0.046159  1.612899  ... -0.181321 -0.168274 -0.046258   \n",
       "30613 -0.566776  0.046159 -0.620002  ... -0.181321 -0.168274 -0.046258   \n",
       "\n",
       "            304       305       306       307       308       309       310  \n",
       "0     -0.557821 -0.553661  3.388832 -0.477806 -0.552760 -0.556392 -0.557438  \n",
       "1     -0.557821 -0.553661 -0.566403 -0.477806 -0.552760 -0.556392 -0.557438  \n",
       "2      1.030102 -0.020343 -0.071998  0.616355 -0.552760 -0.556392 -0.025103  \n",
       "3     -0.557821  1.579612 -0.566403 -0.477806 -0.552760 -0.556392  1.571901  \n",
       "4     -0.557821  0.512975 -0.566403 -0.477806  1.585662  0.512400 -0.557438  \n",
       "...         ...       ...       ...       ...       ...       ...       ...  \n",
       "30609  0.618418 -0.079601 -0.346668 -0.234659  1.348059 -0.318883 -0.557438  \n",
       "30610  1.559410 -0.553661 -0.566403  1.710517 -0.552760 -0.556392 -0.557438  \n",
       "30611  3.676642 -0.553661 -0.566403 -0.477806 -0.552760 -0.556392 -0.557438  \n",
       "30612  3.676642 -0.553661 -0.566403 -0.477806 -0.552760 -0.556392 -0.557438  \n",
       "30613  2.265154 -0.553661 -0.566403  0.981076 -0.552760 -0.556392 -0.557438  \n",
       "\n",
       "[30614 rows x 311 columns]"
      ]
     },
     "execution_count": 43,
     "metadata": {},
     "output_type": "execute_result"
    }
   ],
   "source": [
    "x_train_under"
   ]
  },
  {
   "cell_type": "code",
   "execution_count": 44,
   "id": "e2c24fba",
   "metadata": {},
   "outputs": [
    {
     "data": {
      "text/html": [
       "<div>\n",
       "<style scoped>\n",
       "    .dataframe tbody tr th:only-of-type {\n",
       "        vertical-align: middle;\n",
       "    }\n",
       "\n",
       "    .dataframe tbody tr th {\n",
       "        vertical-align: top;\n",
       "    }\n",
       "\n",
       "    .dataframe thead th {\n",
       "        text-align: right;\n",
       "    }\n",
       "</style>\n",
       "<table border=\"1\" class=\"dataframe\">\n",
       "  <thead>\n",
       "    <tr style=\"text-align: right;\">\n",
       "      <th></th>\n",
       "      <th>TARGET</th>\n",
       "    </tr>\n",
       "  </thead>\n",
       "  <tbody>\n",
       "    <tr>\n",
       "      <th>0</th>\n",
       "      <td>0</td>\n",
       "    </tr>\n",
       "    <tr>\n",
       "      <th>1</th>\n",
       "      <td>0</td>\n",
       "    </tr>\n",
       "    <tr>\n",
       "      <th>2</th>\n",
       "      <td>0</td>\n",
       "    </tr>\n",
       "    <tr>\n",
       "      <th>3</th>\n",
       "      <td>0</td>\n",
       "    </tr>\n",
       "    <tr>\n",
       "      <th>4</th>\n",
       "      <td>0</td>\n",
       "    </tr>\n",
       "    <tr>\n",
       "      <th>...</th>\n",
       "      <td>...</td>\n",
       "    </tr>\n",
       "    <tr>\n",
       "      <th>30609</th>\n",
       "      <td>1</td>\n",
       "    </tr>\n",
       "    <tr>\n",
       "      <th>30610</th>\n",
       "      <td>1</td>\n",
       "    </tr>\n",
       "    <tr>\n",
       "      <th>30611</th>\n",
       "      <td>1</td>\n",
       "    </tr>\n",
       "    <tr>\n",
       "      <th>30612</th>\n",
       "      <td>1</td>\n",
       "    </tr>\n",
       "    <tr>\n",
       "      <th>30613</th>\n",
       "      <td>1</td>\n",
       "    </tr>\n",
       "  </tbody>\n",
       "</table>\n",
       "<p>30614 rows × 1 columns</p>\n",
       "</div>"
      ],
      "text/plain": [
       "       TARGET\n",
       "0           0\n",
       "1           0\n",
       "2           0\n",
       "3           0\n",
       "4           0\n",
       "...       ...\n",
       "30609       1\n",
       "30610       1\n",
       "30611       1\n",
       "30612       1\n",
       "30613       1\n",
       "\n",
       "[30614 rows x 1 columns]"
      ]
     },
     "execution_count": 44,
     "metadata": {},
     "output_type": "execute_result"
    }
   ],
   "source": [
    "y_train_under"
   ]
  },
  {
   "cell_type": "code",
   "execution_count": 45,
   "id": "b670e2ec",
   "metadata": {},
   "outputs": [
    {
     "name": "stderr",
     "output_type": "stream",
     "text": [
      "  0%|          | 0/1 [00:00<?, ?it/s]A column-vector y was passed when a 1d array was expected. Please change the shape of y to (n_samples, ), for example using ravel().\n",
      "A column-vector y was passed when a 1d array was expected. Please change the shape of y to (n_samples, ), for example using ravel().\n",
      "A column-vector y was passed when a 1d array was expected. Please change the shape of y to (n_samples, ), for example using ravel().\n",
      "A column-vector y was passed when a 1d array was expected. Please change the shape of y to (n_samples, ), for example using ravel().\n",
      "A column-vector y was passed when a 1d array was expected. Please change the shape of y to (n_samples, ), for example using ravel().\n"
     ]
    },
    {
     "name": "stdout",
     "output_type": "stream",
     "text": [
      "              precision    recall  f1-score   support\n",
      "\n",
      "           0       0.69      0.71      0.70      3061\n",
      "           1       0.70      0.68      0.69      3061\n",
      "\n",
      "    accuracy                           0.69      6122\n",
      "   macro avg       0.69      0.69      0.69      6122\n",
      "weighted avg       0.69      0.69      0.69      6122\n",
      "\n"
     ]
    },
    {
     "data": {
      "image/png": "[encoded data removed]",
      "text/plain": [
       "<Figure size 432x288 with 2 Axes>"
      ]
     },
     "metadata": {
      "needs_background": "light"
     },
     "output_type": "display_data"
    },
    {
     "name": "stderr",
     "output_type": "stream",
     "text": [
      "  0%|          | 0/1 [00:09<?, ?it/s]\n"
     ]
    }
   ],
   "source": [
    "benchmarck_stratkfold(x_train_under, y_train_under)"
   ]
  },
  {
   "cell_type": "code",
   "execution_count": 27,
   "id": "535fc23d",
   "metadata": {},
   "outputs": [
    {
     "name": "stdout",
     "output_type": "stream",
     "text": [
      "Before oversampling:  Counter({'TARGET': 1})\n",
      "After oversampling:  Counter({'TARGET': 1})\n"
     ]
    }
   ],
   "source": [
    "#sur-echantillonage\n",
    "\n",
    "x_train_SMOTE, y_train_SMOTE = sur_ech(x_train_bis, y_train_bis)"
   ]
  },
  {
   "cell_type": "code",
   "execution_count": 30,
   "id": "61b995d4",
   "metadata": {},
   "outputs": [
    {
     "data": {
      "text/html": [
       "<div>\n",
       "<style scoped>\n",
       "    .dataframe tbody tr th:only-of-type {\n",
       "        vertical-align: middle;\n",
       "    }\n",
       "\n",
       "    .dataframe tbody tr th {\n",
       "        vertical-align: top;\n",
       "    }\n",
       "\n",
       "    .dataframe thead th {\n",
       "        text-align: right;\n",
       "    }\n",
       "</style>\n",
       "<table border=\"1\" class=\"dataframe\">\n",
       "  <thead>\n",
       "    <tr style=\"text-align: right;\">\n",
       "      <th></th>\n",
       "      <th>0</th>\n",
       "      <th>1</th>\n",
       "      <th>2</th>\n",
       "      <th>3</th>\n",
       "      <th>4</th>\n",
       "      <th>5</th>\n",
       "      <th>6</th>\n",
       "      <th>7</th>\n",
       "      <th>8</th>\n",
       "      <th>9</th>\n",
       "      <th>...</th>\n",
       "      <th>301</th>\n",
       "      <th>302</th>\n",
       "      <th>303</th>\n",
       "      <th>304</th>\n",
       "      <th>305</th>\n",
       "      <th>306</th>\n",
       "      <th>307</th>\n",
       "      <th>308</th>\n",
       "      <th>309</th>\n",
       "      <th>310</th>\n",
       "    </tr>\n",
       "  </thead>\n",
       "  <tbody>\n",
       "    <tr>\n",
       "      <th>0</th>\n",
       "      <td>0.777261</td>\n",
       "      <td>-0.773726</td>\n",
       "      <td>-0.688326</td>\n",
       "      <td>-0.056259</td>\n",
       "      <td>0.689205</td>\n",
       "      <td>0.678788</td>\n",
       "      <td>0.006899</td>\n",
       "      <td>-0.566776</td>\n",
       "      <td>0.046159</td>\n",
       "      <td>1.612899</td>\n",
       "      <td>...</td>\n",
       "      <td>-0.181321</td>\n",
       "      <td>-0.168274</td>\n",
       "      <td>-0.046258</td>\n",
       "      <td>-0.557821</td>\n",
       "      <td>-0.553661</td>\n",
       "      <td>-0.566403</td>\n",
       "      <td>-0.477806</td>\n",
       "      <td>-0.55276</td>\n",
       "      <td>-0.556392</td>\n",
       "      <td>-0.557438</td>\n",
       "    </tr>\n",
       "    <tr>\n",
       "      <th>1</th>\n",
       "      <td>-1.286569</td>\n",
       "      <td>1.292447</td>\n",
       "      <td>-0.688326</td>\n",
       "      <td>-0.635360</td>\n",
       "      <td>0.383564</td>\n",
       "      <td>1.436361</td>\n",
       "      <td>0.006899</td>\n",
       "      <td>-0.566776</td>\n",
       "      <td>0.046159</td>\n",
       "      <td>-0.620002</td>\n",
       "      <td>...</td>\n",
       "      <td>-0.181321</td>\n",
       "      <td>-0.168274</td>\n",
       "      <td>-0.046258</td>\n",
       "      <td>-0.557821</td>\n",
       "      <td>-0.553661</td>\n",
       "      <td>3.388832</td>\n",
       "      <td>-0.477806</td>\n",
       "      <td>-0.55276</td>\n",
       "      <td>-0.556392</td>\n",
       "      <td>-0.557438</td>\n",
       "    </tr>\n",
       "    <tr>\n",
       "      <th>2</th>\n",
       "      <td>0.777261</td>\n",
       "      <td>-0.773726</td>\n",
       "      <td>-0.688326</td>\n",
       "      <td>-2.041749</td>\n",
       "      <td>-0.850993</td>\n",
       "      <td>-0.887170</td>\n",
       "      <td>0.006899</td>\n",
       "      <td>-0.566776</td>\n",
       "      <td>0.046159</td>\n",
       "      <td>-0.620002</td>\n",
       "      <td>...</td>\n",
       "      <td>-0.181321</td>\n",
       "      <td>-0.168274</td>\n",
       "      <td>-0.046258</td>\n",
       "      <td>-0.557821</td>\n",
       "      <td>0.665352</td>\n",
       "      <td>0.563664</td>\n",
       "      <td>0.147429</td>\n",
       "      <td>-0.55276</td>\n",
       "      <td>-0.556392</td>\n",
       "      <td>0.659327</td>\n",
       "    </tr>\n",
       "    <tr>\n",
       "      <th>3</th>\n",
       "      <td>-1.286569</td>\n",
       "      <td>1.292447</td>\n",
       "      <td>-0.688326</td>\n",
       "      <td>0.591920</td>\n",
       "      <td>0.922587</td>\n",
       "      <td>-0.460211</td>\n",
       "      <td>0.006899</td>\n",
       "      <td>-0.566776</td>\n",
       "      <td>0.046159</td>\n",
       "      <td>-0.620002</td>\n",
       "      <td>...</td>\n",
       "      <td>-0.181321</td>\n",
       "      <td>4.709549</td>\n",
       "      <td>-0.046258</td>\n",
       "      <td>-0.557821</td>\n",
       "      <td>-0.553661</td>\n",
       "      <td>3.388832</td>\n",
       "      <td>-0.477806</td>\n",
       "      <td>-0.55276</td>\n",
       "      <td>-0.556392</td>\n",
       "      <td>-0.557438</td>\n",
       "    </tr>\n",
       "    <tr>\n",
       "      <th>4</th>\n",
       "      <td>0.777261</td>\n",
       "      <td>-0.773726</td>\n",
       "      <td>-0.688326</td>\n",
       "      <td>-0.838223</td>\n",
       "      <td>-1.701807</td>\n",
       "      <td>1.004782</td>\n",
       "      <td>0.006899</td>\n",
       "      <td>-0.566776</td>\n",
       "      <td>0.046159</td>\n",
       "      <td>1.612899</td>\n",
       "      <td>...</td>\n",
       "      <td>-0.181321</td>\n",
       "      <td>-0.168274</td>\n",
       "      <td>-0.046258</td>\n",
       "      <td>-0.557821</td>\n",
       "      <td>-0.553661</td>\n",
       "      <td>-0.566403</td>\n",
       "      <td>-0.477806</td>\n",
       "      <td>-0.55276</td>\n",
       "      <td>-0.556392</td>\n",
       "      <td>-0.557438</td>\n",
       "    </tr>\n",
       "    <tr>\n",
       "      <th>...</th>\n",
       "      <td>...</td>\n",
       "      <td>...</td>\n",
       "      <td>...</td>\n",
       "      <td>...</td>\n",
       "      <td>...</td>\n",
       "      <td>...</td>\n",
       "      <td>...</td>\n",
       "      <td>...</td>\n",
       "      <td>...</td>\n",
       "      <td>...</td>\n",
       "      <td>...</td>\n",
       "      <td>...</td>\n",
       "      <td>...</td>\n",
       "      <td>...</td>\n",
       "      <td>...</td>\n",
       "      <td>...</td>\n",
       "      <td>...</td>\n",
       "      <td>...</td>\n",
       "      <td>...</td>\n",
       "      <td>...</td>\n",
       "      <td>...</td>\n",
       "    </tr>\n",
       "    <tr>\n",
       "      <th>322321</th>\n",
       "      <td>-1.286569</td>\n",
       "      <td>-0.773726</td>\n",
       "      <td>-0.060239</td>\n",
       "      <td>0.622783</td>\n",
       "      <td>-0.073411</td>\n",
       "      <td>-0.441565</td>\n",
       "      <td>0.006899</td>\n",
       "      <td>-0.566776</td>\n",
       "      <td>0.046159</td>\n",
       "      <td>-0.620002</td>\n",
       "      <td>...</td>\n",
       "      <td>-0.181321</td>\n",
       "      <td>-0.168274</td>\n",
       "      <td>-0.046258</td>\n",
       "      <td>-0.060960</td>\n",
       "      <td>1.152958</td>\n",
       "      <td>-0.007405</td>\n",
       "      <td>-0.221034</td>\n",
       "      <td>-0.55276</td>\n",
       "      <td>-0.556392</td>\n",
       "      <td>0.646330</td>\n",
       "    </tr>\n",
       "    <tr>\n",
       "      <th>322322</th>\n",
       "      <td>-0.019069</td>\n",
       "      <td>-0.773726</td>\n",
       "      <td>-0.688326</td>\n",
       "      <td>1.473637</td>\n",
       "      <td>1.170302</td>\n",
       "      <td>0.835449</td>\n",
       "      <td>0.006899</td>\n",
       "      <td>1.764364</td>\n",
       "      <td>0.046159</td>\n",
       "      <td>0.751333</td>\n",
       "      <td>...</td>\n",
       "      <td>-0.181321</td>\n",
       "      <td>-0.168274</td>\n",
       "      <td>-0.046258</td>\n",
       "      <td>-0.557821</td>\n",
       "      <td>-0.553661</td>\n",
       "      <td>0.648150</td>\n",
       "      <td>-0.477806</td>\n",
       "      <td>0.76055</td>\n",
       "      <td>-0.556392</td>\n",
       "      <td>-0.557438</td>\n",
       "    </tr>\n",
       "    <tr>\n",
       "      <th>322323</th>\n",
       "      <td>-1.286569</td>\n",
       "      <td>-0.773726</td>\n",
       "      <td>-0.688326</td>\n",
       "      <td>0.922279</td>\n",
       "      <td>1.078037</td>\n",
       "      <td>0.976520</td>\n",
       "      <td>0.006899</td>\n",
       "      <td>-0.566776</td>\n",
       "      <td>0.046159</td>\n",
       "      <td>-0.620002</td>\n",
       "      <td>...</td>\n",
       "      <td>-0.181321</td>\n",
       "      <td>-0.168274</td>\n",
       "      <td>-0.046258</td>\n",
       "      <td>-0.557821</td>\n",
       "      <td>-0.553661</td>\n",
       "      <td>-0.566403</td>\n",
       "      <td>-0.477806</td>\n",
       "      <td>1.44191</td>\n",
       "      <td>-0.556392</td>\n",
       "      <td>0.435661</td>\n",
       "    </tr>\n",
       "    <tr>\n",
       "      <th>322324</th>\n",
       "      <td>-0.457258</td>\n",
       "      <td>-0.773726</td>\n",
       "      <td>-0.688326</td>\n",
       "      <td>-0.500647</td>\n",
       "      <td>-0.051313</td>\n",
       "      <td>0.305706</td>\n",
       "      <td>0.006899</td>\n",
       "      <td>-0.566776</td>\n",
       "      <td>0.046159</td>\n",
       "      <td>-0.620002</td>\n",
       "      <td>...</td>\n",
       "      <td>-0.181321</td>\n",
       "      <td>-0.168274</td>\n",
       "      <td>-0.046258</td>\n",
       "      <td>-0.135667</td>\n",
       "      <td>-0.553661</td>\n",
       "      <td>-0.566403</td>\n",
       "      <td>-0.041477</td>\n",
       "      <td>-0.55276</td>\n",
       "      <td>2.440139</td>\n",
       "      <td>-0.132870</td>\n",
       "    </tr>\n",
       "    <tr>\n",
       "      <th>322325</th>\n",
       "      <td>-0.398594</td>\n",
       "      <td>-0.773726</td>\n",
       "      <td>0.232907</td>\n",
       "      <td>-0.493885</td>\n",
       "      <td>1.307875</td>\n",
       "      <td>-0.102336</td>\n",
       "      <td>0.006899</td>\n",
       "      <td>0.761377</td>\n",
       "      <td>0.046159</td>\n",
       "      <td>-0.620002</td>\n",
       "      <td>...</td>\n",
       "      <td>-0.181321</td>\n",
       "      <td>-0.168274</td>\n",
       "      <td>-0.046258</td>\n",
       "      <td>-0.557821</td>\n",
       "      <td>0.661759</td>\n",
       "      <td>-0.003035</td>\n",
       "      <td>0.145586</td>\n",
       "      <td>-0.55276</td>\n",
       "      <td>-0.556392</td>\n",
       "      <td>-0.557438</td>\n",
       "    </tr>\n",
       "  </tbody>\n",
       "</table>\n",
       "<p>322326 rows × 311 columns</p>\n",
       "</div>"
      ],
      "text/plain": [
       "             0         1         2         3         4         5         6    \\\n",
       "0       0.777261 -0.773726 -0.688326 -0.056259  0.689205  0.678788  0.006899   \n",
       "1      -1.286569  1.292447 -0.688326 -0.635360  0.383564  1.436361  0.006899   \n",
       "2       0.777261 -0.773726 -0.688326 -2.041749 -0.850993 -0.887170  0.006899   \n",
       "3      -1.286569  1.292447 -0.688326  0.591920  0.922587 -0.460211  0.006899   \n",
       "4       0.777261 -0.773726 -0.688326 -0.838223 -1.701807  1.004782  0.006899   \n",
       "...          ...       ...       ...       ...       ...       ...       ...   \n",
       "322321 -1.286569 -0.773726 -0.060239  0.622783 -0.073411 -0.441565  0.006899   \n",
       "322322 -0.019069 -0.773726 -0.688326  1.473637  1.170302  0.835449  0.006899   \n",
       "322323 -1.286569 -0.773726 -0.688326  0.922279  1.078037  0.976520  0.006899   \n",
       "322324 -0.457258 -0.773726 -0.688326 -0.500647 -0.051313  0.305706  0.006899   \n",
       "322325 -0.398594 -0.773726  0.232907 -0.493885  1.307875 -0.102336  0.006899   \n",
       "\n",
       "             7         8         9    ...       301       302       303  \\\n",
       "0      -0.566776  0.046159  1.612899  ... -0.181321 -0.168274 -0.046258   \n",
       "1      -0.566776  0.046159 -0.620002  ... -0.181321 -0.168274 -0.046258   \n",
       "2      -0.566776  0.046159 -0.620002  ... -0.181321 -0.168274 -0.046258   \n",
       "3      -0.566776  0.046159 -0.620002  ... -0.181321  4.709549 -0.046258   \n",
       "4      -0.566776  0.046159  1.612899  ... -0.181321 -0.168274 -0.046258   \n",
       "...          ...       ...       ...  ...       ...       ...       ...   \n",
       "322321 -0.566776  0.046159 -0.620002  ... -0.181321 -0.168274 -0.046258   \n",
       "322322  1.764364  0.046159  0.751333  ... -0.181321 -0.168274 -0.046258   \n",
       "322323 -0.566776  0.046159 -0.620002  ... -0.181321 -0.168274 -0.046258   \n",
       "322324 -0.566776  0.046159 -0.620002  ... -0.181321 -0.168274 -0.046258   \n",
       "322325  0.761377  0.046159 -0.620002  ... -0.181321 -0.168274 -0.046258   \n",
       "\n",
       "             304       305       306       307      308       309       310  \n",
       "0      -0.557821 -0.553661 -0.566403 -0.477806 -0.55276 -0.556392 -0.557438  \n",
       "1      -0.557821 -0.553661  3.388832 -0.477806 -0.55276 -0.556392 -0.557438  \n",
       "2      -0.557821  0.665352  0.563664  0.147429 -0.55276 -0.556392  0.659327  \n",
       "3      -0.557821 -0.553661  3.388832 -0.477806 -0.55276 -0.556392 -0.557438  \n",
       "4      -0.557821 -0.553661 -0.566403 -0.477806 -0.55276 -0.556392 -0.557438  \n",
       "...          ...       ...       ...       ...      ...       ...       ...  \n",
       "322321 -0.060960  1.152958 -0.007405 -0.221034 -0.55276 -0.556392  0.646330  \n",
       "322322 -0.557821 -0.553661  0.648150 -0.477806  0.76055 -0.556392 -0.557438  \n",
       "322323 -0.557821 -0.553661 -0.566403 -0.477806  1.44191 -0.556392  0.435661  \n",
       "322324 -0.135667 -0.553661 -0.566403 -0.041477 -0.55276  2.440139 -0.132870  \n",
       "322325 -0.557821  0.661759 -0.003035  0.145586 -0.55276 -0.556392 -0.557438  \n",
       "\n",
       "[322326 rows x 311 columns]"
      ]
     },
     "execution_count": 30,
     "metadata": {},
     "output_type": "execute_result"
    }
   ],
   "source": [
    "x_train_SMOTE = pd.DataFrame(x_train_SMOTE)\n",
    "x_train_SMOTE"
   ]
  },
  {
   "cell_type": "code",
   "execution_count": 31,
   "id": "5af920d6",
   "metadata": {},
   "outputs": [
    {
     "data": {
      "text/html": [
       "<div>\n",
       "<style scoped>\n",
       "    .dataframe tbody tr th:only-of-type {\n",
       "        vertical-align: middle;\n",
       "    }\n",
       "\n",
       "    .dataframe tbody tr th {\n",
       "        vertical-align: top;\n",
       "    }\n",
       "\n",
       "    .dataframe thead th {\n",
       "        text-align: right;\n",
       "    }\n",
       "</style>\n",
       "<table border=\"1\" class=\"dataframe\">\n",
       "  <thead>\n",
       "    <tr style=\"text-align: right;\">\n",
       "      <th></th>\n",
       "      <th>TARGET</th>\n",
       "    </tr>\n",
       "  </thead>\n",
       "  <tbody>\n",
       "    <tr>\n",
       "      <th>0</th>\n",
       "      <td>0</td>\n",
       "    </tr>\n",
       "    <tr>\n",
       "      <th>1</th>\n",
       "      <td>0</td>\n",
       "    </tr>\n",
       "    <tr>\n",
       "      <th>2</th>\n",
       "      <td>0</td>\n",
       "    </tr>\n",
       "    <tr>\n",
       "      <th>3</th>\n",
       "      <td>0</td>\n",
       "    </tr>\n",
       "    <tr>\n",
       "      <th>4</th>\n",
       "      <td>0</td>\n",
       "    </tr>\n",
       "    <tr>\n",
       "      <th>...</th>\n",
       "      <td>...</td>\n",
       "    </tr>\n",
       "    <tr>\n",
       "      <th>322321</th>\n",
       "      <td>1</td>\n",
       "    </tr>\n",
       "    <tr>\n",
       "      <th>322322</th>\n",
       "      <td>1</td>\n",
       "    </tr>\n",
       "    <tr>\n",
       "      <th>322323</th>\n",
       "      <td>1</td>\n",
       "    </tr>\n",
       "    <tr>\n",
       "      <th>322324</th>\n",
       "      <td>1</td>\n",
       "    </tr>\n",
       "    <tr>\n",
       "      <th>322325</th>\n",
       "      <td>1</td>\n",
       "    </tr>\n",
       "  </tbody>\n",
       "</table>\n",
       "<p>322326 rows × 1 columns</p>\n",
       "</div>"
      ],
      "text/plain": [
       "        TARGET\n",
       "0            0\n",
       "1            0\n",
       "2            0\n",
       "3            0\n",
       "4            0\n",
       "...        ...\n",
       "322321       1\n",
       "322322       1\n",
       "322323       1\n",
       "322324       1\n",
       "322325       1\n",
       "\n",
       "[322326 rows x 1 columns]"
      ]
     },
     "execution_count": 31,
     "metadata": {},
     "output_type": "execute_result"
    }
   ],
   "source": [
    "y_train_SMOTE = pd.DataFrame(y_train_SMOTE)\n",
    "y_train_SMOTE"
   ]
  },
  {
   "cell_type": "code",
   "execution_count": null,
   "id": "ca6f5701",
   "metadata": {},
   "outputs": [],
   "source": [
    "#Train / validation split\n",
    "x_train_SMOTE,x_train_SMOTE,x_val_SMOTE,y_val_SMOTE = train_test_split(x_train_Sur,y_train_Sur,\n",
    "                                                                         test_size = 0.3,random_state=0)"
   ]
  },
  {
   "cell_type": "code",
   "execution_count": 49,
   "id": "8cdac0b4",
   "metadata": {},
   "outputs": [
    {
     "name": "stderr",
     "output_type": "stream",
     "text": [
      "  0%|          | 0/1 [00:00<?, ?it/s]A column-vector y was passed when a 1d array was expected. Please change the shape of y to (n_samples, ), for example using ravel().\n",
      "A column-vector y was passed when a 1d array was expected. Please change the shape of y to (n_samples, ), for example using ravel().\n",
      "A column-vector y was passed when a 1d array was expected. Please change the shape of y to (n_samples, ), for example using ravel().\n",
      "A column-vector y was passed when a 1d array was expected. Please change the shape of y to (n_samples, ), for example using ravel().\n",
      "A column-vector y was passed when a 1d array was expected. Please change the shape of y to (n_samples, ), for example using ravel().\n"
     ]
    },
    {
     "name": "stdout",
     "output_type": "stream",
     "text": [
      "              precision    recall  f1-score   support\n",
      "\n",
      "           0       0.74      0.71      0.72     32232\n",
      "           1       0.72      0.75      0.74     32233\n",
      "\n",
      "    accuracy                           0.73     64465\n",
      "   macro avg       0.73      0.73      0.73     64465\n",
      "weighted avg       0.73      0.73      0.73     64465\n",
      "\n"
     ]
    },
    {
     "data": {
      "image/png": "[encoded data removed]",
      "text/plain": [
       "<Figure size 432x288 with 2 Axes>"
      ]
     },
     "metadata": {
      "needs_background": "light"
     },
     "output_type": "display_data"
    },
    {
     "name": "stderr",
     "output_type": "stream",
     "text": [
      "  0%|          | 0/1 [02:14<?, ?it/s]\n"
     ]
    }
   ],
   "source": [
    "benchmarck_stratkfold(x_train_SMOTE, y_train_SMOTE)"
   ]
  },
  {
   "cell_type": "code",
   "execution_count": 50,
   "id": "fe51922e",
   "metadata": {},
   "outputs": [
    {
     "name": "stdout",
     "output_type": "stream",
     "text": [
      "before oversampling:  Counter({'TARGET': 1})\n",
      "After oversampling:  Counter({'TARGET': 1})\n",
      "before undersampling:  Counter({'TARGET': 1})\n",
      "After undersampling:  Counter({'TARGET': 1})\n"
     ]
    }
   ],
   "source": [
    "#sur et sous echantillonage 0.5/1\n",
    "\n",
    "x_train_sur_under, y_train_sur_under= sur_sous(x_train, y_train,0.5, 1)"
   ]
  },
  {
   "cell_type": "code",
   "execution_count": 51,
   "id": "43118a98",
   "metadata": {},
   "outputs": [
    {
     "data": {
      "text/html": [
       "<div>\n",
       "<style scoped>\n",
       "    .dataframe tbody tr th:only-of-type {\n",
       "        vertical-align: middle;\n",
       "    }\n",
       "\n",
       "    .dataframe tbody tr th {\n",
       "        vertical-align: top;\n",
       "    }\n",
       "\n",
       "    .dataframe thead th {\n",
       "        text-align: right;\n",
       "    }\n",
       "</style>\n",
       "<table border=\"1\" class=\"dataframe\">\n",
       "  <thead>\n",
       "    <tr style=\"text-align: right;\">\n",
       "      <th></th>\n",
       "      <th>0</th>\n",
       "      <th>1</th>\n",
       "      <th>2</th>\n",
       "      <th>3</th>\n",
       "      <th>4</th>\n",
       "      <th>5</th>\n",
       "      <th>6</th>\n",
       "      <th>7</th>\n",
       "      <th>8</th>\n",
       "      <th>9</th>\n",
       "      <th>...</th>\n",
       "      <th>301</th>\n",
       "      <th>302</th>\n",
       "      <th>303</th>\n",
       "      <th>304</th>\n",
       "      <th>305</th>\n",
       "      <th>306</th>\n",
       "      <th>307</th>\n",
       "      <th>308</th>\n",
       "      <th>309</th>\n",
       "      <th>310</th>\n",
       "    </tr>\n",
       "  </thead>\n",
       "  <tbody>\n",
       "    <tr>\n",
       "      <th>0</th>\n",
       "      <td>0.777261</td>\n",
       "      <td>-0.773726</td>\n",
       "      <td>-0.688326</td>\n",
       "      <td>-1.104429</td>\n",
       "      <td>-2.217768</td>\n",
       "      <td>0.282844</td>\n",
       "      <td>0.006899</td>\n",
       "      <td>-0.566776</td>\n",
       "      <td>0.046159</td>\n",
       "      <td>-0.620002</td>\n",
       "      <td>...</td>\n",
       "      <td>-0.181321</td>\n",
       "      <td>-0.168274</td>\n",
       "      <td>-0.046258</td>\n",
       "      <td>-0.557821</td>\n",
       "      <td>-0.553661</td>\n",
       "      <td>2.400023</td>\n",
       "      <td>0.616355</td>\n",
       "      <td>-0.552760</td>\n",
       "      <td>-0.556392</td>\n",
       "      <td>-0.557438</td>\n",
       "    </tr>\n",
       "    <tr>\n",
       "      <th>1</th>\n",
       "      <td>-1.286569</td>\n",
       "      <td>1.292447</td>\n",
       "      <td>-0.688326</td>\n",
       "      <td>0.655809</td>\n",
       "      <td>0.676906</td>\n",
       "      <td>0.498634</td>\n",
       "      <td>0.006899</td>\n",
       "      <td>-0.566776</td>\n",
       "      <td>0.046159</td>\n",
       "      <td>-0.620002</td>\n",
       "      <td>...</td>\n",
       "      <td>-0.181321</td>\n",
       "      <td>-0.168274</td>\n",
       "      <td>-0.046258</td>\n",
       "      <td>-0.557821</td>\n",
       "      <td>0.868521</td>\n",
       "      <td>0.752009</td>\n",
       "      <td>-0.477806</td>\n",
       "      <td>0.872854</td>\n",
       "      <td>-0.556392</td>\n",
       "      <td>-0.557438</td>\n",
       "    </tr>\n",
       "    <tr>\n",
       "      <th>2</th>\n",
       "      <td>0.777261</td>\n",
       "      <td>-0.773726</td>\n",
       "      <td>-0.688326</td>\n",
       "      <td>0.852392</td>\n",
       "      <td>-0.290138</td>\n",
       "      <td>1.676567</td>\n",
       "      <td>0.006899</td>\n",
       "      <td>1.764364</td>\n",
       "      <td>0.046159</td>\n",
       "      <td>-0.620002</td>\n",
       "      <td>...</td>\n",
       "      <td>-0.181321</td>\n",
       "      <td>-0.168274</td>\n",
       "      <td>-0.046258</td>\n",
       "      <td>-0.557821</td>\n",
       "      <td>-0.553661</td>\n",
       "      <td>-0.566403</td>\n",
       "      <td>-0.477806</td>\n",
       "      <td>-0.552760</td>\n",
       "      <td>3.718775</td>\n",
       "      <td>-0.557438</td>\n",
       "    </tr>\n",
       "    <tr>\n",
       "      <th>3</th>\n",
       "      <td>0.777261</td>\n",
       "      <td>-0.773726</td>\n",
       "      <td>-0.688326</td>\n",
       "      <td>-1.436163</td>\n",
       "      <td>-1.315912</td>\n",
       "      <td>-0.406098</td>\n",
       "      <td>0.006899</td>\n",
       "      <td>1.764364</td>\n",
       "      <td>0.046159</td>\n",
       "      <td>1.612899</td>\n",
       "      <td>...</td>\n",
       "      <td>-0.181321</td>\n",
       "      <td>-0.168274</td>\n",
       "      <td>-0.046258</td>\n",
       "      <td>0.047102</td>\n",
       "      <td>-0.553661</td>\n",
       "      <td>-0.566403</td>\n",
       "      <td>-0.477806</td>\n",
       "      <td>2.502128</td>\n",
       "      <td>-0.556392</td>\n",
       "      <td>0.050944</td>\n",
       "    </tr>\n",
       "    <tr>\n",
       "      <th>4</th>\n",
       "      <td>-1.286569</td>\n",
       "      <td>1.292447</td>\n",
       "      <td>-0.688326</td>\n",
       "      <td>1.822203</td>\n",
       "      <td>1.082172</td>\n",
       "      <td>1.350574</td>\n",
       "      <td>0.006899</td>\n",
       "      <td>-0.566776</td>\n",
       "      <td>0.046159</td>\n",
       "      <td>1.612899</td>\n",
       "      <td>...</td>\n",
       "      <td>-0.181321</td>\n",
       "      <td>-0.168274</td>\n",
       "      <td>-0.046258</td>\n",
       "      <td>1.861872</td>\n",
       "      <td>-0.553661</td>\n",
       "      <td>-0.001369</td>\n",
       "      <td>-0.477806</td>\n",
       "      <td>0.058218</td>\n",
       "      <td>0.054346</td>\n",
       "      <td>-0.557438</td>\n",
       "    </tr>\n",
       "    <tr>\n",
       "      <th>...</th>\n",
       "      <td>...</td>\n",
       "      <td>...</td>\n",
       "      <td>...</td>\n",
       "      <td>...</td>\n",
       "      <td>...</td>\n",
       "      <td>...</td>\n",
       "      <td>...</td>\n",
       "      <td>...</td>\n",
       "      <td>...</td>\n",
       "      <td>...</td>\n",
       "      <td>...</td>\n",
       "      <td>...</td>\n",
       "      <td>...</td>\n",
       "      <td>...</td>\n",
       "      <td>...</td>\n",
       "      <td>...</td>\n",
       "      <td>...</td>\n",
       "      <td>...</td>\n",
       "      <td>...</td>\n",
       "      <td>...</td>\n",
       "      <td>...</td>\n",
       "    </tr>\n",
       "    <tr>\n",
       "      <th>161157</th>\n",
       "      <td>0.777261</td>\n",
       "      <td>-0.773726</td>\n",
       "      <td>-0.688326</td>\n",
       "      <td>-1.135619</td>\n",
       "      <td>0.597587</td>\n",
       "      <td>0.367780</td>\n",
       "      <td>0.006899</td>\n",
       "      <td>-0.566776</td>\n",
       "      <td>0.046159</td>\n",
       "      <td>1.612899</td>\n",
       "      <td>...</td>\n",
       "      <td>-0.181321</td>\n",
       "      <td>-0.168274</td>\n",
       "      <td>-0.046258</td>\n",
       "      <td>0.095830</td>\n",
       "      <td>-0.334127</td>\n",
       "      <td>0.800666</td>\n",
       "      <td>-0.252607</td>\n",
       "      <td>-0.552760</td>\n",
       "      <td>0.921257</td>\n",
       "      <td>-0.338308</td>\n",
       "    </tr>\n",
       "    <tr>\n",
       "      <th>161158</th>\n",
       "      <td>0.777261</td>\n",
       "      <td>1.155701</td>\n",
       "      <td>-0.546618</td>\n",
       "      <td>-0.339647</td>\n",
       "      <td>-1.159692</td>\n",
       "      <td>-0.867711</td>\n",
       "      <td>0.006899</td>\n",
       "      <td>-0.566776</td>\n",
       "      <td>0.046159</td>\n",
       "      <td>-0.620002</td>\n",
       "      <td>...</td>\n",
       "      <td>-0.181321</td>\n",
       "      <td>-0.168274</td>\n",
       "      <td>-0.046258</td>\n",
       "      <td>-0.557821</td>\n",
       "      <td>1.438425</td>\n",
       "      <td>0.356963</td>\n",
       "      <td>0.616355</td>\n",
       "      <td>-0.481996</td>\n",
       "      <td>-0.414919</td>\n",
       "      <td>-0.557438</td>\n",
       "    </tr>\n",
       "    <tr>\n",
       "      <th>161159</th>\n",
       "      <td>-1.286569</td>\n",
       "      <td>-0.773726</td>\n",
       "      <td>1.393842</td>\n",
       "      <td>0.688263</td>\n",
       "      <td>-0.388082</td>\n",
       "      <td>-1.247818</td>\n",
       "      <td>0.006899</td>\n",
       "      <td>1.764364</td>\n",
       "      <td>0.046159</td>\n",
       "      <td>-0.620002</td>\n",
       "      <td>...</td>\n",
       "      <td>-0.181321</td>\n",
       "      <td>-0.168274</td>\n",
       "      <td>-0.046258</td>\n",
       "      <td>-0.166813</td>\n",
       "      <td>0.217497</td>\n",
       "      <td>0.878937</td>\n",
       "      <td>-0.477806</td>\n",
       "      <td>-0.552760</td>\n",
       "      <td>0.594274</td>\n",
       "      <td>-0.164194</td>\n",
       "    </tr>\n",
       "    <tr>\n",
       "      <th>161160</th>\n",
       "      <td>0.777261</td>\n",
       "      <td>-0.773726</td>\n",
       "      <td>-0.688326</td>\n",
       "      <td>0.591525</td>\n",
       "      <td>0.984787</td>\n",
       "      <td>0.120454</td>\n",
       "      <td>0.006899</td>\n",
       "      <td>0.627651</td>\n",
       "      <td>0.046159</td>\n",
       "      <td>-0.620002</td>\n",
       "      <td>...</td>\n",
       "      <td>-0.181321</td>\n",
       "      <td>-0.168274</td>\n",
       "      <td>-0.046258</td>\n",
       "      <td>-0.463489</td>\n",
       "      <td>0.129621</td>\n",
       "      <td>-0.566403</td>\n",
       "      <td>0.534023</td>\n",
       "      <td>0.072883</td>\n",
       "      <td>0.658430</td>\n",
       "      <td>0.106666</td>\n",
       "    </tr>\n",
       "    <tr>\n",
       "      <th>161161</th>\n",
       "      <td>0.777261</td>\n",
       "      <td>-0.678113</td>\n",
       "      <td>1.353720</td>\n",
       "      <td>0.306334</td>\n",
       "      <td>-0.941056</td>\n",
       "      <td>-1.084339</td>\n",
       "      <td>0.006899</td>\n",
       "      <td>-0.458902</td>\n",
       "      <td>0.046159</td>\n",
       "      <td>-0.516674</td>\n",
       "      <td>...</td>\n",
       "      <td>-0.181321</td>\n",
       "      <td>-0.168274</td>\n",
       "      <td>-0.046258</td>\n",
       "      <td>-0.557821</td>\n",
       "      <td>-0.553661</td>\n",
       "      <td>-0.383373</td>\n",
       "      <td>-0.477806</td>\n",
       "      <td>-0.552760</td>\n",
       "      <td>-0.556392</td>\n",
       "      <td>-0.557438</td>\n",
       "    </tr>\n",
       "  </tbody>\n",
       "</table>\n",
       "<p>161162 rows × 311 columns</p>\n",
       "</div>"
      ],
      "text/plain": [
       "             0         1         2         3         4         5         6    \\\n",
       "0       0.777261 -0.773726 -0.688326 -1.104429 -2.217768  0.282844  0.006899   \n",
       "1      -1.286569  1.292447 -0.688326  0.655809  0.676906  0.498634  0.006899   \n",
       "2       0.777261 -0.773726 -0.688326  0.852392 -0.290138  1.676567  0.006899   \n",
       "3       0.777261 -0.773726 -0.688326 -1.436163 -1.315912 -0.406098  0.006899   \n",
       "4      -1.286569  1.292447 -0.688326  1.822203  1.082172  1.350574  0.006899   \n",
       "...          ...       ...       ...       ...       ...       ...       ...   \n",
       "161157  0.777261 -0.773726 -0.688326 -1.135619  0.597587  0.367780  0.006899   \n",
       "161158  0.777261  1.155701 -0.546618 -0.339647 -1.159692 -0.867711  0.006899   \n",
       "161159 -1.286569 -0.773726  1.393842  0.688263 -0.388082 -1.247818  0.006899   \n",
       "161160  0.777261 -0.773726 -0.688326  0.591525  0.984787  0.120454  0.006899   \n",
       "161161  0.777261 -0.678113  1.353720  0.306334 -0.941056 -1.084339  0.006899   \n",
       "\n",
       "             7         8         9    ...       301       302       303  \\\n",
       "0      -0.566776  0.046159 -0.620002  ... -0.181321 -0.168274 -0.046258   \n",
       "1      -0.566776  0.046159 -0.620002  ... -0.181321 -0.168274 -0.046258   \n",
       "2       1.764364  0.046159 -0.620002  ... -0.181321 -0.168274 -0.046258   \n",
       "3       1.764364  0.046159  1.612899  ... -0.181321 -0.168274 -0.046258   \n",
       "4      -0.566776  0.046159  1.612899  ... -0.181321 -0.168274 -0.046258   \n",
       "...          ...       ...       ...  ...       ...       ...       ...   \n",
       "161157 -0.566776  0.046159  1.612899  ... -0.181321 -0.168274 -0.046258   \n",
       "161158 -0.566776  0.046159 -0.620002  ... -0.181321 -0.168274 -0.046258   \n",
       "161159  1.764364  0.046159 -0.620002  ... -0.181321 -0.168274 -0.046258   \n",
       "161160  0.627651  0.046159 -0.620002  ... -0.181321 -0.168274 -0.046258   \n",
       "161161 -0.458902  0.046159 -0.516674  ... -0.181321 -0.168274 -0.046258   \n",
       "\n",
       "             304       305       306       307       308       309       310  \n",
       "0      -0.557821 -0.553661  2.400023  0.616355 -0.552760 -0.556392 -0.557438  \n",
       "1      -0.557821  0.868521  0.752009 -0.477806  0.872854 -0.556392 -0.557438  \n",
       "2      -0.557821 -0.553661 -0.566403 -0.477806 -0.552760  3.718775 -0.557438  \n",
       "3       0.047102 -0.553661 -0.566403 -0.477806  2.502128 -0.556392  0.050944  \n",
       "4       1.861872 -0.553661 -0.001369 -0.477806  0.058218  0.054346 -0.557438  \n",
       "...          ...       ...       ...       ...       ...       ...       ...  \n",
       "161157  0.095830 -0.334127  0.800666 -0.252607 -0.552760  0.921257 -0.338308  \n",
       "161158 -0.557821  1.438425  0.356963  0.616355 -0.481996 -0.414919 -0.557438  \n",
       "161159 -0.166813  0.217497  0.878937 -0.477806 -0.552760  0.594274 -0.164194  \n",
       "161160 -0.463489  0.129621 -0.566403  0.534023  0.072883  0.658430  0.106666  \n",
       "161161 -0.557821 -0.553661 -0.383373 -0.477806 -0.552760 -0.556392 -0.557438  \n",
       "\n",
       "[161162 rows x 311 columns]"
      ]
     },
     "execution_count": 51,
     "metadata": {},
     "output_type": "execute_result"
    }
   ],
   "source": [
    "x_train_sur_under"
   ]
  },
  {
   "cell_type": "code",
   "execution_count": 52,
   "id": "5aca3a52",
   "metadata": {},
   "outputs": [
    {
     "data": {
      "text/html": [
       "<div>\n",
       "<style scoped>\n",
       "    .dataframe tbody tr th:only-of-type {\n",
       "        vertical-align: middle;\n",
       "    }\n",
       "\n",
       "    .dataframe tbody tr th {\n",
       "        vertical-align: top;\n",
       "    }\n",
       "\n",
       "    .dataframe thead th {\n",
       "        text-align: right;\n",
       "    }\n",
       "</style>\n",
       "<table border=\"1\" class=\"dataframe\">\n",
       "  <thead>\n",
       "    <tr style=\"text-align: right;\">\n",
       "      <th></th>\n",
       "      <th>TARGET</th>\n",
       "    </tr>\n",
       "  </thead>\n",
       "  <tbody>\n",
       "    <tr>\n",
       "      <th>0</th>\n",
       "      <td>0</td>\n",
       "    </tr>\n",
       "    <tr>\n",
       "      <th>1</th>\n",
       "      <td>0</td>\n",
       "    </tr>\n",
       "    <tr>\n",
       "      <th>2</th>\n",
       "      <td>0</td>\n",
       "    </tr>\n",
       "    <tr>\n",
       "      <th>3</th>\n",
       "      <td>0</td>\n",
       "    </tr>\n",
       "    <tr>\n",
       "      <th>4</th>\n",
       "      <td>0</td>\n",
       "    </tr>\n",
       "    <tr>\n",
       "      <th>...</th>\n",
       "      <td>...</td>\n",
       "    </tr>\n",
       "    <tr>\n",
       "      <th>161157</th>\n",
       "      <td>1</td>\n",
       "    </tr>\n",
       "    <tr>\n",
       "      <th>161158</th>\n",
       "      <td>1</td>\n",
       "    </tr>\n",
       "    <tr>\n",
       "      <th>161159</th>\n",
       "      <td>1</td>\n",
       "    </tr>\n",
       "    <tr>\n",
       "      <th>161160</th>\n",
       "      <td>1</td>\n",
       "    </tr>\n",
       "    <tr>\n",
       "      <th>161161</th>\n",
       "      <td>1</td>\n",
       "    </tr>\n",
       "  </tbody>\n",
       "</table>\n",
       "<p>161162 rows × 1 columns</p>\n",
       "</div>"
      ],
      "text/plain": [
       "        TARGET\n",
       "0            0\n",
       "1            0\n",
       "2            0\n",
       "3            0\n",
       "4            0\n",
       "...        ...\n",
       "161157       1\n",
       "161158       1\n",
       "161159       1\n",
       "161160       1\n",
       "161161       1\n",
       "\n",
       "[161162 rows x 1 columns]"
      ]
     },
     "execution_count": 52,
     "metadata": {},
     "output_type": "execute_result"
    }
   ],
   "source": [
    "y_train_sur_under"
   ]
  },
  {
   "cell_type": "code",
   "execution_count": 53,
   "id": "ad3d599a",
   "metadata": {},
   "outputs": [
    {
     "name": "stderr",
     "output_type": "stream",
     "text": [
      "  0%|          | 0/1 [00:00<?, ?it/s]A column-vector y was passed when a 1d array was expected. Please change the shape of y to (n_samples, ), for example using ravel().\n",
      "A column-vector y was passed when a 1d array was expected. Please change the shape of y to (n_samples, ), for example using ravel().\n",
      "A column-vector y was passed when a 1d array was expected. Please change the shape of y to (n_samples, ), for example using ravel().\n",
      "A column-vector y was passed when a 1d array was expected. Please change the shape of y to (n_samples, ), for example using ravel().\n",
      "A column-vector y was passed when a 1d array was expected. Please change the shape of y to (n_samples, ), for example using ravel().\n"
     ]
    },
    {
     "name": "stdout",
     "output_type": "stream",
     "text": [
      "              precision    recall  f1-score   support\n",
      "\n",
      "           0       0.73      0.70      0.72     16116\n",
      "           1       0.71      0.74      0.73     16116\n",
      "\n",
      "    accuracy                           0.72     32232\n",
      "   macro avg       0.72      0.72      0.72     32232\n",
      "weighted avg       0.72      0.72      0.72     32232\n",
      "\n"
     ]
    },
    {
     "data": {
      "image/png": "[encoded data removed]",
      "text/plain": [
       "<Figure size 432x288 with 2 Axes>"
      ]
     },
     "metadata": {
      "needs_background": "light"
     },
     "output_type": "display_data"
    },
    {
     "name": "stderr",
     "output_type": "stream",
     "text": [
      "  0%|          | 0/1 [01:01<?, ?it/s]\n"
     ]
    }
   ],
   "source": [
    "benchmarck_stratkfold(x_train_sur_under, y_train_sur_under)"
   ]
  },
  {
   "cell_type": "code",
   "execution_count": 54,
   "id": "fe1f1368",
   "metadata": {},
   "outputs": [
    {
     "name": "stdout",
     "output_type": "stream",
     "text": [
      "before oversampling:  Counter({'TARGET': 1})\n",
      "After oversampling:  Counter({'TARGET': 1})\n",
      "before undersampling:  Counter({'TARGET': 1})\n",
      "After undersampling:  Counter({'TARGET': 1})\n"
     ]
    }
   ],
   "source": [
    "#sur et sous echantillonage 0.3/1\n",
    "\n",
    "x_train_sur_under2, y_train_sur_under2= sur_sous(x_train, y_train,0.3, 1)"
   ]
  },
  {
   "cell_type": "code",
   "execution_count": 55,
   "id": "d0eba8af",
   "metadata": {},
   "outputs": [
    {
     "name": "stderr",
     "output_type": "stream",
     "text": [
      "  0%|          | 0/1 [00:00<?, ?it/s]A column-vector y was passed when a 1d array was expected. Please change the shape of y to (n_samples, ), for example using ravel().\n",
      "A column-vector y was passed when a 1d array was expected. Please change the shape of y to (n_samples, ), for example using ravel().\n",
      "A column-vector y was passed when a 1d array was expected. Please change the shape of y to (n_samples, ), for example using ravel().\n",
      "A column-vector y was passed when a 1d array was expected. Please change the shape of y to (n_samples, ), for example using ravel().\n",
      "A column-vector y was passed when a 1d array was expected. Please change the shape of y to (n_samples, ), for example using ravel().\n"
     ]
    },
    {
     "name": "stdout",
     "output_type": "stream",
     "text": [
      "              precision    recall  f1-score   support\n",
      "\n",
      "           0       0.74      0.70      0.72      9669\n",
      "           1       0.72      0.75      0.73      9670\n",
      "\n",
      "    accuracy                           0.73     19339\n",
      "   macro avg       0.73      0.73      0.73     19339\n",
      "weighted avg       0.73      0.73      0.73     19339\n",
      "\n"
     ]
    },
    {
     "data": {
      "image/png": "[encoded data removed]",
      "text/plain": [
       "<Figure size 432x288 with 2 Axes>"
      ]
     },
     "metadata": {
      "needs_background": "light"
     },
     "output_type": "display_data"
    },
    {
     "name": "stderr",
     "output_type": "stream",
     "text": [
      "  0%|          | 0/1 [00:34<?, ?it/s]\n"
     ]
    }
   ],
   "source": [
    "benchmarck_stratkfold(x_train_sur_under2, y_train_sur_under2)"
   ]
  },
  {
   "cell_type": "code",
   "execution_count": 56,
   "id": "e9287726",
   "metadata": {},
   "outputs": [
    {
     "name": "stdout",
     "output_type": "stream",
     "text": [
      "before oversampling:  Counter({'TARGET': 1})\n",
      "After oversampling:  Counter({'TARGET': 1})\n",
      "before undersampling:  Counter({'TARGET': 1})\n",
      "After undersampling:  Counter({'TARGET': 1})\n"
     ]
    }
   ],
   "source": [
    "#sur et sous echantillonage 0.8/1\n",
    "\n",
    "x_train_sur_under3, y_train_sur_under3= sur_sous(x_train, y_train,0.8, 1)"
   ]
  },
  {
   "cell_type": "code",
   "execution_count": 57,
   "id": "b6604746",
   "metadata": {},
   "outputs": [
    {
     "name": "stderr",
     "output_type": "stream",
     "text": [
      "  0%|          | 0/1 [00:00<?, ?it/s]A column-vector y was passed when a 1d array was expected. Please change the shape of y to (n_samples, ), for example using ravel().\n",
      "lbfgs failed to converge (status=1):\n",
      "STOP: TOTAL NO. of ITERATIONS REACHED LIMIT.\n",
      "\n",
      "Increase the number of iterations (max_iter) or scale the data as shown in:\n",
      "    https://scikit-learn.org/stable/modules/preprocessing.html\n",
      "Please also refer to the documentation for alternative solver options:\n",
      "    https://scikit-learn.org/stable/modules/linear_model.html#logistic-regression\n",
      "A column-vector y was passed when a 1d array was expected. Please change the shape of y to (n_samples, ), for example using ravel().\n",
      "A column-vector y was passed when a 1d array was expected. Please change the shape of y to (n_samples, ), for example using ravel().\n",
      "A column-vector y was passed when a 1d array was expected. Please change the shape of y to (n_samples, ), for example using ravel().\n",
      "A column-vector y was passed when a 1d array was expected. Please change the shape of y to (n_samples, ), for example using ravel().\n"
     ]
    },
    {
     "name": "stdout",
     "output_type": "stream",
     "text": [
      "              precision    recall  f1-score   support\n",
      "\n",
      "           0       0.74      0.71      0.72     25786\n",
      "           1       0.72      0.75      0.73     25786\n",
      "\n",
      "    accuracy                           0.73     51572\n",
      "   macro avg       0.73      0.73      0.73     51572\n",
      "weighted avg       0.73      0.73      0.73     51572\n",
      "\n"
     ]
    },
    {
     "data": {
      "image/png": "[encoded data removed]",
      "text/plain": [
       "<Figure size 432x288 with 2 Axes>"
      ]
     },
     "metadata": {
      "needs_background": "light"
     },
     "output_type": "display_data"
    },
    {
     "name": "stderr",
     "output_type": "stream",
     "text": [
      "  0%|          | 0/1 [01:47<?, ?it/s]\n"
     ]
    }
   ],
   "source": [
    "benchmarck_stratkfold(x_train_sur_under3, y_train_sur_under3)"
   ]
  },
  {
   "cell_type": "code",
   "execution_count": 58,
   "id": "2a0de01f",
   "metadata": {},
   "outputs": [],
   "source": [
    "#metrics et matrice de confusion : https://www.aquiladata.fr/insights/comment-gerer-le-desequilibre-des-classes-dans-un-jeu-de-donnees/"
   ]
  },
  {
   "cell_type": "markdown",
   "id": "cef80ffd",
   "metadata": {},
   "source": [
    "# Tous les modèles \n",
    "On choisi le surechantillonage avec un straified kflod"
   ]
  },
  {
   "cell_type": "markdown",
   "id": "029dc3c9",
   "metadata": {},
   "source": [
    "## Stratified kfold"
   ]
  },
  {
   "cell_type": "code",
   "execution_count": 59,
   "id": "cb388f6e",
   "metadata": {},
   "outputs": [],
   "source": [
    "import inspect \n",
    "from sklearn.naive_bayes import ComplementNB "
   ]
  },
  {
   "cell_type": "code",
   "execution_count": 60,
   "id": "be88b308",
   "metadata": {},
   "outputs": [
    {
     "data": {
      "text/plain": [
       "\"def benchmarck_stratkfold(x_train, y_train):\\n    skf = StratifiedKFold(n_splits=5)\\n    modeles ={'lr' : LogisticRegression(solver='lbfgs', max_iter=500)}\\n#'gaussianNB': GaussianNB(),#'KNClassifier ' : KNeighborsClassifier(), #'RandomForest ' : RandomForestClassifier()\\n    \\n    with tqdm(total=len(modeles)) as pbar: #barre pour le temps d'execution\\n                \\n        for cle, valeur in modeles.items(): \\n            for train_index, valid_index in skf.split(x_train, y_train):\\n\\n                x_train_strat, x_val_strat  = x_train.iloc[train_index], x_train.iloc[valid_index]\\n                y_train_strat, y_val_strat  = y_train.iloc[train_index], y_train.iloc[valid_index]\\n                             \\n                valeur.fit(x_train_strat, y_train_strat)\\n                y_pred = valeur.predict(x_val_strat)\\n                cnf_matrix = metrics.confusion_matrix(y_val_strat, y_pred)\\n                disp = ConfusionMatrixDisplay(confusion_matrix=cnf_matrix, display_labels=valeur.classes_)\\n                results = classification_report(y_val_strat, y_pred, labels=[0,1])\\n                #N, train_score, val_score, =learning_curve(valeur, x_train, cv=4 ,scoring='f1', train_sizes=np.linspace(0.1,1,10)) #utilise la cross validation\\n                #moyenne des results , ne pas ecraser result\\n            print(results)\\n            disp.plot()\\n            plt.show()\\n                #plt.plot(N, train_score.mean(axis=1), label='train_score')\\n                #plt.plot(N, val_score.mean(axis=1), label='validation_score')\\n                #plt.legend()\\n            pbar.update\\n\\n    #result = pd.DataFrame({'modele': modeles.values() , 'cnf_matrix':cnf_matrixs , 'cross_val':cross_vals})\\n    #return(result)\\n\""
      ]
     },
     "execution_count": 60,
     "metadata": {},
     "output_type": "execute_result"
    }
   ],
   "source": [
    "inspect.getsource(benchmarck_stratkfold)"
   ]
  },
  {
   "cell_type": "code",
   "execution_count": 31,
   "id": "66f099b2",
   "metadata": {},
   "outputs": [],
   "source": [
    "#'ComplementNB':ComplementNB() , \n",
    "def benchmarck_stratkfold(x_train, y_train):\n",
    "    skf = StratifiedKFold(n_splits=5,random_state = 23, shuffle=True)\n",
    "    modeles ={'lr' : LogisticRegression(max_iter=500),\n",
    "              'gaussianNB': GaussianNB(),\n",
    "              'KNClassifier ' : KNeighborsClassifier(),\n",
    "              'RandomForest ' : RandomForestClassifier(n_estimators=50, max_depth=5),\n",
    "              #'SVM': SVC(kernel='rbf'),\n",
    "              'Gboost' : GradientBoostingClassifier()}\n",
    "    \n",
    "    with tqdm(total=len(modeles)*5) as pbar: #barre pour le temps d'execution\n",
    "        \n",
    "        for model_name, model_func in modeles.items():\n",
    "            print(model_name)\n",
    "            \n",
    "            for train_index, valid_index in skf.split(x_train, y_train):\n",
    "                \n",
    "                x_train_strat, x_val_strat  = x_train.iloc[train_index], x_train.iloc[valid_index]\n",
    "                y_train_strat, y_val_strat  = y_train.iloc[train_index], y_train.iloc[valid_index]\n",
    "                \n",
    "                #adaptation de la stratégie de rééchantillonage \n",
    "                x_train_strat_SMOTE, y_train_strat_SMOTE = sur_ech(x_train_strat, y_train_strat)\n",
    "                \n",
    "                #model= model_func()\n",
    "                model_func.fit(x_train_strat_SMOTE, np.ravel(y_train_strat_SMOTE))\n",
    "                y_pred = model_func.predict(x_val_strat)\n",
    "                cnf_matrix = metrics.confusion_matrix(y_val_strat, y_pred)\n",
    "                disp = ConfusionMatrixDisplay(confusion_matrix=cnf_matrix, display_labels=model_func.classes_)\n",
    "                results = classification_report(y_val_strat, y_pred, labels=[0,1])\n",
    "                #N, train_score, val_score = learning_curve(valeur, x_train, y_train,\n",
    "                #cv=4, scoring='f1', train_sizes=np.linspace(0.1, 1, 10))\n",
    "                pbar.update() \n",
    "                \n",
    "            print(results)\n",
    "            disp.plot()\n",
    "            plt.show()\n",
    "            #plt.figure(figsize=(12, 8))\n",
    "            #plt.plot(N, train_score.mean(axis=1), label='train_score')\n",
    "            #plt.plot(N, val_score.mean(axis=1), label='validation_score')\n",
    "            #plt.legend()\n",
    "             \n"
   ]
  },
  {
   "cell_type": "code",
   "execution_count": 34,
   "id": "c570f8b7",
   "metadata": {
    "scrolled": false
   },
   "outputs": [
    {
     "name": "stderr",
     "output_type": "stream",
     "text": [
      "\r",
      "  0%|          | 0/25 [00:00<?, ?it/s]"
     ]
    },
    {
     "name": "stdout",
     "output_type": "stream",
     "text": [
      "lr\n",
      "Before oversampling:  Counter({'TARGET': 1})\n",
      "After oversampling:  Counter({'TARGET': 1})\n"
     ]
    },
    {
     "name": "stderr",
     "output_type": "stream",
     "text": [
      "\r",
      "  4%|▍         | 1/25 [00:31<12:45, 31.89s/it]"
     ]
    },
    {
     "name": "stdout",
     "output_type": "stream",
     "text": [
      "Before oversampling:  Counter({'TARGET': 1})\n",
      "After oversampling:  Counter({'TARGET': 1})\n"
     ]
    },
    {
     "name": "stderr",
     "output_type": "stream",
     "text": [
      "\r",
      "  8%|▊         | 2/25 [01:01<11:37, 30.32s/it]"
     ]
    },
    {
     "name": "stdout",
     "output_type": "stream",
     "text": [
      "Before oversampling:  Counter({'TARGET': 1})\n",
      "After oversampling:  Counter({'TARGET': 1})\n"
     ]
    },
    {
     "name": "stderr",
     "output_type": "stream",
     "text": [
      "C:\\Users\\kalin\\anaconda3\\envs\\OCR5\\lib\\site-packages\\sklearn\\linear_model\\_logistic.py:763: ConvergenceWarning: lbfgs failed to converge (status=1):\n",
      "STOP: TOTAL NO. of ITERATIONS REACHED LIMIT.\n",
      "\n",
      "Increase the number of iterations (max_iter) or scale the data as shown in:\n",
      "    https://scikit-learn.org/stable/modules/preprocessing.html\n",
      "Please also refer to the documentation for alternative solver options:\n",
      "    https://scikit-learn.org/stable/modules/linear_model.html#logistic-regression\n",
      "  n_iter_i = _check_optimize_result(\n",
      "\r",
      " 12%|█▏        | 3/25 [01:49<14:05, 38.43s/it]"
     ]
    },
    {
     "name": "stdout",
     "output_type": "stream",
     "text": [
      "Before oversampling:  Counter({'TARGET': 1})\n",
      "After oversampling:  Counter({'TARGET': 1})\n"
     ]
    },
    {
     "name": "stderr",
     "output_type": "stream",
     "text": [
      "\r",
      " 16%|█▌        | 4/25 [02:24<12:58, 37.05s/it]"
     ]
    },
    {
     "name": "stdout",
     "output_type": "stream",
     "text": [
      "Before oversampling:  Counter({'TARGET': 1})\n",
      "After oversampling:  Counter({'TARGET': 1})\n"
     ]
    },
    {
     "name": "stderr",
     "output_type": "stream",
     "text": [
      "\r",
      " 20%|██        | 5/25 [03:04<12:46, 38.32s/it]"
     ]
    },
    {
     "name": "stdout",
     "output_type": "stream",
     "text": [
      "              precision    recall  f1-score   support\n",
      "\n",
      "           0       0.95      0.71      0.82     32232\n",
      "           1       0.17      0.63      0.27      3062\n",
      "\n",
      "    accuracy                           0.71     35294\n",
      "   macro avg       0.56      0.67      0.54     35294\n",
      "weighted avg       0.89      0.71      0.77     35294\n",
      "\n"
     ]
    },
    {
     "data": {
      "image/png": "[encoded data removed]",
      "text/plain": [
       "<Figure size 432x288 with 2 Axes>"
      ]
     },
     "metadata": {
      "needs_background": "light"
     },
     "output_type": "display_data"
    },
    {
     "name": "stdout",
     "output_type": "stream",
     "text": [
      "gaussianNB\n",
      "Before oversampling:  Counter({'TARGET': 1})\n",
      "After oversampling:  Counter({'TARGET': 1})\n"
     ]
    },
    {
     "name": "stderr",
     "output_type": "stream",
     "text": [
      "\r",
      " 24%|██▍       | 6/25 [03:14<09:03, 28.60s/it]"
     ]
    },
    {
     "name": "stdout",
     "output_type": "stream",
     "text": [
      "Before oversampling:  Counter({'TARGET': 1})\n",
      "After oversampling:  Counter({'TARGET': 1})\n"
     ]
    },
    {
     "name": "stderr",
     "output_type": "stream",
     "text": [
      "\r",
      " 28%|██▊       | 7/25 [03:22<06:35, 21.95s/it]"
     ]
    },
    {
     "name": "stdout",
     "output_type": "stream",
     "text": [
      "Before oversampling:  Counter({'TARGET': 1})\n",
      "After oversampling:  Counter({'TARGET': 1})\n"
     ]
    },
    {
     "name": "stderr",
     "output_type": "stream",
     "text": [
      "\r",
      " 32%|███▏      | 8/25 [03:30<04:58, 17.54s/it]"
     ]
    },
    {
     "name": "stdout",
     "output_type": "stream",
     "text": [
      "Before oversampling:  Counter({'TARGET': 1})\n",
      "After oversampling:  Counter({'TARGET': 1})\n"
     ]
    },
    {
     "name": "stderr",
     "output_type": "stream",
     "text": [
      "\r",
      " 36%|███▌      | 9/25 [03:39<03:56, 14.75s/it]"
     ]
    },
    {
     "name": "stdout",
     "output_type": "stream",
     "text": [
      "Before oversampling:  Counter({'TARGET': 1})\n",
      "After oversampling:  Counter({'TARGET': 1})\n"
     ]
    },
    {
     "name": "stderr",
     "output_type": "stream",
     "text": [
      "\r",
      " 40%|████      | 10/25 [03:48<03:13, 12.93s/it]"
     ]
    },
    {
     "name": "stdout",
     "output_type": "stream",
     "text": [
      "              precision    recall  f1-score   support\n",
      "\n",
      "           0       0.94      0.13      0.22     32232\n",
      "           1       0.09      0.92      0.17      3062\n",
      "\n",
      "    accuracy                           0.20     35294\n",
      "   macro avg       0.52      0.52      0.19     35294\n",
      "weighted avg       0.87      0.20      0.22     35294\n",
      "\n"
     ]
    },
    {
     "data": {
      "image/png": "[encoded data removed]",
      "text/plain": [
       "<Figure size 432x288 with 2 Axes>"
      ]
     },
     "metadata": {
      "needs_background": "light"
     },
     "output_type": "display_data"
    },
    {
     "name": "stdout",
     "output_type": "stream",
     "text": [
      "KNClassifier \n",
      "Before oversampling:  Counter({'TARGET': 1})\n",
      "After oversampling:  Counter({'TARGET': 1})\n"
     ]
    },
    {
     "name": "stderr",
     "output_type": "stream",
     "text": [
      "\r",
      " 44%|████▍     | 11/25 [08:19<21:25, 91.85s/it]"
     ]
    },
    {
     "name": "stdout",
     "output_type": "stream",
     "text": [
      "Before oversampling:  Counter({'TARGET': 1})\n",
      "After oversampling:  Counter({'TARGET': 1})\n"
     ]
    },
    {
     "name": "stderr",
     "output_type": "stream",
     "text": [
      "\r",
      " 48%|████▊     | 12/25 [12:35<30:45, 141.95s/it]"
     ]
    },
    {
     "name": "stdout",
     "output_type": "stream",
     "text": [
      "Before oversampling:  Counter({'TARGET': 1})\n",
      "After oversampling:  Counter({'TARGET': 1})\n"
     ]
    },
    {
     "name": "stderr",
     "output_type": "stream",
     "text": [
      "\r",
      " 52%|█████▏    | 13/25 [16:58<35:42, 178.54s/it]"
     ]
    },
    {
     "name": "stdout",
     "output_type": "stream",
     "text": [
      "Before oversampling:  Counter({'TARGET': 1})\n",
      "After oversampling:  Counter({'TARGET': 1})\n"
     ]
    },
    {
     "name": "stderr",
     "output_type": "stream",
     "text": [
      "\r",
      " 56%|█████▌    | 14/25 [21:03<36:24, 198.62s/it]"
     ]
    },
    {
     "name": "stdout",
     "output_type": "stream",
     "text": [
      "Before oversampling:  Counter({'TARGET': 1})\n",
      "After oversampling:  Counter({'TARGET': 1})\n"
     ]
    },
    {
     "name": "stderr",
     "output_type": "stream",
     "text": [
      "\r",
      " 60%|██████    | 15/25 [25:35<36:48, 220.86s/it]"
     ]
    },
    {
     "name": "stdout",
     "output_type": "stream",
     "text": [
      "              precision    recall  f1-score   support\n",
      "\n",
      "           0       0.93      0.37      0.53     32232\n",
      "           1       0.10      0.73      0.17      3062\n",
      "\n",
      "    accuracy                           0.40     35294\n",
      "   macro avg       0.52      0.55      0.35     35294\n",
      "weighted avg       0.86      0.40      0.50     35294\n",
      "\n"
     ]
    },
    {
     "data": {
      "image/png": "[encoded data removed]",
      "text/plain": [
       "<Figure size 432x288 with 2 Axes>"
      ]
     },
     "metadata": {
      "needs_background": "light"
     },
     "output_type": "display_data"
    },
    {
     "name": "stdout",
     "output_type": "stream",
     "text": [
      "RandomForest \n",
      "Before oversampling:  Counter({'TARGET': 1})\n",
      "After oversampling:  Counter({'TARGET': 1})\n"
     ]
    },
    {
     "name": "stderr",
     "output_type": "stream",
     "text": [
      "\r",
      " 64%|██████▍   | 16/25 [26:09<24:40, 164.46s/it]"
     ]
    },
    {
     "name": "stdout",
     "output_type": "stream",
     "text": [
      "Before oversampling:  Counter({'TARGET': 1})\n",
      "After oversampling:  Counter({'TARGET': 1})\n"
     ]
    },
    {
     "name": "stderr",
     "output_type": "stream",
     "text": [
      "\r",
      " 68%|██████▊   | 17/25 [26:41<16:38, 124.81s/it]"
     ]
    },
    {
     "name": "stdout",
     "output_type": "stream",
     "text": [
      "Before oversampling:  Counter({'TARGET': 1})\n",
      "After oversampling:  Counter({'TARGET': 1})\n"
     ]
    },
    {
     "name": "stderr",
     "output_type": "stream",
     "text": [
      "\r",
      " 72%|███████▏  | 18/25 [27:14<11:19, 97.08s/it] "
     ]
    },
    {
     "name": "stdout",
     "output_type": "stream",
     "text": [
      "Before oversampling:  Counter({'TARGET': 1})\n",
      "After oversampling:  Counter({'TARGET': 1})\n"
     ]
    },
    {
     "name": "stderr",
     "output_type": "stream",
     "text": [
      "\r",
      " 76%|███████▌  | 19/25 [27:47<07:46, 77.77s/it]"
     ]
    },
    {
     "name": "stdout",
     "output_type": "stream",
     "text": [
      "Before oversampling:  Counter({'TARGET': 1})\n",
      "After oversampling:  Counter({'TARGET': 1})\n"
     ]
    },
    {
     "name": "stderr",
     "output_type": "stream",
     "text": [
      "\r",
      " 80%|████████  | 20/25 [28:20<05:22, 64.47s/it]"
     ]
    },
    {
     "name": "stdout",
     "output_type": "stream",
     "text": [
      "              precision    recall  f1-score   support\n",
      "\n",
      "           0       0.93      0.82      0.87     32232\n",
      "           1       0.15      0.34      0.21      3062\n",
      "\n",
      "    accuracy                           0.78     35294\n",
      "   macro avg       0.54      0.58      0.54     35294\n",
      "weighted avg       0.86      0.78      0.81     35294\n",
      "\n"
     ]
    },
    {
     "data": {
      "image/png": "[encoded data removed]",
      "text/plain": [
       "<Figure size 432x288 with 2 Axes>"
      ]
     },
     "metadata": {
      "needs_background": "light"
     },
     "output_type": "display_data"
    },
    {
     "name": "stdout",
     "output_type": "stream",
     "text": [
      "Gboost\n",
      "Before oversampling:  Counter({'TARGET': 1})\n",
      "After oversampling:  Counter({'TARGET': 1})\n"
     ]
    },
    {
     "name": "stderr",
     "output_type": "stream",
     "text": [
      "\r",
      " 84%|████████▍ | 21/25 [40:57<18:09, 272.45s/it]"
     ]
    },
    {
     "name": "stdout",
     "output_type": "stream",
     "text": [
      "Before oversampling:  Counter({'TARGET': 1})\n",
      "After oversampling:  Counter({'TARGET': 1})\n"
     ]
    },
    {
     "name": "stderr",
     "output_type": "stream",
     "text": [
      "\r",
      " 88%|████████▊ | 22/25 [55:40<22:46, 455.50s/it]"
     ]
    },
    {
     "name": "stdout",
     "output_type": "stream",
     "text": [
      "Before oversampling:  Counter({'TARGET': 1})\n",
      "After oversampling:  Counter({'TARGET': 1})\n"
     ]
    },
    {
     "name": "stderr",
     "output_type": "stream",
     "text": [
      "\r",
      " 92%|█████████▏| 23/25 [1:08:30<18:19, 549.82s/it]"
     ]
    },
    {
     "name": "stdout",
     "output_type": "stream",
     "text": [
      "Before oversampling:  Counter({'TARGET': 1})\n",
      "After oversampling:  Counter({'TARGET': 1})\n"
     ]
    },
    {
     "name": "stderr",
     "output_type": "stream",
     "text": [
      "\r",
      " 96%|█████████▌| 24/25 [1:20:24<09:59, 599.21s/it]"
     ]
    },
    {
     "name": "stdout",
     "output_type": "stream",
     "text": [
      "Before oversampling:  Counter({'TARGET': 1})\n",
      "After oversampling:  Counter({'TARGET': 1})\n"
     ]
    },
    {
     "name": "stderr",
     "output_type": "stream",
     "text": [
      "\r",
      "100%|██████████| 25/25 [1:30:22<00:00, 598.70s/it]"
     ]
    },
    {
     "name": "stdout",
     "output_type": "stream",
     "text": [
      "              precision    recall  f1-score   support\n",
      "\n",
      "           0       0.91      1.00      0.95     32232\n",
      "           1       0.38      0.02      0.04      3062\n",
      "\n",
      "    accuracy                           0.91     35294\n",
      "   macro avg       0.65      0.51      0.50     35294\n",
      "weighted avg       0.87      0.91      0.87     35294\n",
      "\n"
     ]
    },
    {
     "data": {
      "image/png": "[encoded data removed]",
      "text/plain": [
       "<Figure size 432x288 with 2 Axes>"
      ]
     },
     "metadata": {
      "needs_background": "light"
     },
     "output_type": "display_data"
    },
    {
     "name": "stderr",
     "output_type": "stream",
     "text": [
      "100%|██████████| 25/25 [1:30:22<00:00, 216.89s/it]\n"
     ]
    }
   ],
   "source": [
    "benchmarck_stratkfold(pd.DataFrame(x_train), pd.DataFrame(y_train))"
   ]
  },
  {
   "cell_type": "markdown",
   "id": "5853abdd",
   "metadata": {},
   "source": [
    "# Grid search\n",
    "How to optimise hyper parameters of a Logistic Regression Model using GridSearchCV in Python\n",
    "https://www.youtube.com/watch?v=eET7kAtE1kw"
   ]
  },
  {
   "cell_type": "code",
   "execution_count": null,
   "id": "82ee0e26",
   "metadata": {},
   "outputs": [],
   "source": [
    "#grid search randomforest \n",
    "\n",
    "rfc=RandomForestClassifier()\n",
    "skf = StratifiedKFold(n_splits=5)\n",
    "param_grid = { \n",
    "'n_estimators': [25, 50, 100],\n",
    "'min_samples_split':[2,4,6], \n",
    "'max_features': ['auto', 'sqrt', 'log2'],\n",
    "'max_depth' : [4,5,10,15],\n",
    "'criterion' :['gini', 'entropy']\n",
    "}\n",
    "    \n",
    "for train_index, valid_index in skf.split(x_train_SMOTE, y_train_SMOTE):\n",
    "\n",
    "    x_train_strat, x_val_strat  = x_train_SMOTE.iloc[train_index], x_train_SMOTE.iloc[valid_index]\n",
    "    y_train_strat, y_val_strat  = y_train_SMOTE.iloc[train_index], y_train_SMOTE.iloc[valid_index]\n",
    "    \n",
    "   \n",
    "    #rfc.fit(x_train_strat,np.ravel(y_train_strat))\n",
    "    gridS=GridSearchCV(rfc,param_grid, cv=5,n_jobs=-1)    \n",
    "    gridS_results=gridS.fit(x_train_strat, np.ravel(y_train_strat))    \n",
    "    y_pred=gridS.predict(x_val_strat)\n",
    "    \n",
    "    cnf_matrix = metrics.confusion_matrix(y_val_strat, y_pred)\n",
    "    disp = ConfusionMatrixDisplay(confusion_matrix=cnf_matrix, display_labels=gridS_results.classes_)\n",
    "    results = classification_report(y_val_strat, y_pred, labels=[0,1])\n",
    "\n",
    "print(\"best hyperparameters:\",gridS_results.best_params_)\n",
    "print(\"best estimator:\",gridS_results.best_estimator_)\n",
    "print(results)\n"
   ]
  },
  {
   "cell_type": "markdown",
   "id": "9e6bb4e1",
   "metadata": {},
   "source": [
    "# Correction après soutenance "
   ]
  },
  {
   "cell_type": "markdown",
   "id": "45e29254",
   "metadata": {},
   "source": [
    "## Evaluation sur le test set "
   ]
  },
  {
   "cell_type": "code",
   "execution_count": 25,
   "id": "2a4bb6aa",
   "metadata": {},
   "outputs": [],
   "source": [
    "def benchmarck_stratkfold2(x_train, y_train,x_test,y_test):\n",
    "    skf = StratifiedKFold(n_splits=5)\n",
    "    modeles ={'lr' : LogisticRegression(max_iter=500),\n",
    "              'gaussianNB': GaussianNB(),\n",
    "              'KNClassifier ' : KNeighborsClassifier(),\n",
    "              'RandomForest ' : RandomForestClassifier(n_estimators=50, max_depth=5),\n",
    "              #'SVM': SVC(kernel='rbf'),\n",
    "              'Gboost' : GradientBoostingClassifier()}\n",
    "    \n",
    "    with tqdm(total=len(modeles)*5) as pbar: #barre pour le temps d'execution\n",
    "        \n",
    "        for model_name, model_func in modeles.items():\n",
    "            print(model_name)\n",
    "            \n",
    "            for train_index, valid_index in skf.split(x_train, y_train):\n",
    "                \n",
    "                x_train_strat, x_val_strat  = x_train.iloc[train_index], x_train.iloc[valid_index]\n",
    "                y_train_strat, y_val_strat  = y_train.iloc[train_index], y_train.iloc[valid_index]\n",
    "               \n",
    "                #model= model_func()\n",
    "                model_func.fit(x_train_strat, np.ravel(y_train_strat))\n",
    "                y_pred = model_func.predict(x_test)\n",
    "                cnf_matrix = metrics.confusion_matrix(y_test, y_pred)\n",
    "                disp = ConfusionMatrixDisplay(confusion_matrix=cnf_matrix, display_labels=model_func.classes_)\n",
    "                results = classification_report(y_test, y_pred, labels=[0,1])\n",
    "                #N, train_score, val_score = learning_curve(valeur, x_train, y_train,\n",
    "                #cv=4, scoring='f1', train_sizes=np.linspace(0.1, 1, 10))\n",
    "                pbar.update() \n",
    "                \n",
    "            print(results)\n",
    "            disp.plot()\n",
    "            plt.show()\n",
    "            #plt.figure(figsize=(12, 8))\n",
    "            #plt.plot(N, train_score.mean(axis=1), label='train_score')\n",
    "            #plt.plot(N, val_score.mean(axis=1), label='validation_score')\n",
    "            #plt.legend()\n",
    "             "
   ]
  },
  {
   "cell_type": "code",
   "execution_count": 32,
   "id": "4b464bf5",
   "metadata": {},
   "outputs": [
    {
     "name": "stderr",
     "output_type": "stream",
     "text": [
      "\r",
      "  0%|          | 0/25 [00:00<?, ?it/s]"
     ]
    },
    {
     "name": "stdout",
     "output_type": "stream",
     "text": [
      "lr\n"
     ]
    },
    {
     "name": "stderr",
     "output_type": "stream",
     "text": [
      " 20%|██        | 5/25 [02:07<08:56, 26.83s/it]"
     ]
    },
    {
     "name": "stdout",
     "output_type": "stream",
     "text": [
      "              precision    recall  f1-score   support\n",
      "\n",
      "           0       0.95      0.71      0.81     69108\n",
      "           1       0.17      0.64      0.27      6523\n",
      "\n",
      "    accuracy                           0.71     75631\n",
      "   macro avg       0.56      0.68      0.54     75631\n",
      "weighted avg       0.89      0.71      0.77     75631\n",
      "\n"
     ]
    },
    {
     "data": {
      "image/png": "[encoded data removed]",
      "text/plain": [
       "<Figure size 432x288 with 2 Axes>"
      ]
     },
     "metadata": {
      "needs_background": "light"
     },
     "output_type": "display_data"
    },
    {
     "name": "stdout",
     "output_type": "stream",
     "text": [
      "gaussianNB\n"
     ]
    },
    {
     "name": "stderr",
     "output_type": "stream",
     "text": [
      " 40%|████      | 10/25 [02:16<01:19,  5.31s/it]"
     ]
    },
    {
     "name": "stdout",
     "output_type": "stream",
     "text": [
      "              precision    recall  f1-score   support\n",
      "\n",
      "           0       0.94      0.14      0.25     69108\n",
      "           1       0.09      0.91      0.17      6523\n",
      "\n",
      "    accuracy                           0.21     75631\n",
      "   macro avg       0.52      0.53      0.21     75631\n",
      "weighted avg       0.87      0.21      0.24     75631\n",
      "\n"
     ]
    },
    {
     "data": {
      "image/png": "[encoded data removed]",
      "text/plain": [
       "<Figure size 432x288 with 2 Axes>"
      ]
     },
     "metadata": {
      "needs_background": "light"
     },
     "output_type": "display_data"
    },
    {
     "name": "stdout",
     "output_type": "stream",
     "text": [
      "KNClassifier \n"
     ]
    },
    {
     "name": "stderr",
     "output_type": "stream",
     "text": [
      " 60%|██████    | 15/25 [35:02<54:31, 327.14s/it]"
     ]
    },
    {
     "name": "stdout",
     "output_type": "stream",
     "text": [
      "              precision    recall  f1-score   support\n",
      "\n",
      "           0       0.94      0.34      0.50     69108\n",
      "           1       0.10      0.77      0.18      6523\n",
      "\n",
      "    accuracy                           0.38     75631\n",
      "   macro avg       0.52      0.55      0.34     75631\n",
      "weighted avg       0.87      0.38      0.47     75631\n",
      "\n"
     ]
    },
    {
     "data": {
      "image/png": "[encoded data removed]",
      "text/plain": [
       "<Figure size 432x288 with 2 Axes>"
      ]
     },
     "metadata": {
      "needs_background": "light"
     },
     "output_type": "display_data"
    },
    {
     "name": "stdout",
     "output_type": "stream",
     "text": [
      "RandomForest \n"
     ]
    },
    {
     "name": "stderr",
     "output_type": "stream",
     "text": [
      " 80%|████████  | 20/25 [36:57<06:10, 74.00s/it] "
     ]
    },
    {
     "name": "stdout",
     "output_type": "stream",
     "text": [
      "              precision    recall  f1-score   support\n",
      "\n",
      "           0       0.93      0.82      0.87     69108\n",
      "           1       0.16      0.35      0.22      6523\n",
      "\n",
      "    accuracy                           0.78     75631\n",
      "   macro avg       0.54      0.59      0.54     75631\n",
      "weighted avg       0.86      0.78      0.81     75631\n",
      "\n"
     ]
    },
    {
     "data": {
      "image/png": "[encoded data removed]",
      "text/plain": [
       "<Figure size 432x288 with 2 Axes>"
      ]
     },
     "metadata": {
      "needs_background": "light"
     },
     "output_type": "display_data"
    },
    {
     "name": "stdout",
     "output_type": "stream",
     "text": [
      "Gboost\n"
     ]
    },
    {
     "name": "stderr",
     "output_type": "stream",
     "text": [
      "100%|██████████| 25/25 [3:27:09<00:00, 1301.29s/it]  "
     ]
    },
    {
     "name": "stdout",
     "output_type": "stream",
     "text": [
      "              precision    recall  f1-score   support\n",
      "\n",
      "           0       0.92      0.99      0.95     69108\n",
      "           1       0.34      0.03      0.06      6523\n",
      "\n",
      "    accuracy                           0.91     75631\n",
      "   macro avg       0.63      0.51      0.51     75631\n",
      "weighted avg       0.87      0.91      0.88     75631\n",
      "\n"
     ]
    },
    {
     "data": {
      "image/png": "[encoded data removed]",
      "text/plain": [
       "<Figure size 432x288 with 2 Axes>"
      ]
     },
     "metadata": {
      "needs_background": "light"
     },
     "output_type": "display_data"
    },
    {
     "name": "stderr",
     "output_type": "stream",
     "text": [
      "100%|██████████| 25/25 [3:27:09<00:00, 497.19s/it] \n"
     ]
    }
   ],
   "source": [
    "benchmarck_stratkfold2(x_train_SMOTE, y_train_SMOTE,x_test,y_test)"
   ]
  },
  {
   "cell_type": "code",
   "execution_count": null,
   "id": "5d6002c0",
   "metadata": {},
   "outputs": [],
   "source": []
  }
 ],
 "metadata": {
  "kernelspec": {
   "display_name": "Python 3",
   "language": "python",
   "name": "python3"
  },
  "language_info": {
   "codemirror_mode": {
    "name": "ipython",
    "version": 3
   },
   "file_extension": ".py",
   "mimetype": "text/x-python",
   "name": "python",
   "nbconvert_exporter": "python",
   "pygments_lexer": "ipython3",
   "version": "3.8.8"
  }
 },
 "nbformat": 4,
 "nbformat_minor": 5
}
